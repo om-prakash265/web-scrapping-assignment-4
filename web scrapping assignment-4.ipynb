{
 "cells": [
  {
   "cell_type": "markdown",
   "metadata": {},
   "source": [
    "1. Scrape the details of most viewed videos on YouTube from Wikipedia:\n",
    "Url = https://en.wikipedia.org/wiki/List_of_most-viewed_YouTube_videos/\n",
    "You need to find following details:\n",
    "A) Rank\n",
    "B) Name\n",
    "C) Artist\n",
    "D) Upload date\n",
    "E) Views"
   ]
  },
  {
   "cell_type": "code",
   "execution_count": 1,
   "metadata": {},
   "outputs": [],
   "source": [
    "from bs4 import BeautifulSoup\n",
    "import requests \n",
    "import pandas as pd"
   ]
  },
  {
   "cell_type": "code",
   "execution_count": 25,
   "metadata": {},
   "outputs": [],
   "source": [
    "wikiurl=('https://en.wikipedia.org/wiki/List_of_most-viewed_YouTube_videos')"
   ]
  },
  {
   "cell_type": "code",
   "execution_count": 15,
   "metadata": {},
   "outputs": [],
   "source": [
    "tables=pd.read_html(wikiurl)"
   ]
  },
  {
   "cell_type": "code",
   "execution_count": 16,
   "metadata": {},
   "outputs": [
    {
     "name": "stdout",
     "output_type": "stream",
     "text": [
      "10\n"
     ]
    }
   ],
   "source": [
    "print(len(soup.find_all('table')))"
   ]
  },
  {
   "cell_type": "code",
   "execution_count": 26,
   "metadata": {},
   "outputs": [],
   "source": [
    "response=requests.get(wikiurl)"
   ]
  },
  {
   "cell_type": "code",
   "execution_count": 27,
   "metadata": {},
   "outputs": [
    {
     "name": "stdout",
     "output_type": "stream",
     "text": [
      "200\n"
     ]
    }
   ],
   "source": [
    "print(response.status_code)"
   ]
  },
  {
   "cell_type": "code",
   "execution_count": 28,
   "metadata": {},
   "outputs": [],
   "source": [
    "soup=BeautifulSoup(response.text,'html.parser')"
   ]
  },
  {
   "cell_type": "code",
   "execution_count": 35,
   "metadata": {},
   "outputs": [],
   "source": [
    "videos=soup.find('table',{'class':'wikitable'})"
   ]
  },
  {
   "cell_type": "code",
   "execution_count": 36,
   "metadata": {},
   "outputs": [],
   "source": [
    "df=pd.read_html(str(videos))"
   ]
  },
  {
   "cell_type": "code",
   "execution_count": 37,
   "metadata": {},
   "outputs": [],
   "source": [
    "df=pd.DataFrame(df[0])"
   ]
  },
  {
   "cell_type": "code",
   "execution_count": 38,
   "metadata": {},
   "outputs": [
    {
     "name": "stdout",
     "output_type": "stream",
     "text": [
      "  No.                  Video name  \\\n",
      "0  1.      \"Baby Shark Dance\"[23]   \n",
      "1  2.             \"Despacito\"[25]   \n",
      "2  3.  \"Johny Johny Yes Papa\"[26]   \n",
      "3  4.          \"Shape of You\"[27]   \n",
      "4  5.         \"See You Again\"[28]   \n",
      "\n",
      "                                      Uploader Views (billions)  \\\n",
      "0  Pinkfong Baby Shark - Kids' Songs & Stories             9.58   \n",
      "1                                   Luis Fonsi             7.61   \n",
      "2                                  LooLoo Kids             5.85   \n",
      "3                                   Ed Sheeran             5.51   \n",
      "4                                  Wiz Khalifa             5.31   \n",
      "\n",
      "        Upload date Note Unnamed: 6  \n",
      "0     June 17, 2016  [B]        NaN  \n",
      "1  January 12, 2017  [C]        NaN  \n",
      "2   October 8, 2016  [D]        NaN  \n",
      "3  January 30, 2017  [E]        NaN  \n",
      "4     April 6, 2015  [F]        NaN  \n"
     ]
    }
   ],
   "source": [
    "print(df.head())"
   ]
  },
  {
   "cell_type": "markdown",
   "metadata": {},
   "source": [
    "# 2. Scrape the details team India’s international fixtures from bcci.tv.\n",
    "Url = https://www.bcci.tv/.\n",
    "You need to find following details:\n",
    "A) Match title (I.e. 1st ODI)\n",
    "B) Series\n",
    "C) Place\n",
    "D) Date\n",
    "E) Time\n",
    "Note: - From bcci.tv home page you have reach to the international fixture page through code.\n"
   ]
  },
  {
   "cell_type": "code",
   "execution_count": 80,
   "metadata": {},
   "outputs": [],
   "source": [
    "import selenium\n",
    "import pandas as pd\n",
    "from selenium import webdriver"
   ]
  },
  {
   "cell_type": "code",
   "execution_count": 4,
   "metadata": {},
   "outputs": [],
   "source": [
    "driver =webdriver.Chrome(r'C:\\Users\\Om Prakash\\Downloads\\chromedriver_win32/chromedriver.exe')"
   ]
  },
  {
   "cell_type": "code",
   "execution_count": 5,
   "metadata": {},
   "outputs": [],
   "source": [
    "driver=webdriver.Chrome('chromedriver.exe')"
   ]
  },
  {
   "cell_type": "code",
   "execution_count": 6,
   "metadata": {},
   "outputs": [],
   "source": [
    "driver.get('https://www.bcci.tv/')"
   ]
  },
  {
   "cell_type": "code",
   "execution_count": 9,
   "metadata": {},
   "outputs": [],
   "source": [
    "search=driver.find_element_by_xpath(\"//div[@class='navigation__drop-down drop-down drop-down--reveal-on-hover']\")\n",
    "search.click()"
   ]
  },
  {
   "cell_type": "code",
   "execution_count": 10,
   "metadata": {},
   "outputs": [],
   "source": [
    "url=('https://www.bcci.tv/international/fixtures')"
   ]
  },
  {
   "cell_type": "code",
   "execution_count": 11,
   "metadata": {},
   "outputs": [],
   "source": [
    "driver.get(url)"
   ]
  },
  {
   "cell_type": "code",
   "execution_count": 50,
   "metadata": {},
   "outputs": [],
   "source": [
    "Matchtitle=[] \n",
    "Series=[] \n",
    "Place=[]\n",
    "Date_time=[]"
   ]
  },
  {
   "cell_type": "code",
   "execution_count": 51,
   "metadata": {},
   "outputs": [
    {
     "data": {
      "text/plain": [
       "[<selenium.webdriver.remote.webelement.WebElement (session=\"fa05c45c5b16790fdb283684a3be3a89\", element=\"75398609-c4a5-4f6d-8528-c39ea3c16288\")>,\n",
       " <selenium.webdriver.remote.webelement.WebElement (session=\"fa05c45c5b16790fdb283684a3be3a89\", element=\"2f42971a-abce-448a-8ab3-4d597afc4691\")>,\n",
       " <selenium.webdriver.remote.webelement.WebElement (session=\"fa05c45c5b16790fdb283684a3be3a89\", element=\"b941f2dc-2a3a-4078-a752-2d7b70702102\")>,\n",
       " <selenium.webdriver.remote.webelement.WebElement (session=\"fa05c45c5b16790fdb283684a3be3a89\", element=\"d8051134-e763-4e6e-96ae-73d82590cb01\")>,\n",
       " <selenium.webdriver.remote.webelement.WebElement (session=\"fa05c45c5b16790fdb283684a3be3a89\", element=\"0bc0a50c-c64e-4236-9229-e0cf79364068\")>,\n",
       " <selenium.webdriver.remote.webelement.WebElement (session=\"fa05c45c5b16790fdb283684a3be3a89\", element=\"ed7efcdd-c7cb-456d-a84a-9270ba0ea566\")>,\n",
       " <selenium.webdriver.remote.webelement.WebElement (session=\"fa05c45c5b16790fdb283684a3be3a89\", element=\"4d248b1b-b378-41af-84bc-67780053785f\")>,\n",
       " <selenium.webdriver.remote.webelement.WebElement (session=\"fa05c45c5b16790fdb283684a3be3a89\", element=\"0ce76ee6-22a3-49c1-8dee-d68737e2d447\")>,\n",
       " <selenium.webdriver.remote.webelement.WebElement (session=\"fa05c45c5b16790fdb283684a3be3a89\", element=\"64dd6114-9747-4bdd-b894-3ffa96d349d4\")>,\n",
       " <selenium.webdriver.remote.webelement.WebElement (session=\"fa05c45c5b16790fdb283684a3be3a89\", element=\"3a81be2b-2e87-428b-b968-d4961b0f7485\")>]"
      ]
     },
     "execution_count": 51,
     "metadata": {},
     "output_type": "execute_result"
    }
   ],
   "source": [
    "Matchtitles=driver.find_elements_by_xpath(\"//span[@class='u-unskewed-text fixture__format']\")\n",
    "Matchtitles[0:10]"
   ]
  },
  {
   "cell_type": "code",
   "execution_count": 52,
   "metadata": {},
   "outputs": [
    {
     "data": {
      "text/plain": [
       "['T20I', 'T20I', 'T20I', 'T20I', 'T20I', 'T20I', 'TEST', 'TEST', 'ODI', 'ODI']"
      ]
     },
     "execution_count": 52,
     "metadata": {},
     "output_type": "execute_result"
    }
   ],
   "source": [
    "for i in Matchtitles:\n",
    "    Matchtitle.append(i.text)\n",
    "Matchtitle    "
   ]
  },
  {
   "cell_type": "code",
   "execution_count": 65,
   "metadata": {},
   "outputs": [
    {
     "data": {
      "text/plain": [
       "[<selenium.webdriver.remote.webelement.WebElement (session=\"fa05c45c5b16790fdb283684a3be3a89\", element=\"8cf83288-5438-4a8e-b0c9-dbbb5a58783d\")>,\n",
       " <selenium.webdriver.remote.webelement.WebElement (session=\"fa05c45c5b16790fdb283684a3be3a89\", element=\"4d8ebefc-0834-4b02-acac-36164751da23\")>,\n",
       " <selenium.webdriver.remote.webelement.WebElement (session=\"fa05c45c5b16790fdb283684a3be3a89\", element=\"3c86fca1-e414-48c7-b939-bd64c34b0b3c\")>,\n",
       " <selenium.webdriver.remote.webelement.WebElement (session=\"fa05c45c5b16790fdb283684a3be3a89\", element=\"ee240c07-2369-434e-940b-732924b499a8\")>,\n",
       " <selenium.webdriver.remote.webelement.WebElement (session=\"fa05c45c5b16790fdb283684a3be3a89\", element=\"0b464d93-e4a0-4745-828d-e60fc86e21e2\")>,\n",
       " <selenium.webdriver.remote.webelement.WebElement (session=\"fa05c45c5b16790fdb283684a3be3a89\", element=\"35481c67-e120-4cdd-961e-48c95f711608\")>,\n",
       " <selenium.webdriver.remote.webelement.WebElement (session=\"fa05c45c5b16790fdb283684a3be3a89\", element=\"3acd99db-fbc7-4b2c-b668-44293dbc5c3d\")>,\n",
       " <selenium.webdriver.remote.webelement.WebElement (session=\"fa05c45c5b16790fdb283684a3be3a89\", element=\"11331ff1-92b8-4ce4-ac0b-cb66aa866866\")>,\n",
       " <selenium.webdriver.remote.webelement.WebElement (session=\"fa05c45c5b16790fdb283684a3be3a89\", element=\"a8a9f43d-a79d-49c8-ac14-7be2a9ae7e4d\")>,\n",
       " <selenium.webdriver.remote.webelement.WebElement (session=\"fa05c45c5b16790fdb283684a3be3a89\", element=\"dae094ec-105b-4a22-99aa-7a673ca8fd7e\")>]"
      ]
     },
     "execution_count": 65,
     "metadata": {},
     "output_type": "execute_result"
    }
   ],
   "source": [
    "Seriess=driver.find_elements_by_xpath(\"//span[@class='u-unskewed-text fixture__tournament-label u-truncated']\")\n",
    "Seriess"
   ]
  },
  {
   "cell_type": "code",
   "execution_count": 66,
   "metadata": {},
   "outputs": [
    {
     "data": {
      "text/plain": [
       "[\"2021 ICC MEN'S T20 WORLD CUP\",\n",
       " \"2021 ICC MEN'S T20 WORLD CUP\",\n",
       " \"2021 ICC MEN'S T20 WORLD CUP\",\n",
       " 'INDIA V NEW ZEALAND 2021',\n",
       " 'INDIA V NEW ZEALAND 2021',\n",
       " 'INDIA V NEW ZEALAND 2021',\n",
       " 'INDIA V NEW ZEALAND 2021',\n",
       " 'INDIA V NEW ZEALAND 2021',\n",
       " 'INDIA V WEST INDIES 2022',\n",
       " 'INDIA V WEST INDIES 2022']"
      ]
     },
     "execution_count": 66,
     "metadata": {},
     "output_type": "execute_result"
    }
   ],
   "source": [
    "for i in Seriess:\n",
    "    Series.append(i.text)\n",
    "Series[10:21]    "
   ]
  },
  {
   "cell_type": "code",
   "execution_count": 63,
   "metadata": {},
   "outputs": [
    {
     "data": {
      "text/plain": [
       "[<selenium.webdriver.remote.webelement.WebElement (session=\"fa05c45c5b16790fdb283684a3be3a89\", element=\"a9537480-6acb-4efc-bb5a-aa0a2bdfa054\")>,\n",
       " <selenium.webdriver.remote.webelement.WebElement (session=\"fa05c45c5b16790fdb283684a3be3a89\", element=\"52a234f7-4d2a-439a-8bd0-3c2453836aca\")>,\n",
       " <selenium.webdriver.remote.webelement.WebElement (session=\"fa05c45c5b16790fdb283684a3be3a89\", element=\"0b5a9bb6-b496-4d77-a065-0cbbac6210c2\")>,\n",
       " <selenium.webdriver.remote.webelement.WebElement (session=\"fa05c45c5b16790fdb283684a3be3a89\", element=\"141a310b-dc7a-4190-a7c6-341d71972d33\")>,\n",
       " <selenium.webdriver.remote.webelement.WebElement (session=\"fa05c45c5b16790fdb283684a3be3a89\", element=\"ff233e10-0c75-4450-b5f9-edf316634f71\")>,\n",
       " <selenium.webdriver.remote.webelement.WebElement (session=\"fa05c45c5b16790fdb283684a3be3a89\", element=\"e152de81-ef40-40fa-b81d-3c00cccf7081\")>,\n",
       " <selenium.webdriver.remote.webelement.WebElement (session=\"fa05c45c5b16790fdb283684a3be3a89\", element=\"662214af-8252-480b-bbfe-b13bef1e4280\")>,\n",
       " <selenium.webdriver.remote.webelement.WebElement (session=\"fa05c45c5b16790fdb283684a3be3a89\", element=\"4db866a1-61ae-4887-90a8-be8bca46d6eb\")>,\n",
       " <selenium.webdriver.remote.webelement.WebElement (session=\"fa05c45c5b16790fdb283684a3be3a89\", element=\"c347979a-bd14-4ff6-8ac3-e80a46d0fb04\")>,\n",
       " <selenium.webdriver.remote.webelement.WebElement (session=\"fa05c45c5b16790fdb283684a3be3a89\", element=\"4365f8bd-d256-4f74-b9f3-fdcb6bbdadd6\")>]"
      ]
     },
     "execution_count": 63,
     "metadata": {},
     "output_type": "execute_result"
    }
   ],
   "source": [
    "Places=driver.find_elements_by_xpath(\"//p[@class='fixture__additional-info']\")\n",
    "Places"
   ]
  },
  {
   "cell_type": "code",
   "execution_count": 64,
   "metadata": {},
   "outputs": [
    {
     "data": {
      "text/plain": [
       "['Match 33 Zayed Cricket Stadium, Abu Dhabi',\n",
       " 'Match 37 Dubai International Stadium, Dubai',\n",
       " 'Match 42 Dubai International Stadium, Dubai',\n",
       " '1st T20I Sawai Mansingh Stadium, Jaipur',\n",
       " '2nd T20I JSCA International Stadium Complex, Ranchi',\n",
       " '3rd T20I Eden Gardens, Kolkata',\n",
       " '1st Test Green Park, Kanpur',\n",
       " '2nd Test Wankhede Stadium, Mumbai',\n",
       " '1st ODI Narendra Modi Stadium, Ahmedabad',\n",
       " '2nd ODI Sawai Mansingh Stadium, Jaipur']"
      ]
     },
     "execution_count": 64,
     "metadata": {},
     "output_type": "execute_result"
    }
   ],
   "source": [
    " for i in Places:\n",
    "        Place.append(i.text)\n",
    "Place[10:21]      "
   ]
  },
  {
   "cell_type": "code",
   "execution_count": 60,
   "metadata": {},
   "outputs": [
    {
     "data": {
      "text/plain": [
       "[<selenium.webdriver.remote.webelement.WebElement (session=\"fa05c45c5b16790fdb283684a3be3a89\", element=\"976002b9-e3d8-4b74-a537-bf928f35a8e4\")>,\n",
       " <selenium.webdriver.remote.webelement.WebElement (session=\"fa05c45c5b16790fdb283684a3be3a89\", element=\"cec61227-f6b7-45b3-b41e-1e3556ddcf63\")>,\n",
       " <selenium.webdriver.remote.webelement.WebElement (session=\"fa05c45c5b16790fdb283684a3be3a89\", element=\"2489a403-dae3-49c8-ade9-dfdff35c62ed\")>,\n",
       " <selenium.webdriver.remote.webelement.WebElement (session=\"fa05c45c5b16790fdb283684a3be3a89\", element=\"56b0c4f1-9ff9-4972-a13f-c6be559b886b\")>,\n",
       " <selenium.webdriver.remote.webelement.WebElement (session=\"fa05c45c5b16790fdb283684a3be3a89\", element=\"9e4fee1a-9b75-4673-9ed5-771baa5e232f\")>,\n",
       " <selenium.webdriver.remote.webelement.WebElement (session=\"fa05c45c5b16790fdb283684a3be3a89\", element=\"1fb5b74c-dc2b-4397-93f4-7f72796c63b8\")>,\n",
       " <selenium.webdriver.remote.webelement.WebElement (session=\"fa05c45c5b16790fdb283684a3be3a89\", element=\"55d70cdf-adac-4a87-90ce-e2892c509d0a\")>,\n",
       " <selenium.webdriver.remote.webelement.WebElement (session=\"fa05c45c5b16790fdb283684a3be3a89\", element=\"812c9a4a-a4dc-480f-b2d6-1d3d558b4234\")>,\n",
       " <selenium.webdriver.remote.webelement.WebElement (session=\"fa05c45c5b16790fdb283684a3be3a89\", element=\"22f3ed24-26c4-4023-a6c1-da30c5ee0e18\")>,\n",
       " <selenium.webdriver.remote.webelement.WebElement (session=\"fa05c45c5b16790fdb283684a3be3a89\", element=\"6308cb92-b384-4fff-8511-3db16d71c878\")>]"
      ]
     },
     "execution_count": 60,
     "metadata": {},
     "output_type": "execute_result"
    }
   ],
   "source": [
    "Date_times=driver.find_elements_by_xpath(\"//span[@class='fixture__datetime tablet-only']\")\n",
    "Date_times"
   ]
  },
  {
   "cell_type": "code",
   "execution_count": 61,
   "metadata": {},
   "outputs": [
    {
     "data": {
      "text/plain": [
       "['Wednesday 3rd November 19:30 IST',\n",
       " 'Friday 5th November 19:30 IST',\n",
       " 'Monday 8th November 19:30 IST',\n",
       " 'Wednesday 17th November',\n",
       " 'Friday 19th November',\n",
       " 'Sunday 21st November',\n",
       " 'Thursday 25th November',\n",
       " 'Friday 3rd December',\n",
       " 'Sunday 6th February',\n",
       " 'Wednesday 9th February']"
      ]
     },
     "execution_count": 61,
     "metadata": {},
     "output_type": "execute_result"
    }
   ],
   "source": [
    "for i in Date_times:\n",
    "    Date_time.append(i.text)\n",
    "Date_time[10:21]   "
   ]
  },
  {
   "cell_type": "code",
   "execution_count": 67,
   "metadata": {},
   "outputs": [
    {
     "data": {
      "text/html": [
       "<div>\n",
       "<style scoped>\n",
       "    .dataframe tbody tr th:only-of-type {\n",
       "        vertical-align: middle;\n",
       "    }\n",
       "\n",
       "    .dataframe tbody tr th {\n",
       "        vertical-align: top;\n",
       "    }\n",
       "\n",
       "    .dataframe thead th {\n",
       "        text-align: right;\n",
       "    }\n",
       "</style>\n",
       "<table border=\"1\" class=\"dataframe\">\n",
       "  <thead>\n",
       "    <tr style=\"text-align: right;\">\n",
       "      <th></th>\n",
       "      <th>Matchtitle</th>\n",
       "      <th>Series</th>\n",
       "      <th>Place</th>\n",
       "      <th>Date_time</th>\n",
       "    </tr>\n",
       "  </thead>\n",
       "  <tbody>\n",
       "    <tr>\n",
       "      <th>0</th>\n",
       "      <td>T20I</td>\n",
       "      <td>2021 ICC MEN'S T20 WORLD CUP</td>\n",
       "      <td>Match 33 Zayed Cricket Stadium, Abu Dhabi</td>\n",
       "      <td>Wednesday 3rd November 19:30 IST</td>\n",
       "    </tr>\n",
       "    <tr>\n",
       "      <th>1</th>\n",
       "      <td>T20I</td>\n",
       "      <td>2021 ICC MEN'S T20 WORLD CUP</td>\n",
       "      <td>Match 37 Dubai International Stadium, Dubai</td>\n",
       "      <td>Friday 5th November 19:30 IST</td>\n",
       "    </tr>\n",
       "    <tr>\n",
       "      <th>2</th>\n",
       "      <td>T20I</td>\n",
       "      <td>2021 ICC MEN'S T20 WORLD CUP</td>\n",
       "      <td>Match 42 Dubai International Stadium, Dubai</td>\n",
       "      <td>Monday 8th November 19:30 IST</td>\n",
       "    </tr>\n",
       "    <tr>\n",
       "      <th>3</th>\n",
       "      <td>T20I</td>\n",
       "      <td>INDIA V NEW ZEALAND 2021</td>\n",
       "      <td>1st T20I Sawai Mansingh Stadium, Jaipur</td>\n",
       "      <td>Wednesday 17th November</td>\n",
       "    </tr>\n",
       "    <tr>\n",
       "      <th>4</th>\n",
       "      <td>T20I</td>\n",
       "      <td>INDIA V NEW ZEALAND 2021</td>\n",
       "      <td>2nd T20I JSCA International Stadium Complex, R...</td>\n",
       "      <td>Friday 19th November</td>\n",
       "    </tr>\n",
       "    <tr>\n",
       "      <th>5</th>\n",
       "      <td>T20I</td>\n",
       "      <td>INDIA V NEW ZEALAND 2021</td>\n",
       "      <td>3rd T20I Eden Gardens, Kolkata</td>\n",
       "      <td>Sunday 21st November</td>\n",
       "    </tr>\n",
       "    <tr>\n",
       "      <th>6</th>\n",
       "      <td>TEST</td>\n",
       "      <td>INDIA V NEW ZEALAND 2021</td>\n",
       "      <td>1st Test Green Park, Kanpur</td>\n",
       "      <td>Thursday 25th November</td>\n",
       "    </tr>\n",
       "    <tr>\n",
       "      <th>7</th>\n",
       "      <td>TEST</td>\n",
       "      <td>INDIA V NEW ZEALAND 2021</td>\n",
       "      <td>2nd Test Wankhede Stadium, Mumbai</td>\n",
       "      <td>Friday 3rd December</td>\n",
       "    </tr>\n",
       "    <tr>\n",
       "      <th>8</th>\n",
       "      <td>ODI</td>\n",
       "      <td>INDIA V WEST INDIES 2022</td>\n",
       "      <td>1st ODI Narendra Modi Stadium, Ahmedabad</td>\n",
       "      <td>Sunday 6th February</td>\n",
       "    </tr>\n",
       "    <tr>\n",
       "      <th>9</th>\n",
       "      <td>ODI</td>\n",
       "      <td>INDIA V WEST INDIES 2022</td>\n",
       "      <td>2nd ODI Sawai Mansingh Stadium, Jaipur</td>\n",
       "      <td>Wednesday 9th February</td>\n",
       "    </tr>\n",
       "  </tbody>\n",
       "</table>\n",
       "</div>"
      ],
      "text/plain": [
       "  Matchtitle                        Series  \\\n",
       "0       T20I  2021 ICC MEN'S T20 WORLD CUP   \n",
       "1       T20I  2021 ICC MEN'S T20 WORLD CUP   \n",
       "2       T20I  2021 ICC MEN'S T20 WORLD CUP   \n",
       "3       T20I      INDIA V NEW ZEALAND 2021   \n",
       "4       T20I      INDIA V NEW ZEALAND 2021   \n",
       "5       T20I      INDIA V NEW ZEALAND 2021   \n",
       "6       TEST      INDIA V NEW ZEALAND 2021   \n",
       "7       TEST      INDIA V NEW ZEALAND 2021   \n",
       "8        ODI      INDIA V WEST INDIES 2022   \n",
       "9        ODI      INDIA V WEST INDIES 2022   \n",
       "\n",
       "                                               Place  \\\n",
       "0          Match 33 Zayed Cricket Stadium, Abu Dhabi   \n",
       "1        Match 37 Dubai International Stadium, Dubai   \n",
       "2        Match 42 Dubai International Stadium, Dubai   \n",
       "3            1st T20I Sawai Mansingh Stadium, Jaipur   \n",
       "4  2nd T20I JSCA International Stadium Complex, R...   \n",
       "5                     3rd T20I Eden Gardens, Kolkata   \n",
       "6                        1st Test Green Park, Kanpur   \n",
       "7                  2nd Test Wankhede Stadium, Mumbai   \n",
       "8           1st ODI Narendra Modi Stadium, Ahmedabad   \n",
       "9             2nd ODI Sawai Mansingh Stadium, Jaipur   \n",
       "\n",
       "                          Date_time  \n",
       "0  Wednesday 3rd November 19:30 IST  \n",
       "1     Friday 5th November 19:30 IST  \n",
       "2     Monday 8th November 19:30 IST  \n",
       "3           Wednesday 17th November  \n",
       "4              Friday 19th November  \n",
       "5              Sunday 21st November  \n",
       "6            Thursday 25th November  \n",
       "7               Friday 3rd December  \n",
       "8               Sunday 6th February  \n",
       "9            Wednesday 9th February  "
      ]
     },
     "execution_count": 67,
     "metadata": {},
     "output_type": "execute_result"
    }
   ],
   "source": [
    "cricket=pd.DataFrame({})\n",
    "cricket['Matchtitle']=Matchtitle\n",
    "cricket['Series']=Series[10:21] \n",
    "cricket['Place']=Place[10:21]\n",
    "cricket['Date_time']=Date_time[10:21]\n",
    "cricket"
   ]
  },
  {
   "cell_type": "markdown",
   "metadata": {},
   "source": [
    "# 3. Scrape the details of selenium exception from guru99.com.\n",
    "Url = https://www.guru99.com/\n",
    "You need to find following details:\n",
    "A) Name\n",
    "B) Description\n",
    "Note: - From guru99 home page you have to reach to selenium exception handling page through code.\n"
   ]
  },
  {
   "cell_type": "code",
   "execution_count": 5,
   "metadata": {},
   "outputs": [],
   "source": [
    "driver =webdriver.Chrome(r'C:\\Users\\Om Prakash\\Downloads\\chromedriver_win32/chromedriver.exe')"
   ]
  },
  {
   "cell_type": "code",
   "execution_count": 6,
   "metadata": {},
   "outputs": [],
   "source": [
    "driver=webdriver.Chrome('chromedriver.exe')"
   ]
  },
  {
   "cell_type": "code",
   "execution_count": 7,
   "metadata": {},
   "outputs": [],
   "source": [
    "driver.get(\"https://www.guru99.com/\")"
   ]
  },
  {
   "cell_type": "code",
   "execution_count": 11,
   "metadata": {},
   "outputs": [],
   "source": [
    "search_job=driver.find_element_by_xpath(\"//input[@class='gsc-input']\")\n",
    "search_job.send_keys('selenium exception handling')"
   ]
  },
  {
   "cell_type": "code",
   "execution_count": 12,
   "metadata": {},
   "outputs": [],
   "source": [
    "search=driver.find_element_by_xpath(\"//td[@class='gsc-search-button']\")\n",
    "search.click()"
   ]
  },
  {
   "cell_type": "code",
   "execution_count": 15,
   "metadata": {},
   "outputs": [],
   "source": [
    "search=driver.find_element_by_xpath(\"//a[@class='gs-title']\")\n",
    "search.click()"
   ]
  },
  {
   "cell_type": "code",
   "execution_count": 16,
   "metadata": {},
   "outputs": [],
   "source": [
    "selurl=('https://www.guru99.com/exception-handling-selenium.html')"
   ]
  },
  {
   "cell_type": "code",
   "execution_count": 17,
   "metadata": {},
   "outputs": [],
   "source": [
    "table=pd.read_html(selurl)"
   ]
  },
  {
   "cell_type": "code",
   "execution_count": 19,
   "metadata": {},
   "outputs": [],
   "source": [
    "response=requests.get(selurl)"
   ]
  },
  {
   "cell_type": "code",
   "execution_count": 20,
   "metadata": {},
   "outputs": [],
   "source": [
    "soup=BeautifulSoup(response.text,'html.parser')"
   ]
  },
  {
   "cell_type": "code",
   "execution_count": 22,
   "metadata": {},
   "outputs": [],
   "source": [
    "video=soup.find('table',{'class':'table table-striped'})"
   ]
  },
  {
   "cell_type": "code",
   "execution_count": 23,
   "metadata": {},
   "outputs": [],
   "source": [
    "pdf=pd.read_html(str(video))"
   ]
  },
  {
   "cell_type": "code",
   "execution_count": 25,
   "metadata": {},
   "outputs": [],
   "source": [
    "pdf=pd.DataFrame(pdf[0])"
   ]
  },
  {
   "cell_type": "code",
   "execution_count": 26,
   "metadata": {},
   "outputs": [
    {
     "name": "stdout",
     "output_type": "stream",
     "text": [
      "                  Exception name  \\\n",
      "0     ElementNotVisibleException   \n",
      "1  ElementNotSelectableException   \n",
      "2         NoSuchElementException   \n",
      "3           NoSuchFrameException   \n",
      "4        NoAlertPresentException   \n",
      "\n",
      "                                         Description  \n",
      "0  This type of Selenium exception occurs when an...  \n",
      "1  This Selenium exception occurs when an element...  \n",
      "2  This Exception occurs if an element could not ...  \n",
      "3  This Exception occurs if the frame target to b...  \n",
      "4  This Exception occurs when you switch to no pr...  \n"
     ]
    }
   ],
   "source": [
    "print(pdf.head())"
   ]
  },
  {
   "cell_type": "markdown",
   "metadata": {},
   "source": [
    "# 4. Scrape the details of State-wise GDP of India from statisticstime.com.\n",
    "Url = http://statisticstimes.com/\n",
    "You have to find following details:\n",
    "A) Rank\n",
    "B) State\n",
    "C) GSDP at current price (19-20)\n",
    "D) GSDP at current price (18-19)\n",
    "E) Share(18-19)\n",
    "F) GDP($ billion)\n",
    "Note: - From statisticstimes home page you have to reach to economy page through code.\n"
   ]
  },
  {
   "cell_type": "code",
   "execution_count": 6,
   "metadata": {},
   "outputs": [],
   "source": [
    "from selenium import webdriver\n",
    "from selenium.webdriver.support.ui import WebDriverWait\n",
    "from selenium.webdriver.common.by import By\n",
    "from selenium.webdriver.support import expected_conditions as EC"
   ]
  },
  {
   "cell_type": "code",
   "execution_count": 30,
   "metadata": {},
   "outputs": [],
   "source": [
    "driver =webdriver.Chrome(r'C:\\Users\\Om Prakash\\Downloads\\chromedriver_win32/chromedriver.exe')"
   ]
  },
  {
   "cell_type": "code",
   "execution_count": 31,
   "metadata": {},
   "outputs": [],
   "source": [
    "driver=webdriver.Chrome('chromedriver.exe')"
   ]
  },
  {
   "cell_type": "code",
   "execution_count": 32,
   "metadata": {},
   "outputs": [],
   "source": [
    "driver.get('http://statisticstimes.com/')"
   ]
  },
  {
   "cell_type": "code",
   "execution_count": 33,
   "metadata": {},
   "outputs": [],
   "source": [
    "search=driver.find_element_by_xpath(\"//button[@class='dropbtn']\")\n",
    "search.click()"
   ]
  },
  {
   "cell_type": "code",
   "execution_count": 14,
   "metadata": {},
   "outputs": [],
   "source": [
    "staturl=('https://www.statisticstimes.com/economy/india/indian-states-gdp.php')"
   ]
  },
  {
   "cell_type": "code",
   "execution_count": 15,
   "metadata": {},
   "outputs": [],
   "source": [
    "sta=pd.read_html(staturl)"
   ]
  },
  {
   "cell_type": "code",
   "execution_count": 18,
   "metadata": {},
   "outputs": [],
   "source": [
    "respons=requests.get(staturl)"
   ]
  },
  {
   "cell_type": "code",
   "execution_count": 20,
   "metadata": {},
   "outputs": [],
   "source": [
    "soup=BeautifulSoup(respons.text,'html.parser')"
   ]
  },
  {
   "cell_type": "code",
   "execution_count": 21,
   "metadata": {},
   "outputs": [],
   "source": [
    "vid=soup.find('table',{'class':'display dataTable'})"
   ]
  },
  {
   "cell_type": "code",
   "execution_count": 52,
   "metadata": {},
   "outputs": [],
   "source": [
    "rank=[]\n",
    "state=[] \n",
    "share18_19=[]\n",
    "GSDPatcurrentprice_19_20=[]\n",
    "GSDP_at_current_price_18_19=[]"
   ]
  },
  {
   "cell_type": "code",
   "execution_count": 34,
   "metadata": {},
   "outputs": [
    {
     "data": {
      "text/plain": [
       "[<selenium.webdriver.remote.webelement.WebElement (session=\"bada17af6006a2f27806cbd1df388009\", element=\"8ea1b6cd-63f7-4216-a732-688b16f85beb\")>,\n",
       " <selenium.webdriver.remote.webelement.WebElement (session=\"bada17af6006a2f27806cbd1df388009\", element=\"b21cc2bf-cba5-4438-bd39-682e1ea95897\")>,\n",
       " <selenium.webdriver.remote.webelement.WebElement (session=\"bada17af6006a2f27806cbd1df388009\", element=\"c055f2da-bf91-4829-9c15-03e35a3f4518\")>,\n",
       " <selenium.webdriver.remote.webelement.WebElement (session=\"bada17af6006a2f27806cbd1df388009\", element=\"d7734b57-e810-40be-858b-0f6ddd46cbe5\")>,\n",
       " <selenium.webdriver.remote.webelement.WebElement (session=\"bada17af6006a2f27806cbd1df388009\", element=\"e0ecf080-77a0-453b-84a5-7ddb9b860cdb\")>,\n",
       " <selenium.webdriver.remote.webelement.WebElement (session=\"bada17af6006a2f27806cbd1df388009\", element=\"96f13d00-86fa-46ce-9473-6d1736596b1a\")>,\n",
       " <selenium.webdriver.remote.webelement.WebElement (session=\"bada17af6006a2f27806cbd1df388009\", element=\"d8961084-f960-46c3-9812-daabbac024a3\")>,\n",
       " <selenium.webdriver.remote.webelement.WebElement (session=\"bada17af6006a2f27806cbd1df388009\", element=\"9c933674-4ebd-4629-a2d8-30e4e198da26\")>,\n",
       " <selenium.webdriver.remote.webelement.WebElement (session=\"bada17af6006a2f27806cbd1df388009\", element=\"c1a86149-35a4-4305-85f4-ddc8436fb193\")>,\n",
       " <selenium.webdriver.remote.webelement.WebElement (session=\"bada17af6006a2f27806cbd1df388009\", element=\"0439d464-26e2-4203-b197-5bb14fd4567f\")>,\n",
       " <selenium.webdriver.remote.webelement.WebElement (session=\"bada17af6006a2f27806cbd1df388009\", element=\"51e229b1-ae1a-45b3-94ab-c93b602fb14f\")>,\n",
       " <selenium.webdriver.remote.webelement.WebElement (session=\"bada17af6006a2f27806cbd1df388009\", element=\"339bfc9f-317b-4cfb-a3a2-4909d20c1de0\")>,\n",
       " <selenium.webdriver.remote.webelement.WebElement (session=\"bada17af6006a2f27806cbd1df388009\", element=\"45f36b7f-1c33-42d4-bbe0-d618ac78269f\")>,\n",
       " <selenium.webdriver.remote.webelement.WebElement (session=\"bada17af6006a2f27806cbd1df388009\", element=\"89ff90cc-ae04-404b-a045-3c929888b6d7\")>,\n",
       " <selenium.webdriver.remote.webelement.WebElement (session=\"bada17af6006a2f27806cbd1df388009\", element=\"ab51723e-1800-4494-92b5-662615a54340\")>,\n",
       " <selenium.webdriver.remote.webelement.WebElement (session=\"bada17af6006a2f27806cbd1df388009\", element=\"e615ef29-ccf7-4213-8ab0-a893a00ce0e0\")>,\n",
       " <selenium.webdriver.remote.webelement.WebElement (session=\"bada17af6006a2f27806cbd1df388009\", element=\"3d2703cc-a046-4f57-9d7c-912721228256\")>,\n",
       " <selenium.webdriver.remote.webelement.WebElement (session=\"bada17af6006a2f27806cbd1df388009\", element=\"4cad68a1-ba39-46cd-982f-4c8429bbd660\")>,\n",
       " <selenium.webdriver.remote.webelement.WebElement (session=\"bada17af6006a2f27806cbd1df388009\", element=\"afabc92d-a42c-4cbd-947d-01338bd201f3\")>,\n",
       " <selenium.webdriver.remote.webelement.WebElement (session=\"bada17af6006a2f27806cbd1df388009\", element=\"e21f9ed3-8c3d-410b-b3b2-85dff9862646\")>,\n",
       " <selenium.webdriver.remote.webelement.WebElement (session=\"bada17af6006a2f27806cbd1df388009\", element=\"f5aa9923-dfa9-4eed-8fd1-b2d92fefa6e3\")>,\n",
       " <selenium.webdriver.remote.webelement.WebElement (session=\"bada17af6006a2f27806cbd1df388009\", element=\"eac9346c-7d75-4b11-aef9-14da506a55b3\")>,\n",
       " <selenium.webdriver.remote.webelement.WebElement (session=\"bada17af6006a2f27806cbd1df388009\", element=\"a862f21e-9da5-426e-87db-eba50794cfbe\")>,\n",
       " <selenium.webdriver.remote.webelement.WebElement (session=\"bada17af6006a2f27806cbd1df388009\", element=\"cdcafd94-f8e0-4c23-8351-a1dd28090098\")>,\n",
       " <selenium.webdriver.remote.webelement.WebElement (session=\"bada17af6006a2f27806cbd1df388009\", element=\"03d9b910-f1d7-4004-a78d-1c433d7e2ffe\")>,\n",
       " <selenium.webdriver.remote.webelement.WebElement (session=\"bada17af6006a2f27806cbd1df388009\", element=\"ceba082a-08ae-45a9-9b24-594acb6355dd\")>,\n",
       " <selenium.webdriver.remote.webelement.WebElement (session=\"bada17af6006a2f27806cbd1df388009\", element=\"4f0176c9-4e1b-4055-83b3-75ea626b620a\")>,\n",
       " <selenium.webdriver.remote.webelement.WebElement (session=\"bada17af6006a2f27806cbd1df388009\", element=\"967162c2-881c-42c9-b53f-e6c406daebe2\")>,\n",
       " <selenium.webdriver.remote.webelement.WebElement (session=\"bada17af6006a2f27806cbd1df388009\", element=\"2342e6da-fd6b-4b1d-99fe-f62778a3ea2e\")>,\n",
       " <selenium.webdriver.remote.webelement.WebElement (session=\"bada17af6006a2f27806cbd1df388009\", element=\"1bf339d7-5ad1-403e-850b-1d0d873561a2\")>,\n",
       " <selenium.webdriver.remote.webelement.WebElement (session=\"bada17af6006a2f27806cbd1df388009\", element=\"68d8be79-0865-4493-9553-8a88b67485c3\")>,\n",
       " <selenium.webdriver.remote.webelement.WebElement (session=\"bada17af6006a2f27806cbd1df388009\", element=\"66fb968f-ccb6-4973-b279-91612df564b4\")>,\n",
       " <selenium.webdriver.remote.webelement.WebElement (session=\"bada17af6006a2f27806cbd1df388009\", element=\"7cfa1e0b-0eda-4525-b303-40f832bfa268\")>]"
      ]
     },
     "execution_count": 34,
     "metadata": {},
     "output_type": "execute_result"
    }
   ],
   "source": [
    "ranks=driver.find_elements_by_xpath(\"//td[@class='data1']\")\n",
    "ranks[0:33]"
   ]
  },
  {
   "cell_type": "code",
   "execution_count": 55,
   "metadata": {},
   "outputs": [
    {
     "ename": "AttributeError",
     "evalue": "'list' object has no attribute 'appen'",
     "output_type": "error",
     "traceback": [
      "\u001b[1;31m---------------------------------------------------------------------------\u001b[0m",
      "\u001b[1;31mAttributeError\u001b[0m                            Traceback (most recent call last)",
      "\u001b[1;32m<ipython-input-55-e571685ee43f>\u001b[0m in \u001b[0;36m<module>\u001b[1;34m\u001b[0m\n\u001b[0;32m      1\u001b[0m \u001b[1;32mfor\u001b[0m \u001b[0mi\u001b[0m \u001b[1;32min\u001b[0m \u001b[0mranks\u001b[0m\u001b[1;33m:\u001b[0m\u001b[1;33m\u001b[0m\u001b[1;33m\u001b[0m\u001b[0m\n\u001b[1;32m----> 2\u001b[1;33m     \u001b[0mrank\u001b[0m\u001b[1;33m.\u001b[0m\u001b[0mappen\u001b[0m\u001b[1;33m(\u001b[0m\u001b[0mi\u001b[0m\u001b[1;33m.\u001b[0m\u001b[0mtext\u001b[0m\u001b[1;33m)\u001b[0m\u001b[1;33m\u001b[0m\u001b[1;33m\u001b[0m\u001b[0m\n\u001b[0m\u001b[0;32m      3\u001b[0m \u001b[0mrank\u001b[0m\u001b[1;33m[\u001b[0m\u001b[1;36m0\u001b[0m\u001b[1;33m:\u001b[0m\u001b[1;36m33\u001b[0m\u001b[1;33m]\u001b[0m\u001b[1;33m\u001b[0m\u001b[1;33m\u001b[0m\u001b[0m\n",
      "\u001b[1;31mAttributeError\u001b[0m: 'list' object has no attribute 'appen'"
     ]
    }
   ],
   "source": [
    "for i in ranks:\n",
    "    rank.append(i.text)\n",
    "rank[0:33] "
   ]
  },
  {
   "cell_type": "code",
   "execution_count": 57,
   "metadata": {},
   "outputs": [
    {
     "data": {
      "text/plain": [
       "[<selenium.webdriver.remote.webelement.WebElement (session=\"bada17af6006a2f27806cbd1df388009\", element=\"23684f51-3d3d-4164-9b3e-2b44dd8dc0ff\")>,\n",
       " <selenium.webdriver.remote.webelement.WebElement (session=\"bada17af6006a2f27806cbd1df388009\", element=\"f58ec01f-6781-4a21-8ae8-349e874c0425\")>,\n",
       " <selenium.webdriver.remote.webelement.WebElement (session=\"bada17af6006a2f27806cbd1df388009\", element=\"e5e1b0fd-55ea-47b4-8742-75764b80fe09\")>,\n",
       " <selenium.webdriver.remote.webelement.WebElement (session=\"bada17af6006a2f27806cbd1df388009\", element=\"955b5c9d-9ff8-46cb-bdac-9e5cd8511ef2\")>,\n",
       " <selenium.webdriver.remote.webelement.WebElement (session=\"bada17af6006a2f27806cbd1df388009\", element=\"4f3f3e4f-5599-4296-a8ff-cec6d0e79fbd\")>,\n",
       " <selenium.webdriver.remote.webelement.WebElement (session=\"bada17af6006a2f27806cbd1df388009\", element=\"7003a879-42d9-4147-8e6d-8d4df5a83b18\")>,\n",
       " <selenium.webdriver.remote.webelement.WebElement (session=\"bada17af6006a2f27806cbd1df388009\", element=\"bdede2c7-11ee-4c39-b65d-5eded5f69ec4\")>,\n",
       " <selenium.webdriver.remote.webelement.WebElement (session=\"bada17af6006a2f27806cbd1df388009\", element=\"7fd07dac-0f1d-413e-825d-b9c25d030d1f\")>,\n",
       " <selenium.webdriver.remote.webelement.WebElement (session=\"bada17af6006a2f27806cbd1df388009\", element=\"cb963672-bfb3-4a95-9122-af8ac64fd344\")>,\n",
       " <selenium.webdriver.remote.webelement.WebElement (session=\"bada17af6006a2f27806cbd1df388009\", element=\"5c791605-5c61-4690-aed5-cae98c24eb5f\")>,\n",
       " <selenium.webdriver.remote.webelement.WebElement (session=\"bada17af6006a2f27806cbd1df388009\", element=\"40dccc09-4103-4630-af7b-41c04830609f\")>,\n",
       " <selenium.webdriver.remote.webelement.WebElement (session=\"bada17af6006a2f27806cbd1df388009\", element=\"2fd60f23-7493-43b2-a167-8120abc487d4\")>,\n",
       " <selenium.webdriver.remote.webelement.WebElement (session=\"bada17af6006a2f27806cbd1df388009\", element=\"57e25811-e683-4da7-9cb0-1a04afa0c1d5\")>,\n",
       " <selenium.webdriver.remote.webelement.WebElement (session=\"bada17af6006a2f27806cbd1df388009\", element=\"ba215377-9bb9-4e63-9440-47e4741df2ea\")>,\n",
       " <selenium.webdriver.remote.webelement.WebElement (session=\"bada17af6006a2f27806cbd1df388009\", element=\"8f6c22af-ef50-4927-8460-cd320de2b5a8\")>,\n",
       " <selenium.webdriver.remote.webelement.WebElement (session=\"bada17af6006a2f27806cbd1df388009\", element=\"5c726210-b588-4456-8e9d-fbf175f9a5b4\")>,\n",
       " <selenium.webdriver.remote.webelement.WebElement (session=\"bada17af6006a2f27806cbd1df388009\", element=\"5dd9ca86-e29a-46cc-89ee-c22080d0349d\")>,\n",
       " <selenium.webdriver.remote.webelement.WebElement (session=\"bada17af6006a2f27806cbd1df388009\", element=\"0bc18263-13f4-4fde-a3d8-570925d3658a\")>,\n",
       " <selenium.webdriver.remote.webelement.WebElement (session=\"bada17af6006a2f27806cbd1df388009\", element=\"f794817d-4cbe-4450-9d90-1483f001b49e\")>,\n",
       " <selenium.webdriver.remote.webelement.WebElement (session=\"bada17af6006a2f27806cbd1df388009\", element=\"7940218b-6299-47ed-91a2-4be7b7f2b06b\")>,\n",
       " <selenium.webdriver.remote.webelement.WebElement (session=\"bada17af6006a2f27806cbd1df388009\", element=\"2f117138-14a4-4df0-afc9-17fe2d5b70d9\")>,\n",
       " <selenium.webdriver.remote.webelement.WebElement (session=\"bada17af6006a2f27806cbd1df388009\", element=\"08b1fa20-8ee7-4509-b108-93e9ec862840\")>,\n",
       " <selenium.webdriver.remote.webelement.WebElement (session=\"bada17af6006a2f27806cbd1df388009\", element=\"fcbd7669-5dc2-499c-a09b-55099ee7f319\")>,\n",
       " <selenium.webdriver.remote.webelement.WebElement (session=\"bada17af6006a2f27806cbd1df388009\", element=\"1574d523-9cbe-4e02-9ac9-b8badf4add6c\")>,\n",
       " <selenium.webdriver.remote.webelement.WebElement (session=\"bada17af6006a2f27806cbd1df388009\", element=\"5c757846-bdcd-4649-809c-402c71263a36\")>,\n",
       " <selenium.webdriver.remote.webelement.WebElement (session=\"bada17af6006a2f27806cbd1df388009\", element=\"d66e5bf9-2a9a-488e-a462-cf618521c5a5\")>,\n",
       " <selenium.webdriver.remote.webelement.WebElement (session=\"bada17af6006a2f27806cbd1df388009\", element=\"19287906-8402-48b6-9d31-68d67bd1be44\")>,\n",
       " <selenium.webdriver.remote.webelement.WebElement (session=\"bada17af6006a2f27806cbd1df388009\", element=\"80fedad9-1ae0-4ab6-b6b9-121ab52b0b20\")>,\n",
       " <selenium.webdriver.remote.webelement.WebElement (session=\"bada17af6006a2f27806cbd1df388009\", element=\"72c0ef7b-3dae-4cff-a1a6-14170cea31e3\")>,\n",
       " <selenium.webdriver.remote.webelement.WebElement (session=\"bada17af6006a2f27806cbd1df388009\", element=\"32ec89a7-28c6-4c92-8920-dbf7a93755b8\")>,\n",
       " <selenium.webdriver.remote.webelement.WebElement (session=\"bada17af6006a2f27806cbd1df388009\", element=\"52c4be52-d7a8-46ed-bc1e-69f02e3332b7\")>,\n",
       " <selenium.webdriver.remote.webelement.WebElement (session=\"bada17af6006a2f27806cbd1df388009\", element=\"2d51d58d-93a9-4fe3-8d56-5ef7fd809e01\")>,\n",
       " <selenium.webdriver.remote.webelement.WebElement (session=\"bada17af6006a2f27806cbd1df388009\", element=\"2f5cb2ec-af5a-4a65-aa5e-1e6c9b296b93\")>]"
      ]
     },
     "execution_count": 57,
     "metadata": {},
     "output_type": "execute_result"
    }
   ],
   "source": [
    "states=driver.find_elements_by_xpath(\"//td[@class='name']\")\n",
    "states[0:33]"
   ]
  },
  {
   "cell_type": "code",
   "execution_count": null,
   "metadata": {},
   "outputs": [],
   "source": [
    "for i in states:\n",
    "    state.append(i.text)\n",
    "state    "
   ]
  },
  {
   "cell_type": "code",
   "execution_count": 59,
   "metadata": {},
   "outputs": [
    {
     "data": {
      "text/plain": [
       "[<selenium.webdriver.remote.webelement.WebElement (session=\"bada17af6006a2f27806cbd1df388009\", element=\"8ea1b6cd-63f7-4216-a732-688b16f85beb\")>,\n",
       " <selenium.webdriver.remote.webelement.WebElement (session=\"bada17af6006a2f27806cbd1df388009\", element=\"b21cc2bf-cba5-4438-bd39-682e1ea95897\")>,\n",
       " <selenium.webdriver.remote.webelement.WebElement (session=\"bada17af6006a2f27806cbd1df388009\", element=\"c055f2da-bf91-4829-9c15-03e35a3f4518\")>,\n",
       " <selenium.webdriver.remote.webelement.WebElement (session=\"bada17af6006a2f27806cbd1df388009\", element=\"d7734b57-e810-40be-858b-0f6ddd46cbe5\")>,\n",
       " <selenium.webdriver.remote.webelement.WebElement (session=\"bada17af6006a2f27806cbd1df388009\", element=\"e0ecf080-77a0-453b-84a5-7ddb9b860cdb\")>,\n",
       " <selenium.webdriver.remote.webelement.WebElement (session=\"bada17af6006a2f27806cbd1df388009\", element=\"96f13d00-86fa-46ce-9473-6d1736596b1a\")>,\n",
       " <selenium.webdriver.remote.webelement.WebElement (session=\"bada17af6006a2f27806cbd1df388009\", element=\"d8961084-f960-46c3-9812-daabbac024a3\")>,\n",
       " <selenium.webdriver.remote.webelement.WebElement (session=\"bada17af6006a2f27806cbd1df388009\", element=\"9c933674-4ebd-4629-a2d8-30e4e198da26\")>,\n",
       " <selenium.webdriver.remote.webelement.WebElement (session=\"bada17af6006a2f27806cbd1df388009\", element=\"c1a86149-35a4-4305-85f4-ddc8436fb193\")>,\n",
       " <selenium.webdriver.remote.webelement.WebElement (session=\"bada17af6006a2f27806cbd1df388009\", element=\"0439d464-26e2-4203-b197-5bb14fd4567f\")>,\n",
       " <selenium.webdriver.remote.webelement.WebElement (session=\"bada17af6006a2f27806cbd1df388009\", element=\"51e229b1-ae1a-45b3-94ab-c93b602fb14f\")>,\n",
       " <selenium.webdriver.remote.webelement.WebElement (session=\"bada17af6006a2f27806cbd1df388009\", element=\"339bfc9f-317b-4cfb-a3a2-4909d20c1de0\")>,\n",
       " <selenium.webdriver.remote.webelement.WebElement (session=\"bada17af6006a2f27806cbd1df388009\", element=\"45f36b7f-1c33-42d4-bbe0-d618ac78269f\")>,\n",
       " <selenium.webdriver.remote.webelement.WebElement (session=\"bada17af6006a2f27806cbd1df388009\", element=\"89ff90cc-ae04-404b-a045-3c929888b6d7\")>,\n",
       " <selenium.webdriver.remote.webelement.WebElement (session=\"bada17af6006a2f27806cbd1df388009\", element=\"ab51723e-1800-4494-92b5-662615a54340\")>,\n",
       " <selenium.webdriver.remote.webelement.WebElement (session=\"bada17af6006a2f27806cbd1df388009\", element=\"e615ef29-ccf7-4213-8ab0-a893a00ce0e0\")>,\n",
       " <selenium.webdriver.remote.webelement.WebElement (session=\"bada17af6006a2f27806cbd1df388009\", element=\"3d2703cc-a046-4f57-9d7c-912721228256\")>,\n",
       " <selenium.webdriver.remote.webelement.WebElement (session=\"bada17af6006a2f27806cbd1df388009\", element=\"4cad68a1-ba39-46cd-982f-4c8429bbd660\")>,\n",
       " <selenium.webdriver.remote.webelement.WebElement (session=\"bada17af6006a2f27806cbd1df388009\", element=\"afabc92d-a42c-4cbd-947d-01338bd201f3\")>,\n",
       " <selenium.webdriver.remote.webelement.WebElement (session=\"bada17af6006a2f27806cbd1df388009\", element=\"e21f9ed3-8c3d-410b-b3b2-85dff9862646\")>,\n",
       " <selenium.webdriver.remote.webelement.WebElement (session=\"bada17af6006a2f27806cbd1df388009\", element=\"f5aa9923-dfa9-4eed-8fd1-b2d92fefa6e3\")>,\n",
       " <selenium.webdriver.remote.webelement.WebElement (session=\"bada17af6006a2f27806cbd1df388009\", element=\"eac9346c-7d75-4b11-aef9-14da506a55b3\")>,\n",
       " <selenium.webdriver.remote.webelement.WebElement (session=\"bada17af6006a2f27806cbd1df388009\", element=\"a862f21e-9da5-426e-87db-eba50794cfbe\")>,\n",
       " <selenium.webdriver.remote.webelement.WebElement (session=\"bada17af6006a2f27806cbd1df388009\", element=\"cdcafd94-f8e0-4c23-8351-a1dd28090098\")>,\n",
       " <selenium.webdriver.remote.webelement.WebElement (session=\"bada17af6006a2f27806cbd1df388009\", element=\"03d9b910-f1d7-4004-a78d-1c433d7e2ffe\")>,\n",
       " <selenium.webdriver.remote.webelement.WebElement (session=\"bada17af6006a2f27806cbd1df388009\", element=\"ceba082a-08ae-45a9-9b24-594acb6355dd\")>,\n",
       " <selenium.webdriver.remote.webelement.WebElement (session=\"bada17af6006a2f27806cbd1df388009\", element=\"4f0176c9-4e1b-4055-83b3-75ea626b620a\")>,\n",
       " <selenium.webdriver.remote.webelement.WebElement (session=\"bada17af6006a2f27806cbd1df388009\", element=\"967162c2-881c-42c9-b53f-e6c406daebe2\")>,\n",
       " <selenium.webdriver.remote.webelement.WebElement (session=\"bada17af6006a2f27806cbd1df388009\", element=\"2342e6da-fd6b-4b1d-99fe-f62778a3ea2e\")>,\n",
       " <selenium.webdriver.remote.webelement.WebElement (session=\"bada17af6006a2f27806cbd1df388009\", element=\"1bf339d7-5ad1-403e-850b-1d0d873561a2\")>,\n",
       " <selenium.webdriver.remote.webelement.WebElement (session=\"bada17af6006a2f27806cbd1df388009\", element=\"68d8be79-0865-4493-9553-8a88b67485c3\")>,\n",
       " <selenium.webdriver.remote.webelement.WebElement (session=\"bada17af6006a2f27806cbd1df388009\", element=\"66fb968f-ccb6-4973-b279-91612df564b4\")>,\n",
       " <selenium.webdriver.remote.webelement.WebElement (session=\"bada17af6006a2f27806cbd1df388009\", element=\"7cfa1e0b-0eda-4525-b303-40f832bfa268\")>]"
      ]
     },
     "execution_count": 59,
     "metadata": {},
     "output_type": "execute_result"
    }
   ],
   "source": [
    "GSDPatcurrentprice_19_200=driver.find_elements_by_xpath(\"//td[@class='data']\")\n",
    "ranks[0:33]"
   ]
  },
  {
   "cell_type": "code",
   "execution_count": 60,
   "metadata": {},
   "outputs": [
    {
     "data": {
      "text/plain": [
       "[<selenium.webdriver.remote.webelement.WebElement (session=\"bada17af6006a2f27806cbd1df388009\", element=\"f50c9721-3932-42f9-a8b1-7ec89d240173\")>,\n",
       " <selenium.webdriver.remote.webelement.WebElement (session=\"bada17af6006a2f27806cbd1df388009\", element=\"e5279205-4ed4-47be-81ea-a91a84f3b89f\")>,\n",
       " <selenium.webdriver.remote.webelement.WebElement (session=\"bada17af6006a2f27806cbd1df388009\", element=\"497b2584-b20f-46af-913d-dd677be72e2c\")>,\n",
       " <selenium.webdriver.remote.webelement.WebElement (session=\"bada17af6006a2f27806cbd1df388009\", element=\"75d22bad-1750-466a-bcc4-9f0ae5a0c924\")>,\n",
       " <selenium.webdriver.remote.webelement.WebElement (session=\"bada17af6006a2f27806cbd1df388009\", element=\"f8f4dfab-d806-41b9-8ee3-16776dd958d5\")>,\n",
       " <selenium.webdriver.remote.webelement.WebElement (session=\"bada17af6006a2f27806cbd1df388009\", element=\"4d19f2e1-ac6d-4a78-b087-66817c8a1652\")>,\n",
       " <selenium.webdriver.remote.webelement.WebElement (session=\"bada17af6006a2f27806cbd1df388009\", element=\"0bab6391-6e3f-4af0-bfef-e06b255cd095\")>,\n",
       " <selenium.webdriver.remote.webelement.WebElement (session=\"bada17af6006a2f27806cbd1df388009\", element=\"691bf643-8338-4970-a918-56f04ee7b034\")>,\n",
       " <selenium.webdriver.remote.webelement.WebElement (session=\"bada17af6006a2f27806cbd1df388009\", element=\"b79d8e1e-2f1f-4eee-821c-543c81b20f3c\")>,\n",
       " <selenium.webdriver.remote.webelement.WebElement (session=\"bada17af6006a2f27806cbd1df388009\", element=\"9e81f674-6fa3-41e2-98b8-514afcaabb16\")>,\n",
       " <selenium.webdriver.remote.webelement.WebElement (session=\"bada17af6006a2f27806cbd1df388009\", element=\"5db7cf2a-1f40-451d-8d06-580b1ce58871\")>,\n",
       " <selenium.webdriver.remote.webelement.WebElement (session=\"bada17af6006a2f27806cbd1df388009\", element=\"de744c6d-a68a-40d2-b93d-a63f6a2188f8\")>,\n",
       " <selenium.webdriver.remote.webelement.WebElement (session=\"bada17af6006a2f27806cbd1df388009\", element=\"30a35afe-8764-480f-982d-5f6d6646792f\")>,\n",
       " <selenium.webdriver.remote.webelement.WebElement (session=\"bada17af6006a2f27806cbd1df388009\", element=\"5e141a34-d6d4-4fe5-8315-7e48793cd0e8\")>,\n",
       " <selenium.webdriver.remote.webelement.WebElement (session=\"bada17af6006a2f27806cbd1df388009\", element=\"ce4e5f8f-ea3d-4a6c-be31-77ea80730be7\")>,\n",
       " <selenium.webdriver.remote.webelement.WebElement (session=\"bada17af6006a2f27806cbd1df388009\", element=\"7f7516c1-7142-4500-84c1-e3f87a6a95de\")>,\n",
       " <selenium.webdriver.remote.webelement.WebElement (session=\"bada17af6006a2f27806cbd1df388009\", element=\"6ef812bc-ca75-49a3-9c3f-4e8871379a4b\")>,\n",
       " <selenium.webdriver.remote.webelement.WebElement (session=\"bada17af6006a2f27806cbd1df388009\", element=\"4722cc91-1d32-4411-b1a9-7cb8e14aee54\")>,\n",
       " <selenium.webdriver.remote.webelement.WebElement (session=\"bada17af6006a2f27806cbd1df388009\", element=\"7a5b0163-1cb0-4166-841a-fbb289e4a665\")>,\n",
       " <selenium.webdriver.remote.webelement.WebElement (session=\"bada17af6006a2f27806cbd1df388009\", element=\"9ec74e36-8ee4-461b-83bd-f91c35be4ef1\")>,\n",
       " <selenium.webdriver.remote.webelement.WebElement (session=\"bada17af6006a2f27806cbd1df388009\", element=\"8ac0cfa6-4825-4786-bd2b-9d89c4b951f8\")>,\n",
       " <selenium.webdriver.remote.webelement.WebElement (session=\"bada17af6006a2f27806cbd1df388009\", element=\"0567affa-f3b6-41de-8389-b84e137d8b54\")>,\n",
       " <selenium.webdriver.remote.webelement.WebElement (session=\"bada17af6006a2f27806cbd1df388009\", element=\"d3c25b2d-c4da-4075-88f1-8688a32bcf45\")>,\n",
       " <selenium.webdriver.remote.webelement.WebElement (session=\"bada17af6006a2f27806cbd1df388009\", element=\"a974f474-5ba1-491d-a458-35f5d872c229\")>,\n",
       " <selenium.webdriver.remote.webelement.WebElement (session=\"bada17af6006a2f27806cbd1df388009\", element=\"712ca1a9-e3e5-4451-966f-beaa7fb7cfcd\")>,\n",
       " <selenium.webdriver.remote.webelement.WebElement (session=\"bada17af6006a2f27806cbd1df388009\", element=\"4096b0aa-15dd-4f96-a895-8244629c7450\")>,\n",
       " <selenium.webdriver.remote.webelement.WebElement (session=\"bada17af6006a2f27806cbd1df388009\", element=\"1f45c120-b686-43ed-b655-4223a690e97b\")>,\n",
       " <selenium.webdriver.remote.webelement.WebElement (session=\"bada17af6006a2f27806cbd1df388009\", element=\"e1f3647b-4720-463e-9e85-d9310c07b739\")>,\n",
       " <selenium.webdriver.remote.webelement.WebElement (session=\"bada17af6006a2f27806cbd1df388009\", element=\"ab86607f-fe86-4792-bdb7-1469550f3846\")>,\n",
       " <selenium.webdriver.remote.webelement.WebElement (session=\"bada17af6006a2f27806cbd1df388009\", element=\"bf6b9541-6a68-416e-bd4b-8e1eaa30e491\")>,\n",
       " <selenium.webdriver.remote.webelement.WebElement (session=\"bada17af6006a2f27806cbd1df388009\", element=\"7b4f5c66-f999-43ea-9277-7f48bba2747f\")>,\n",
       " <selenium.webdriver.remote.webelement.WebElement (session=\"bada17af6006a2f27806cbd1df388009\", element=\"ef83d522-4a77-4bf0-ad39-428f888578c3\")>,\n",
       " <selenium.webdriver.remote.webelement.WebElement (session=\"bada17af6006a2f27806cbd1df388009\", element=\"73f01a17-46b9-45fe-ae0c-5981a10dc654\")>,\n",
       " <selenium.webdriver.remote.webelement.WebElement (session=\"bada17af6006a2f27806cbd1df388009\", element=\"bb3f6670-47bc-44de-84ea-454b96ba1748\")>,\n",
       " <selenium.webdriver.remote.webelement.WebElement (session=\"bada17af6006a2f27806cbd1df388009\", element=\"d4d124bd-961c-4890-aa11-737200d078b5\")>,\n",
       " <selenium.webdriver.remote.webelement.WebElement (session=\"bada17af6006a2f27806cbd1df388009\", element=\"29709b5c-ed6b-45ce-a970-3f81ff7c862a\")>,\n",
       " <selenium.webdriver.remote.webelement.WebElement (session=\"bada17af6006a2f27806cbd1df388009\", element=\"4656f5b0-a291-4b0d-ad45-3e87c750eb94\")>,\n",
       " <selenium.webdriver.remote.webelement.WebElement (session=\"bada17af6006a2f27806cbd1df388009\", element=\"21639ae8-81d8-4a6a-a6d4-1204aae449e5\")>,\n",
       " <selenium.webdriver.remote.webelement.WebElement (session=\"bada17af6006a2f27806cbd1df388009\", element=\"72c67852-c933-4d70-a22e-8e93e2874550\")>,\n",
       " <selenium.webdriver.remote.webelement.WebElement (session=\"bada17af6006a2f27806cbd1df388009\", element=\"c1d8eac6-0756-4bff-9b90-201d25859481\")>,\n",
       " <selenium.webdriver.remote.webelement.WebElement (session=\"bada17af6006a2f27806cbd1df388009\", element=\"5fa96e6d-0440-48fb-bc9a-8f85610b87c3\")>,\n",
       " <selenium.webdriver.remote.webelement.WebElement (session=\"bada17af6006a2f27806cbd1df388009\", element=\"c328a173-4bf0-46e8-9658-c589275078ee\")>,\n",
       " <selenium.webdriver.remote.webelement.WebElement (session=\"bada17af6006a2f27806cbd1df388009\", element=\"cf4bbee2-33f0-44a8-a283-d481d11b1382\")>,\n",
       " <selenium.webdriver.remote.webelement.WebElement (session=\"bada17af6006a2f27806cbd1df388009\", element=\"3897f3c1-7a6b-4a18-bb81-75873c68df70\")>,\n",
       " <selenium.webdriver.remote.webelement.WebElement (session=\"bada17af6006a2f27806cbd1df388009\", element=\"d22edb75-930a-42b4-bbf5-b51abb91e785\")>,\n",
       " <selenium.webdriver.remote.webelement.WebElement (session=\"bada17af6006a2f27806cbd1df388009\", element=\"6160bd35-d8c3-4656-a529-dba81b0f81f4\")>,\n",
       " <selenium.webdriver.remote.webelement.WebElement (session=\"bada17af6006a2f27806cbd1df388009\", element=\"c70325ab-e939-45a7-9e24-2d8d2ce70377\")>,\n",
       " <selenium.webdriver.remote.webelement.WebElement (session=\"bada17af6006a2f27806cbd1df388009\", element=\"b275cccd-8831-409a-9fd3-87b92b45e390\")>,\n",
       " <selenium.webdriver.remote.webelement.WebElement (session=\"bada17af6006a2f27806cbd1df388009\", element=\"ea9a1830-39c2-47d2-bed1-9928356ec402\")>,\n",
       " <selenium.webdriver.remote.webelement.WebElement (session=\"bada17af6006a2f27806cbd1df388009\", element=\"5b8d74d5-ae1a-43e4-8b7e-988a6ce833c9\")>,\n",
       " <selenium.webdriver.remote.webelement.WebElement (session=\"bada17af6006a2f27806cbd1df388009\", element=\"8f9342a5-dfe4-4348-8cc0-8b963d30d4dd\")>,\n",
       " <selenium.webdriver.remote.webelement.WebElement (session=\"bada17af6006a2f27806cbd1df388009\", element=\"0ae38f93-2e80-40a6-ac0d-a00ea9e0eb3f\")>,\n",
       " <selenium.webdriver.remote.webelement.WebElement (session=\"bada17af6006a2f27806cbd1df388009\", element=\"3b94dddf-4e30-4882-9990-767393889245\")>,\n",
       " <selenium.webdriver.remote.webelement.WebElement (session=\"bada17af6006a2f27806cbd1df388009\", element=\"95799cee-e8ba-484b-bb33-374898de29ea\")>,\n",
       " <selenium.webdriver.remote.webelement.WebElement (session=\"bada17af6006a2f27806cbd1df388009\", element=\"60c9218d-69ec-401a-b2e0-9741fdcaaec4\")>,\n",
       " <selenium.webdriver.remote.webelement.WebElement (session=\"bada17af6006a2f27806cbd1df388009\", element=\"980c4194-9591-4756-8fc1-8f15069b28ea\")>,\n",
       " <selenium.webdriver.remote.webelement.WebElement (session=\"bada17af6006a2f27806cbd1df388009\", element=\"a324789e-dfc7-4277-9fb6-9a4dcd7601c7\")>,\n",
       " <selenium.webdriver.remote.webelement.WebElement (session=\"bada17af6006a2f27806cbd1df388009\", element=\"ac05a998-9cc6-43e1-a1b5-ae3890e62edc\")>,\n",
       " <selenium.webdriver.remote.webelement.WebElement (session=\"bada17af6006a2f27806cbd1df388009\", element=\"c22921f8-2870-4eab-aafe-a9784b9ead95\")>,\n",
       " <selenium.webdriver.remote.webelement.WebElement (session=\"bada17af6006a2f27806cbd1df388009\", element=\"ae684418-1af3-48fb-887b-d24014d5681f\")>,\n",
       " <selenium.webdriver.remote.webelement.WebElement (session=\"bada17af6006a2f27806cbd1df388009\", element=\"43180abf-61fb-4068-a5de-1cdfd58e9789\")>,\n",
       " <selenium.webdriver.remote.webelement.WebElement (session=\"bada17af6006a2f27806cbd1df388009\", element=\"0c70c68d-6ee6-4723-b781-c05ea7e0220c\")>,\n",
       " <selenium.webdriver.remote.webelement.WebElement (session=\"bada17af6006a2f27806cbd1df388009\", element=\"0fef7373-1589-4b90-b7ca-853d368604a7\")>,\n",
       " <selenium.webdriver.remote.webelement.WebElement (session=\"bada17af6006a2f27806cbd1df388009\", element=\"a4dfe473-70a3-48f8-b468-f4bb9cb5bd9b\")>,\n",
       " <selenium.webdriver.remote.webelement.WebElement (session=\"bada17af6006a2f27806cbd1df388009\", element=\"32ef8292-5a67-4f38-b8c7-e84a07d6f056\")>,\n",
       " <selenium.webdriver.remote.webelement.WebElement (session=\"bada17af6006a2f27806cbd1df388009\", element=\"da40bc6b-e1b9-4597-8c62-833b893c57c5\")>,\n",
       " <selenium.webdriver.remote.webelement.WebElement (session=\"bada17af6006a2f27806cbd1df388009\", element=\"0fe0621e-8837-4688-90e3-bda0eebda6d3\")>,\n",
       " <selenium.webdriver.remote.webelement.WebElement (session=\"bada17af6006a2f27806cbd1df388009\", element=\"eec7ba4c-7e0c-4ea1-8915-a1b3b601c9da\")>,\n",
       " <selenium.webdriver.remote.webelement.WebElement (session=\"bada17af6006a2f27806cbd1df388009\", element=\"2074fcb9-b532-4d0b-a3fc-d07fb0a507d0\")>,\n",
       " <selenium.webdriver.remote.webelement.WebElement (session=\"bada17af6006a2f27806cbd1df388009\", element=\"e11d8568-c6e7-4aeb-a681-c1acba7103f6\")>,\n",
       " <selenium.webdriver.remote.webelement.WebElement (session=\"bada17af6006a2f27806cbd1df388009\", element=\"237f39cd-cc53-4b0c-b153-79a0b61b5528\")>,\n",
       " <selenium.webdriver.remote.webelement.WebElement (session=\"bada17af6006a2f27806cbd1df388009\", element=\"3ab74b99-33b8-43a0-8fd5-5e130bb8e192\")>,\n",
       " <selenium.webdriver.remote.webelement.WebElement (session=\"bada17af6006a2f27806cbd1df388009\", element=\"b09d842e-4573-4c69-ba6c-95103836f9f7\")>,\n",
       " <selenium.webdriver.remote.webelement.WebElement (session=\"bada17af6006a2f27806cbd1df388009\", element=\"0a9b7a59-ae13-4ce6-b62d-3859db4467e7\")>,\n",
       " <selenium.webdriver.remote.webelement.WebElement (session=\"bada17af6006a2f27806cbd1df388009\", element=\"93cf8963-25d7-4ab3-99aa-6811b938a297\")>,\n",
       " <selenium.webdriver.remote.webelement.WebElement (session=\"bada17af6006a2f27806cbd1df388009\", element=\"349c6d37-2b7a-4700-9f9b-811e08a17a0b\")>,\n",
       " <selenium.webdriver.remote.webelement.WebElement (session=\"bada17af6006a2f27806cbd1df388009\", element=\"d088c94e-9669-42d2-a01a-f91b15f68636\")>,\n",
       " <selenium.webdriver.remote.webelement.WebElement (session=\"bada17af6006a2f27806cbd1df388009\", element=\"f1f4fc55-e49c-47f6-b832-68735bad5356\")>,\n",
       " <selenium.webdriver.remote.webelement.WebElement (session=\"bada17af6006a2f27806cbd1df388009\", element=\"dc2955f8-c56f-475e-b3df-f124bf4d5f5e\")>,\n",
       " <selenium.webdriver.remote.webelement.WebElement (session=\"bada17af6006a2f27806cbd1df388009\", element=\"3d92b83c-ead8-4ec2-9d96-210d027db43d\")>,\n",
       " <selenium.webdriver.remote.webelement.WebElement (session=\"bada17af6006a2f27806cbd1df388009\", element=\"360dcb8b-ffb5-490c-a0b7-09803acf5500\")>,\n",
       " <selenium.webdriver.remote.webelement.WebElement (session=\"bada17af6006a2f27806cbd1df388009\", element=\"9ecd4f96-0553-479c-838e-0bd2db374ddf\")>,\n",
       " <selenium.webdriver.remote.webelement.WebElement (session=\"bada17af6006a2f27806cbd1df388009\", element=\"3c1d0e8b-f40c-47d9-80a8-d4fab1cd27f4\")>,\n",
       " <selenium.webdriver.remote.webelement.WebElement (session=\"bada17af6006a2f27806cbd1df388009\", element=\"a890d1a5-5e34-4214-8c69-ffe32233c2d6\")>,\n",
       " <selenium.webdriver.remote.webelement.WebElement (session=\"bada17af6006a2f27806cbd1df388009\", element=\"60272588-942f-43cf-bfe4-a1b4a24d8199\")>,\n",
       " <selenium.webdriver.remote.webelement.WebElement (session=\"bada17af6006a2f27806cbd1df388009\", element=\"295add23-095e-4ea9-b5d6-c58462d9216d\")>,\n",
       " <selenium.webdriver.remote.webelement.WebElement (session=\"bada17af6006a2f27806cbd1df388009\", element=\"0396eda6-76c9-4910-8438-73db9883f70b\")>,\n",
       " <selenium.webdriver.remote.webelement.WebElement (session=\"bada17af6006a2f27806cbd1df388009\", element=\"eff92afd-3fa6-4bce-9f8b-f5ab03fd5ce8\")>,\n",
       " <selenium.webdriver.remote.webelement.WebElement (session=\"bada17af6006a2f27806cbd1df388009\", element=\"42349aae-2f07-4489-9454-5a27cc08b2b4\")>,\n",
       " <selenium.webdriver.remote.webelement.WebElement (session=\"bada17af6006a2f27806cbd1df388009\", element=\"5eb828ce-dff8-4420-81c2-ca363176355e\")>,\n",
       " <selenium.webdriver.remote.webelement.WebElement (session=\"bada17af6006a2f27806cbd1df388009\", element=\"1ebd7bf4-663b-48e0-b388-afaaeb62411a\")>,\n",
       " <selenium.webdriver.remote.webelement.WebElement (session=\"bada17af6006a2f27806cbd1df388009\", element=\"cc07bdcb-fdeb-446f-9252-dcff78c8af0d\")>,\n",
       " <selenium.webdriver.remote.webelement.WebElement (session=\"bada17af6006a2f27806cbd1df388009\", element=\"d435a7fd-1254-49cf-b182-56c660262b1a\")>,\n",
       " <selenium.webdriver.remote.webelement.WebElement (session=\"bada17af6006a2f27806cbd1df388009\", element=\"708b2bb6-9111-421d-9292-4c6cb6599af2\")>,\n",
       " <selenium.webdriver.remote.webelement.WebElement (session=\"bada17af6006a2f27806cbd1df388009\", element=\"e1d6ab03-6443-469d-97b0-c95e3d313756\")>,\n",
       " <selenium.webdriver.remote.webelement.WebElement (session=\"bada17af6006a2f27806cbd1df388009\", element=\"fd1b8187-60b8-4154-a3a0-6698fe9eb5ef\")>,\n",
       " <selenium.webdriver.remote.webelement.WebElement (session=\"bada17af6006a2f27806cbd1df388009\", element=\"e762193b-31ac-47fc-b524-e86be0de02f1\")>,\n",
       " <selenium.webdriver.remote.webelement.WebElement (session=\"bada17af6006a2f27806cbd1df388009\", element=\"58101882-3b1a-47d8-b0ed-155ea8a35959\")>,\n",
       " <selenium.webdriver.remote.webelement.WebElement (session=\"bada17af6006a2f27806cbd1df388009\", element=\"496419b2-4b50-4e01-80f1-2be99118c2dc\")>,\n",
       " <selenium.webdriver.remote.webelement.WebElement (session=\"bada17af6006a2f27806cbd1df388009\", element=\"4a6e8e34-f340-4e63-a747-081e82e4155f\")>,\n",
       " <selenium.webdriver.remote.webelement.WebElement (session=\"bada17af6006a2f27806cbd1df388009\", element=\"fed69b41-922c-428e-a7c0-1ae3cfe6762d\")>,\n",
       " <selenium.webdriver.remote.webelement.WebElement (session=\"bada17af6006a2f27806cbd1df388009\", element=\"10ed6b52-8fab-49eb-899b-a7ebdeee2fa1\")>,\n",
       " <selenium.webdriver.remote.webelement.WebElement (session=\"bada17af6006a2f27806cbd1df388009\", element=\"f4a051f6-bb2e-4658-8662-b3c45e35ff9a\")>,\n",
       " <selenium.webdriver.remote.webelement.WebElement (session=\"bada17af6006a2f27806cbd1df388009\", element=\"4b9b47be-525c-469d-a193-13617ea9b71f\")>,\n",
       " <selenium.webdriver.remote.webelement.WebElement (session=\"bada17af6006a2f27806cbd1df388009\", element=\"fc6e07c6-1042-4623-9337-fc1e8b29777d\")>,\n",
       " <selenium.webdriver.remote.webelement.WebElement (session=\"bada17af6006a2f27806cbd1df388009\", element=\"4225a067-3013-4c98-b204-f51b34089f84\")>,\n",
       " <selenium.webdriver.remote.webelement.WebElement (session=\"bada17af6006a2f27806cbd1df388009\", element=\"54207936-c7da-43e7-bfbe-925bdf4c02d4\")>,\n",
       " <selenium.webdriver.remote.webelement.WebElement (session=\"bada17af6006a2f27806cbd1df388009\", element=\"6a429944-6b18-402a-9312-f75e08c59141\")>,\n",
       " <selenium.webdriver.remote.webelement.WebElement (session=\"bada17af6006a2f27806cbd1df388009\", element=\"f84b6abe-75d4-49ef-aba5-3bdad0363bc4\")>,\n",
       " <selenium.webdriver.remote.webelement.WebElement (session=\"bada17af6006a2f27806cbd1df388009\", element=\"c84b74b7-9a9e-47fe-8906-259600a87780\")>,\n",
       " <selenium.webdriver.remote.webelement.WebElement (session=\"bada17af6006a2f27806cbd1df388009\", element=\"67240ff6-40e0-4650-9dfd-ac47b851b05b\")>,\n",
       " <selenium.webdriver.remote.webelement.WebElement (session=\"bada17af6006a2f27806cbd1df388009\", element=\"f818a754-959c-44a9-b822-7c8c011f6839\")>,\n",
       " <selenium.webdriver.remote.webelement.WebElement (session=\"bada17af6006a2f27806cbd1df388009\", element=\"178197e0-ffea-451a-9011-0b80ae79c0c1\")>,\n",
       " <selenium.webdriver.remote.webelement.WebElement (session=\"bada17af6006a2f27806cbd1df388009\", element=\"c70be7f5-437a-494a-9020-2a444f122c5e\")>,\n",
       " <selenium.webdriver.remote.webelement.WebElement (session=\"bada17af6006a2f27806cbd1df388009\", element=\"16e8446d-9d24-47df-ad33-b28b4193551c\")>,\n",
       " <selenium.webdriver.remote.webelement.WebElement (session=\"bada17af6006a2f27806cbd1df388009\", element=\"21a9f066-5f39-4d01-93b3-77af570fef9d\")>,\n",
       " <selenium.webdriver.remote.webelement.WebElement (session=\"bada17af6006a2f27806cbd1df388009\", element=\"2c68335f-aff7-4f2e-868d-4dad3a5a23d7\")>,\n",
       " <selenium.webdriver.remote.webelement.WebElement (session=\"bada17af6006a2f27806cbd1df388009\", element=\"8f622f4d-c095-4f43-a6af-965c3d3d4db2\")>,\n",
       " <selenium.webdriver.remote.webelement.WebElement (session=\"bada17af6006a2f27806cbd1df388009\", element=\"f8bba58b-de3f-4676-8274-80af24034467\")>,\n",
       " <selenium.webdriver.remote.webelement.WebElement (session=\"bada17af6006a2f27806cbd1df388009\", element=\"9fabbdd1-87c8-4434-906a-3f9d4df0e5e0\")>,\n",
       " <selenium.webdriver.remote.webelement.WebElement (session=\"bada17af6006a2f27806cbd1df388009\", element=\"a35b4c14-4fa5-48e0-9307-ffd4de9262db\")>,\n",
       " <selenium.webdriver.remote.webelement.WebElement (session=\"bada17af6006a2f27806cbd1df388009\", element=\"fcca6a95-aaf7-49dd-86a2-727e427732e8\")>,\n",
       " <selenium.webdriver.remote.webelement.WebElement (session=\"bada17af6006a2f27806cbd1df388009\", element=\"0a8595aa-4e60-43f4-8ca1-2461066b1df3\")>,\n",
       " <selenium.webdriver.remote.webelement.WebElement (session=\"bada17af6006a2f27806cbd1df388009\", element=\"6037de2d-7999-478c-bc64-78395591d33a\")>,\n",
       " <selenium.webdriver.remote.webelement.WebElement (session=\"bada17af6006a2f27806cbd1df388009\", element=\"0ab7edd1-1d4c-4a48-98d7-5427b50005ca\")>,\n",
       " <selenium.webdriver.remote.webelement.WebElement (session=\"bada17af6006a2f27806cbd1df388009\", element=\"b507ad50-c03b-4e6a-ad05-451225c31be1\")>,\n",
       " <selenium.webdriver.remote.webelement.WebElement (session=\"bada17af6006a2f27806cbd1df388009\", element=\"774b523b-fa60-48c2-9458-2d401bcd9179\")>,\n",
       " <selenium.webdriver.remote.webelement.WebElement (session=\"bada17af6006a2f27806cbd1df388009\", element=\"3ccb6a29-be7f-424d-a981-461dc283f806\")>,\n",
       " <selenium.webdriver.remote.webelement.WebElement (session=\"bada17af6006a2f27806cbd1df388009\", element=\"7f86d6c7-41a7-47a8-ae0b-c477ba5602a3\")>,\n",
       " <selenium.webdriver.remote.webelement.WebElement (session=\"bada17af6006a2f27806cbd1df388009\", element=\"0822248d-4965-4aab-a467-fc76df81dace\")>,\n",
       " <selenium.webdriver.remote.webelement.WebElement (session=\"bada17af6006a2f27806cbd1df388009\", element=\"f87db4a0-e1c8-4494-ab93-4691c3e0ea3c\")>,\n",
       " <selenium.webdriver.remote.webelement.WebElement (session=\"bada17af6006a2f27806cbd1df388009\", element=\"5ff8b2f8-e625-439e-bd71-5d9c37179439\")>,\n",
       " <selenium.webdriver.remote.webelement.WebElement (session=\"bada17af6006a2f27806cbd1df388009\", element=\"b0065488-d3ec-4941-bfb7-ba1abe0b8168\")>,\n",
       " <selenium.webdriver.remote.webelement.WebElement (session=\"bada17af6006a2f27806cbd1df388009\", element=\"f57a94bc-563b-411c-9a0c-04fccba5b191\")>,\n",
       " <selenium.webdriver.remote.webelement.WebElement (session=\"bada17af6006a2f27806cbd1df388009\", element=\"4c15d924-20a2-4705-9673-c13245ccbeda\")>,\n",
       " <selenium.webdriver.remote.webelement.WebElement (session=\"bada17af6006a2f27806cbd1df388009\", element=\"61587ce6-d8f2-4440-a555-dce4e7a0c428\")>,\n",
       " <selenium.webdriver.remote.webelement.WebElement (session=\"bada17af6006a2f27806cbd1df388009\", element=\"b061ff26-bdd7-4354-be22-973823daa807\")>,\n",
       " <selenium.webdriver.remote.webelement.WebElement (session=\"bada17af6006a2f27806cbd1df388009\", element=\"a4b76589-7c42-4952-af08-4ffed92588c6\")>,\n",
       " <selenium.webdriver.remote.webelement.WebElement (session=\"bada17af6006a2f27806cbd1df388009\", element=\"a7f1bd53-db32-42f4-92db-09d097974256\")>,\n",
       " <selenium.webdriver.remote.webelement.WebElement (session=\"bada17af6006a2f27806cbd1df388009\", element=\"1448ad7d-36fc-4b1c-93b9-ad3376613d88\")>,\n",
       " <selenium.webdriver.remote.webelement.WebElement (session=\"bada17af6006a2f27806cbd1df388009\", element=\"34d04bd2-7e29-445a-a47c-d5395f55e45c\")>,\n",
       " <selenium.webdriver.remote.webelement.WebElement (session=\"bada17af6006a2f27806cbd1df388009\", element=\"117519e4-0de7-4e57-b558-4daa4542398e\")>,\n",
       " <selenium.webdriver.remote.webelement.WebElement (session=\"bada17af6006a2f27806cbd1df388009\", element=\"c102324f-c66c-49b6-832a-44ec0b3a8559\")>,\n",
       " <selenium.webdriver.remote.webelement.WebElement (session=\"bada17af6006a2f27806cbd1df388009\", element=\"217bb0af-b7f7-4aa0-9c6d-98fb8f4e00e7\")>,\n",
       " <selenium.webdriver.remote.webelement.WebElement (session=\"bada17af6006a2f27806cbd1df388009\", element=\"f6529a19-fc01-4efc-8903-3e7e1085499a\")>,\n",
       " <selenium.webdriver.remote.webelement.WebElement (session=\"bada17af6006a2f27806cbd1df388009\", element=\"06f69358-6ccd-4ca1-a492-c95622c778a1\")>,\n",
       " <selenium.webdriver.remote.webelement.WebElement (session=\"bada17af6006a2f27806cbd1df388009\", element=\"eb4ae249-0350-487d-99b8-ea1267d5ee10\")>,\n",
       " <selenium.webdriver.remote.webelement.WebElement (session=\"bada17af6006a2f27806cbd1df388009\", element=\"27b7c5de-1626-4608-a5e2-4ec12b3c0bf0\")>,\n",
       " <selenium.webdriver.remote.webelement.WebElement (session=\"bada17af6006a2f27806cbd1df388009\", element=\"549f891d-0baa-4acd-a08d-9230c4949981\")>,\n",
       " <selenium.webdriver.remote.webelement.WebElement (session=\"bada17af6006a2f27806cbd1df388009\", element=\"92ead0bb-c7ae-4fbe-8b8b-0b29b7b84586\")>,\n",
       " <selenium.webdriver.remote.webelement.WebElement (session=\"bada17af6006a2f27806cbd1df388009\", element=\"94827b72-bdc3-4037-9f50-d23d37d5cfe9\")>,\n",
       " <selenium.webdriver.remote.webelement.WebElement (session=\"bada17af6006a2f27806cbd1df388009\", element=\"9eb0d9c1-c467-4025-934c-d59086343eb3\")>,\n",
       " <selenium.webdriver.remote.webelement.WebElement (session=\"bada17af6006a2f27806cbd1df388009\", element=\"259dda16-5078-4a66-9edc-06f58fefce6d\")>,\n",
       " <selenium.webdriver.remote.webelement.WebElement (session=\"bada17af6006a2f27806cbd1df388009\", element=\"6a434df1-a56e-4da5-bdea-e87a775dd342\")>,\n",
       " <selenium.webdriver.remote.webelement.WebElement (session=\"bada17af6006a2f27806cbd1df388009\", element=\"80d3f501-948c-4e74-88c0-4b0dafd4109c\")>,\n",
       " <selenium.webdriver.remote.webelement.WebElement (session=\"bada17af6006a2f27806cbd1df388009\", element=\"3e39332f-424f-4bfc-80d5-babc058a4b2f\")>,\n",
       " <selenium.webdriver.remote.webelement.WebElement (session=\"bada17af6006a2f27806cbd1df388009\", element=\"e088598b-c939-44b2-90db-45099f728517\")>,\n",
       " <selenium.webdriver.remote.webelement.WebElement (session=\"bada17af6006a2f27806cbd1df388009\", element=\"cf060007-ab75-4c85-9ffa-3992e8dd2e8b\")>,\n",
       " <selenium.webdriver.remote.webelement.WebElement (session=\"bada17af6006a2f27806cbd1df388009\", element=\"4f16f82f-6e52-49ae-b9b8-e08ec97106fd\")>,\n",
       " <selenium.webdriver.remote.webelement.WebElement (session=\"bada17af6006a2f27806cbd1df388009\", element=\"4b5eca02-4720-417a-a265-69e7a36db9c0\")>,\n",
       " <selenium.webdriver.remote.webelement.WebElement (session=\"bada17af6006a2f27806cbd1df388009\", element=\"b5e2ae17-674a-469d-9774-d1b02efb658c\")>,\n",
       " <selenium.webdriver.remote.webelement.WebElement (session=\"bada17af6006a2f27806cbd1df388009\", element=\"91509590-dfb9-4704-8555-aa9643c2f0fe\")>,\n",
       " <selenium.webdriver.remote.webelement.WebElement (session=\"bada17af6006a2f27806cbd1df388009\", element=\"fa45be7f-cee0-46dd-8dc8-0f27a1724285\")>,\n",
       " <selenium.webdriver.remote.webelement.WebElement (session=\"bada17af6006a2f27806cbd1df388009\", element=\"fc7e7eae-4157-4429-b5bf-36e13cecfb01\")>,\n",
       " <selenium.webdriver.remote.webelement.WebElement (session=\"bada17af6006a2f27806cbd1df388009\", element=\"eeefccab-c869-443c-945b-be373427ec6e\")>,\n",
       " <selenium.webdriver.remote.webelement.WebElement (session=\"bada17af6006a2f27806cbd1df388009\", element=\"1b39e28c-f000-46a1-b98d-dc33e8d67d1c\")>,\n",
       " <selenium.webdriver.remote.webelement.WebElement (session=\"bada17af6006a2f27806cbd1df388009\", element=\"da8dbf6c-f25b-4c1a-a1f3-19fa4b3aae95\")>,\n",
       " <selenium.webdriver.remote.webelement.WebElement (session=\"bada17af6006a2f27806cbd1df388009\", element=\"d505dac3-b152-44c0-a265-a6573726af87\")>,\n",
       " <selenium.webdriver.remote.webelement.WebElement (session=\"bada17af6006a2f27806cbd1df388009\", element=\"ddaa4ba1-862c-4cfb-b326-fc5e614228cb\")>,\n",
       " <selenium.webdriver.remote.webelement.WebElement (session=\"bada17af6006a2f27806cbd1df388009\", element=\"65bc6d77-ddb5-4f7c-8919-e429c76976d4\")>,\n",
       " <selenium.webdriver.remote.webelement.WebElement (session=\"bada17af6006a2f27806cbd1df388009\", element=\"31c2cb85-52f5-446f-b000-95ca27157eda\")>,\n",
       " <selenium.webdriver.remote.webelement.WebElement (session=\"bada17af6006a2f27806cbd1df388009\", element=\"03e25d7e-716f-4295-97a3-572588bf7e19\")>,\n",
       " <selenium.webdriver.remote.webelement.WebElement (session=\"bada17af6006a2f27806cbd1df388009\", element=\"073c968c-7f0b-4e6e-bde3-745ae814eb02\")>,\n",
       " <selenium.webdriver.remote.webelement.WebElement (session=\"bada17af6006a2f27806cbd1df388009\", element=\"bff9624d-a808-4dd9-8978-618e2f704d3d\")>,\n",
       " <selenium.webdriver.remote.webelement.WebElement (session=\"bada17af6006a2f27806cbd1df388009\", element=\"a865c023-4a0c-4b18-aecc-e427b6f2f6ab\")>,\n",
       " <selenium.webdriver.remote.webelement.WebElement (session=\"bada17af6006a2f27806cbd1df388009\", element=\"4a881f8e-e917-4b9b-b4b7-05ac687ab4d9\")>,\n",
       " <selenium.webdriver.remote.webelement.WebElement (session=\"bada17af6006a2f27806cbd1df388009\", element=\"9b3e03e1-6916-4ae7-a962-9443f3d94f45\")>,\n",
       " <selenium.webdriver.remote.webelement.WebElement (session=\"bada17af6006a2f27806cbd1df388009\", element=\"14809375-560c-4a8a-b353-c931ca801168\")>,\n",
       " <selenium.webdriver.remote.webelement.WebElement (session=\"bada17af6006a2f27806cbd1df388009\", element=\"880b5e5a-4ad3-4fc3-b817-fb23ab9e4f56\")>,\n",
       " <selenium.webdriver.remote.webelement.WebElement (session=\"bada17af6006a2f27806cbd1df388009\", element=\"03b11bfb-020a-48db-a5d7-aa0d4d829f54\")>,\n",
       " <selenium.webdriver.remote.webelement.WebElement (session=\"bada17af6006a2f27806cbd1df388009\", element=\"d13919d9-1759-48fa-bbe3-002e47c3570f\")>,\n",
       " <selenium.webdriver.remote.webelement.WebElement (session=\"bada17af6006a2f27806cbd1df388009\", element=\"44efc223-7b0a-42e4-9954-bac5df78ab2b\")>,\n",
       " <selenium.webdriver.remote.webelement.WebElement (session=\"bada17af6006a2f27806cbd1df388009\", element=\"9673fc51-2f65-4cbc-a9e0-5e33187fc700\")>,\n",
       " <selenium.webdriver.remote.webelement.WebElement (session=\"bada17af6006a2f27806cbd1df388009\", element=\"e4815cf7-8386-4d44-a9ba-6e413c402e9d\")>,\n",
       " <selenium.webdriver.remote.webelement.WebElement (session=\"bada17af6006a2f27806cbd1df388009\", element=\"4e2f31c3-ef6c-4da3-ad3a-e577f26e6731\")>,\n",
       " <selenium.webdriver.remote.webelement.WebElement (session=\"bada17af6006a2f27806cbd1df388009\", element=\"09efd8e2-c8b4-48e4-bf93-79f428a0bc8a\")>,\n",
       " <selenium.webdriver.remote.webelement.WebElement (session=\"bada17af6006a2f27806cbd1df388009\", element=\"468e91f2-195f-40f4-baf7-ae4578e1e9d9\")>,\n",
       " <selenium.webdriver.remote.webelement.WebElement (session=\"bada17af6006a2f27806cbd1df388009\", element=\"7f2339bd-85a6-4230-a5e4-2a055e2e4419\")>,\n",
       " <selenium.webdriver.remote.webelement.WebElement (session=\"bada17af6006a2f27806cbd1df388009\", element=\"6fee00f3-dbb9-4cd1-8109-fcec7bbfaf2c\")>,\n",
       " <selenium.webdriver.remote.webelement.WebElement (session=\"bada17af6006a2f27806cbd1df388009\", element=\"cb03ce4f-ee65-421a-a4df-b6016bb912aa\")>,\n",
       " <selenium.webdriver.remote.webelement.WebElement (session=\"bada17af6006a2f27806cbd1df388009\", element=\"ffdf0142-fb6e-434f-8b2a-cd4469c81139\")>,\n",
       " <selenium.webdriver.remote.webelement.WebElement (session=\"bada17af6006a2f27806cbd1df388009\", element=\"22e273fc-03bc-4291-b0c7-8c5e190dafc8\")>,\n",
       " <selenium.webdriver.remote.webelement.WebElement (session=\"bada17af6006a2f27806cbd1df388009\", element=\"7db75c05-80b7-47a4-a45d-6860e5b8952a\")>,\n",
       " <selenium.webdriver.remote.webelement.WebElement (session=\"bada17af6006a2f27806cbd1df388009\", element=\"b50c5c6d-9242-4f35-95e4-21dae99c0d57\")>,\n",
       " <selenium.webdriver.remote.webelement.WebElement (session=\"bada17af6006a2f27806cbd1df388009\", element=\"8bbb11dd-f7aa-46c8-91d3-ee5b0a62fd27\")>,\n",
       " <selenium.webdriver.remote.webelement.WebElement (session=\"bada17af6006a2f27806cbd1df388009\", element=\"aac8e0b8-0b74-423a-89f4-45754c4fc3f6\")>,\n",
       " <selenium.webdriver.remote.webelement.WebElement (session=\"bada17af6006a2f27806cbd1df388009\", element=\"2bd11efa-3a7f-4385-8666-488862cf8fe9\")>,\n",
       " <selenium.webdriver.remote.webelement.WebElement (session=\"bada17af6006a2f27806cbd1df388009\", element=\"938df508-b3aa-422d-b63b-24994093eb78\")>,\n",
       " <selenium.webdriver.remote.webelement.WebElement (session=\"bada17af6006a2f27806cbd1df388009\", element=\"c9963316-798e-45a6-b658-3e4f9377f96d\")>,\n",
       " <selenium.webdriver.remote.webelement.WebElement (session=\"bada17af6006a2f27806cbd1df388009\", element=\"54c1b410-b4cf-4228-ba74-e39092687f10\")>,\n",
       " <selenium.webdriver.remote.webelement.WebElement (session=\"bada17af6006a2f27806cbd1df388009\", element=\"d1223a8b-b091-4cef-85a8-609f0cb3dc9a\")>,\n",
       " <selenium.webdriver.remote.webelement.WebElement (session=\"bada17af6006a2f27806cbd1df388009\", element=\"00d02780-1e8c-4ae8-bf24-90fb4e1843f0\")>,\n",
       " <selenium.webdriver.remote.webelement.WebElement (session=\"bada17af6006a2f27806cbd1df388009\", element=\"a7ad5597-3d98-4072-9f56-cfc477a39c21\")>,\n",
       " <selenium.webdriver.remote.webelement.WebElement (session=\"bada17af6006a2f27806cbd1df388009\", element=\"ee5aecec-ad23-4641-afef-3c4591824342\")>,\n",
       " <selenium.webdriver.remote.webelement.WebElement (session=\"bada17af6006a2f27806cbd1df388009\", element=\"e4b70e94-f6eb-4a54-bb96-456e4457a23b\")>,\n",
       " <selenium.webdriver.remote.webelement.WebElement (session=\"bada17af6006a2f27806cbd1df388009\", element=\"1e979f1c-6e72-4f0e-85a3-71d9b8b1c88d\")>,\n",
       " <selenium.webdriver.remote.webelement.WebElement (session=\"bada17af6006a2f27806cbd1df388009\", element=\"6c317ecd-3572-45cf-9656-1aa5925bc95d\")>,\n",
       " <selenium.webdriver.remote.webelement.WebElement (session=\"bada17af6006a2f27806cbd1df388009\", element=\"f498faa7-7d08-4387-926b-fe73c45a2f14\")>,\n",
       " <selenium.webdriver.remote.webelement.WebElement (session=\"bada17af6006a2f27806cbd1df388009\", element=\"d872b17d-4085-45b7-b8c2-ce086cce2992\")>,\n",
       " <selenium.webdriver.remote.webelement.WebElement (session=\"bada17af6006a2f27806cbd1df388009\", element=\"7c740458-66ab-4ba7-a3b9-e6695d3dbfd3\")>,\n",
       " <selenium.webdriver.remote.webelement.WebElement (session=\"bada17af6006a2f27806cbd1df388009\", element=\"9b7d2e79-fa49-4087-9a4f-0b061d028186\")>,\n",
       " <selenium.webdriver.remote.webelement.WebElement (session=\"bada17af6006a2f27806cbd1df388009\", element=\"ca095377-d66c-4809-9a75-f49a6ee8a1e5\")>,\n",
       " <selenium.webdriver.remote.webelement.WebElement (session=\"bada17af6006a2f27806cbd1df388009\", element=\"3027ad89-55f4-432b-923c-50182c27cb47\")>,\n",
       " <selenium.webdriver.remote.webelement.WebElement (session=\"bada17af6006a2f27806cbd1df388009\", element=\"1c2259bd-3bbc-40ac-bcf2-679841408d97\")>,\n",
       " <selenium.webdriver.remote.webelement.WebElement (session=\"bada17af6006a2f27806cbd1df388009\", element=\"802349b1-d704-46e5-8760-fbf7ca9c9d4d\")>,\n",
       " <selenium.webdriver.remote.webelement.WebElement (session=\"bada17af6006a2f27806cbd1df388009\", element=\"a9a8ad47-f5db-4509-be2e-54abd574ebbf\")>,\n",
       " <selenium.webdriver.remote.webelement.WebElement (session=\"bada17af6006a2f27806cbd1df388009\", element=\"3c854f9d-8788-4801-bcb7-4899d92fac4e\")>,\n",
       " <selenium.webdriver.remote.webelement.WebElement (session=\"bada17af6006a2f27806cbd1df388009\", element=\"1bb6ef90-b4f5-4fb3-b67b-1373a035a8f4\")>,\n",
       " <selenium.webdriver.remote.webelement.WebElement (session=\"bada17af6006a2f27806cbd1df388009\", element=\"ccec39ea-1a8e-4055-abe8-beffa11cf3e8\")>,\n",
       " <selenium.webdriver.remote.webelement.WebElement (session=\"bada17af6006a2f27806cbd1df388009\", element=\"5286d4df-4625-4951-8491-3fc51dd1981f\")>,\n",
       " <selenium.webdriver.remote.webelement.WebElement (session=\"bada17af6006a2f27806cbd1df388009\", element=\"76b70c9d-a59e-42f2-9ff3-c5411f32c6ae\")>,\n",
       " <selenium.webdriver.remote.webelement.WebElement (session=\"bada17af6006a2f27806cbd1df388009\", element=\"06718740-6d4e-439c-9090-8a4cd395ede6\")>,\n",
       " <selenium.webdriver.remote.webelement.WebElement (session=\"bada17af6006a2f27806cbd1df388009\", element=\"10c469d3-4789-4ee1-bf99-b87109229cf7\")>,\n",
       " <selenium.webdriver.remote.webelement.WebElement (session=\"bada17af6006a2f27806cbd1df388009\", element=\"ef3b9dd4-ca78-42cd-aab1-446fbd0cf14e\")>,\n",
       " <selenium.webdriver.remote.webelement.WebElement (session=\"bada17af6006a2f27806cbd1df388009\", element=\"2b529c9a-b1f6-4464-8b8f-16368d7d1c3a\")>,\n",
       " <selenium.webdriver.remote.webelement.WebElement (session=\"bada17af6006a2f27806cbd1df388009\", element=\"acb9c1a3-fdd0-4af0-8d95-09c1632470b5\")>,\n",
       " <selenium.webdriver.remote.webelement.WebElement (session=\"bada17af6006a2f27806cbd1df388009\", element=\"7a50684f-5b50-4ff0-b078-3d0a8304c10a\")>,\n",
       " <selenium.webdriver.remote.webelement.WebElement (session=\"bada17af6006a2f27806cbd1df388009\", element=\"6a61e886-4795-4946-971a-551680d24ed2\")>,\n",
       " <selenium.webdriver.remote.webelement.WebElement (session=\"bada17af6006a2f27806cbd1df388009\", element=\"e228f5a6-4654-4f51-8d52-b61a6bd54d2d\")>,\n",
       " <selenium.webdriver.remote.webelement.WebElement (session=\"bada17af6006a2f27806cbd1df388009\", element=\"8b39330c-de75-484e-8e0a-f5d00de7e2e0\")>,\n",
       " <selenium.webdriver.remote.webelement.WebElement (session=\"bada17af6006a2f27806cbd1df388009\", element=\"7a87a3ee-3b3e-4968-bc3a-fea45d4c3410\")>,\n",
       " <selenium.webdriver.remote.webelement.WebElement (session=\"bada17af6006a2f27806cbd1df388009\", element=\"20a51c70-9a7a-459a-9faf-a005a4a7cb48\")>,\n",
       " <selenium.webdriver.remote.webelement.WebElement (session=\"bada17af6006a2f27806cbd1df388009\", element=\"3d289bd7-0822-45ac-a89e-4d4f2f8191e5\")>,\n",
       " <selenium.webdriver.remote.webelement.WebElement (session=\"bada17af6006a2f27806cbd1df388009\", element=\"94be77c9-103a-4352-b6bb-20c00dcbc6ff\")>,\n",
       " <selenium.webdriver.remote.webelement.WebElement (session=\"bada17af6006a2f27806cbd1df388009\", element=\"5366e2c2-e7eb-4cec-9835-60f5ae53fb52\")>,\n",
       " <selenium.webdriver.remote.webelement.WebElement (session=\"bada17af6006a2f27806cbd1df388009\", element=\"f5735374-7f14-4dfd-ba2f-b25f15c168fa\")>,\n",
       " <selenium.webdriver.remote.webelement.WebElement (session=\"bada17af6006a2f27806cbd1df388009\", element=\"234fcb59-fc22-4d45-890f-b55f9646c3f8\")>,\n",
       " <selenium.webdriver.remote.webelement.WebElement (session=\"bada17af6006a2f27806cbd1df388009\", element=\"c18bd5ad-1733-4443-b5b4-dc5702293fc4\")>,\n",
       " <selenium.webdriver.remote.webelement.WebElement (session=\"bada17af6006a2f27806cbd1df388009\", element=\"668c1eef-ca4f-4083-b565-ba543b395e77\")>,\n",
       " <selenium.webdriver.remote.webelement.WebElement (session=\"bada17af6006a2f27806cbd1df388009\", element=\"72324c76-2274-483d-93dc-a5f5484cca71\")>,\n",
       " <selenium.webdriver.remote.webelement.WebElement (session=\"bada17af6006a2f27806cbd1df388009\", element=\"0b6c609b-1cc0-4d87-89b4-965973370ada\")>,\n",
       " <selenium.webdriver.remote.webelement.WebElement (session=\"bada17af6006a2f27806cbd1df388009\", element=\"96dccfdd-17b5-464b-bd12-cb6639691ce3\")>,\n",
       " <selenium.webdriver.remote.webelement.WebElement (session=\"bada17af6006a2f27806cbd1df388009\", element=\"d7d78283-c430-4560-934b-609748c5a9fa\")>,\n",
       " <selenium.webdriver.remote.webelement.WebElement (session=\"bada17af6006a2f27806cbd1df388009\", element=\"3204d4c7-b8cf-404c-8527-04c4b199d86e\")>,\n",
       " <selenium.webdriver.remote.webelement.WebElement (session=\"bada17af6006a2f27806cbd1df388009\", element=\"c41df799-7fc5-404d-8fa5-de1470b22aef\")>,\n",
       " <selenium.webdriver.remote.webelement.WebElement (session=\"bada17af6006a2f27806cbd1df388009\", element=\"89fa6994-8987-482c-9043-44d766143d9f\")>,\n",
       " <selenium.webdriver.remote.webelement.WebElement (session=\"bada17af6006a2f27806cbd1df388009\", element=\"5e5181f6-7f63-4fab-bf61-5264eab914d5\")>,\n",
       " <selenium.webdriver.remote.webelement.WebElement (session=\"bada17af6006a2f27806cbd1df388009\", element=\"4828c8cc-1400-4418-ae65-82c9383ce2a9\")>,\n",
       " <selenium.webdriver.remote.webelement.WebElement (session=\"bada17af6006a2f27806cbd1df388009\", element=\"72f1b389-1226-47f5-a605-af58ef649a0d\")>,\n",
       " <selenium.webdriver.remote.webelement.WebElement (session=\"bada17af6006a2f27806cbd1df388009\", element=\"0799cde6-fd7c-4cd1-a2e3-ca4ae1356b89\")>,\n",
       " <selenium.webdriver.remote.webelement.WebElement (session=\"bada17af6006a2f27806cbd1df388009\", element=\"a9435bc2-846a-4f35-b8d0-42bebede34dd\")>,\n",
       " <selenium.webdriver.remote.webelement.WebElement (session=\"bada17af6006a2f27806cbd1df388009\", element=\"d14bcb82-657f-4f49-b24e-dcd0cd65b80d\")>,\n",
       " <selenium.webdriver.remote.webelement.WebElement (session=\"bada17af6006a2f27806cbd1df388009\", element=\"f7719525-8586-4937-b77d-93459b8dc117\")>,\n",
       " <selenium.webdriver.remote.webelement.WebElement (session=\"bada17af6006a2f27806cbd1df388009\", element=\"11fba732-9ee7-48d9-a44c-b6ff29eccb0b\")>,\n",
       " <selenium.webdriver.remote.webelement.WebElement (session=\"bada17af6006a2f27806cbd1df388009\", element=\"649be988-c332-419a-89a0-3da557dfec47\")>,\n",
       " <selenium.webdriver.remote.webelement.WebElement (session=\"bada17af6006a2f27806cbd1df388009\", element=\"36e9bc50-41cd-4015-80e9-571a68e776fc\")>,\n",
       " <selenium.webdriver.remote.webelement.WebElement (session=\"bada17af6006a2f27806cbd1df388009\", element=\"c93587d5-9ba6-4fd6-a71b-f5157ce0aa18\")>,\n",
       " <selenium.webdriver.remote.webelement.WebElement (session=\"bada17af6006a2f27806cbd1df388009\", element=\"9f893c73-986c-4556-98e4-e7e7f1fc65a1\")>,\n",
       " <selenium.webdriver.remote.webelement.WebElement (session=\"bada17af6006a2f27806cbd1df388009\", element=\"b6f66cfb-3fcf-49d7-bfff-4c659035db66\")>,\n",
       " <selenium.webdriver.remote.webelement.WebElement (session=\"bada17af6006a2f27806cbd1df388009\", element=\"c537834c-1712-480f-b795-84e5c28ea618\")>,\n",
       " <selenium.webdriver.remote.webelement.WebElement (session=\"bada17af6006a2f27806cbd1df388009\", element=\"9887ed97-4d60-481a-b024-f40c56ce575e\")>,\n",
       " <selenium.webdriver.remote.webelement.WebElement (session=\"bada17af6006a2f27806cbd1df388009\", element=\"3878c42a-85ec-4c40-8322-fd48d97734c8\")>,\n",
       " <selenium.webdriver.remote.webelement.WebElement (session=\"bada17af6006a2f27806cbd1df388009\", element=\"781b4e2b-17ac-4e73-9631-84d33ef7ddc2\")>,\n",
       " <selenium.webdriver.remote.webelement.WebElement (session=\"bada17af6006a2f27806cbd1df388009\", element=\"6881ea53-e01f-44eb-bd78-5b3d18bcb374\")>,\n",
       " <selenium.webdriver.remote.webelement.WebElement (session=\"bada17af6006a2f27806cbd1df388009\", element=\"ccee06c5-4024-4341-b97e-bf9efefbb8e4\")>,\n",
       " <selenium.webdriver.remote.webelement.WebElement (session=\"bada17af6006a2f27806cbd1df388009\", element=\"5e097566-bd9b-4dea-be02-5dd72972fba2\")>,\n",
       " <selenium.webdriver.remote.webelement.WebElement (session=\"bada17af6006a2f27806cbd1df388009\", element=\"dd77139d-729c-4bf2-8f99-bfb6f0dbe885\")>,\n",
       " <selenium.webdriver.remote.webelement.WebElement (session=\"bada17af6006a2f27806cbd1df388009\", element=\"cb49dd3d-cc9a-4f3a-a463-f3444bd51b6c\")>,\n",
       " <selenium.webdriver.remote.webelement.WebElement (session=\"bada17af6006a2f27806cbd1df388009\", element=\"791989e6-67c5-4409-bb2a-433fb4a185e4\")>,\n",
       " <selenium.webdriver.remote.webelement.WebElement (session=\"bada17af6006a2f27806cbd1df388009\", element=\"7f9cdac0-a83b-49cb-bc18-cb5a99e89241\")>,\n",
       " <selenium.webdriver.remote.webelement.WebElement (session=\"bada17af6006a2f27806cbd1df388009\", element=\"24eeb498-b53e-413b-bc51-1ec6ac824443\")>,\n",
       " <selenium.webdriver.remote.webelement.WebElement (session=\"bada17af6006a2f27806cbd1df388009\", element=\"1fa4d45e-dac1-4a0e-8ffe-a3280464abb3\")>,\n",
       " <selenium.webdriver.remote.webelement.WebElement (session=\"bada17af6006a2f27806cbd1df388009\", element=\"b267fe95-e535-49a4-8406-cd742610e797\")>,\n",
       " <selenium.webdriver.remote.webelement.WebElement (session=\"bada17af6006a2f27806cbd1df388009\", element=\"d7cb7224-2650-49e1-b46d-dc0614e2c400\")>,\n",
       " <selenium.webdriver.remote.webelement.WebElement (session=\"bada17af6006a2f27806cbd1df388009\", element=\"71cb9778-9de3-4760-8094-18589e6fd4bf\")>,\n",
       " <selenium.webdriver.remote.webelement.WebElement (session=\"bada17af6006a2f27806cbd1df388009\", element=\"25d6f7bd-7379-4a12-92e2-43c9eabde0d4\")>,\n",
       " <selenium.webdriver.remote.webelement.WebElement (session=\"bada17af6006a2f27806cbd1df388009\", element=\"b69430d1-a3de-4c7f-aed6-488fa434e7f2\")>,\n",
       " <selenium.webdriver.remote.webelement.WebElement (session=\"bada17af6006a2f27806cbd1df388009\", element=\"2480908a-e02b-457a-a1c3-3add04cdc07d\")>,\n",
       " <selenium.webdriver.remote.webelement.WebElement (session=\"bada17af6006a2f27806cbd1df388009\", element=\"244c6177-b8a7-4fa9-bfce-b51b7697468c\")>,\n",
       " <selenium.webdriver.remote.webelement.WebElement (session=\"bada17af6006a2f27806cbd1df388009\", element=\"5bf87d01-958c-4744-993c-9abd38e3c183\")>,\n",
       " <selenium.webdriver.remote.webelement.WebElement (session=\"bada17af6006a2f27806cbd1df388009\", element=\"9c3827fb-67f2-46b0-919f-528596e249df\")>,\n",
       " <selenium.webdriver.remote.webelement.WebElement (session=\"bada17af6006a2f27806cbd1df388009\", element=\"708aa626-a0b0-48b0-b45f-d685d25c55e0\")>,\n",
       " <selenium.webdriver.remote.webelement.WebElement (session=\"bada17af6006a2f27806cbd1df388009\", element=\"a3cf2a0a-33fb-4b73-bb70-df44b2dbe44a\")>,\n",
       " <selenium.webdriver.remote.webelement.WebElement (session=\"bada17af6006a2f27806cbd1df388009\", element=\"f3bb831c-540a-4c38-89cc-86baddb601a9\")>,\n",
       " <selenium.webdriver.remote.webelement.WebElement (session=\"bada17af6006a2f27806cbd1df388009\", element=\"cc60d79e-e88a-425c-8625-dee9d16a3072\")>,\n",
       " <selenium.webdriver.remote.webelement.WebElement (session=\"bada17af6006a2f27806cbd1df388009\", element=\"c653a0ee-51e4-4a37-a6fb-dcdd7b675904\")>,\n",
       " <selenium.webdriver.remote.webelement.WebElement (session=\"bada17af6006a2f27806cbd1df388009\", element=\"f1a6c99c-ece8-41ca-8f11-b62d42f1f284\")>,\n",
       " <selenium.webdriver.remote.webelement.WebElement (session=\"bada17af6006a2f27806cbd1df388009\", element=\"8a881548-7bc9-4e5b-84c7-642667ffb76f\")>,\n",
       " <selenium.webdriver.remote.webelement.WebElement (session=\"bada17af6006a2f27806cbd1df388009\", element=\"67c50058-cd1d-40bc-8508-a5ccbc7a3a53\")>,\n",
       " <selenium.webdriver.remote.webelement.WebElement (session=\"bada17af6006a2f27806cbd1df388009\", element=\"5344a4cd-7e66-4897-89c5-6f114ce43acd\")>,\n",
       " <selenium.webdriver.remote.webelement.WebElement (session=\"bada17af6006a2f27806cbd1df388009\", element=\"2bac6b6f-e004-4a29-b3b2-d7d213f1f50d\")>,\n",
       " <selenium.webdriver.remote.webelement.WebElement (session=\"bada17af6006a2f27806cbd1df388009\", element=\"cae3b050-a640-4881-b076-0cf1fb778874\")>,\n",
       " <selenium.webdriver.remote.webelement.WebElement (session=\"bada17af6006a2f27806cbd1df388009\", element=\"e3564b2d-66a9-4a21-982d-9b314ae6bb62\")>,\n",
       " <selenium.webdriver.remote.webelement.WebElement (session=\"bada17af6006a2f27806cbd1df388009\", element=\"00ed7593-52ef-4b0f-a338-90a6c98540d8\")>,\n",
       " <selenium.webdriver.remote.webelement.WebElement (session=\"bada17af6006a2f27806cbd1df388009\", element=\"9afc5d9e-662a-4ec0-a790-66b602dec6d0\")>,\n",
       " <selenium.webdriver.remote.webelement.WebElement (session=\"bada17af6006a2f27806cbd1df388009\", element=\"7b22109f-4a6d-4efc-bce0-b66dc40a23e6\")>,\n",
       " <selenium.webdriver.remote.webelement.WebElement (session=\"bada17af6006a2f27806cbd1df388009\", element=\"a8f2bd77-74a6-4654-8831-a9b2bdd9d81f\")>,\n",
       " <selenium.webdriver.remote.webelement.WebElement (session=\"bada17af6006a2f27806cbd1df388009\", element=\"1d382f83-5c64-426a-9f25-5342b6baa96e\")>,\n",
       " <selenium.webdriver.remote.webelement.WebElement (session=\"bada17af6006a2f27806cbd1df388009\", element=\"5c7b748b-c3be-464e-b528-fc3c828d3da7\")>,\n",
       " <selenium.webdriver.remote.webelement.WebElement (session=\"bada17af6006a2f27806cbd1df388009\", element=\"eacd5174-45ab-4084-9fa7-60ee07bb5f4e\")>,\n",
       " <selenium.webdriver.remote.webelement.WebElement (session=\"bada17af6006a2f27806cbd1df388009\", element=\"0ea50ac3-9635-466f-9e87-4f7e023ddfb2\")>,\n",
       " <selenium.webdriver.remote.webelement.WebElement (session=\"bada17af6006a2f27806cbd1df388009\", element=\"f7dfc540-4920-4f26-9a99-9b3299434d0d\")>,\n",
       " <selenium.webdriver.remote.webelement.WebElement (session=\"bada17af6006a2f27806cbd1df388009\", element=\"cf01db0a-8356-451c-8608-5114676619c1\")>,\n",
       " <selenium.webdriver.remote.webelement.WebElement (session=\"bada17af6006a2f27806cbd1df388009\", element=\"a6b159e4-6201-4d79-93bf-ed74ba744e71\")>,\n",
       " <selenium.webdriver.remote.webelement.WebElement (session=\"bada17af6006a2f27806cbd1df388009\", element=\"f655eeed-844d-4bc6-a335-be43600e8c38\")>,\n",
       " <selenium.webdriver.remote.webelement.WebElement (session=\"bada17af6006a2f27806cbd1df388009\", element=\"87b5b139-29e6-40a2-96b1-7548dc0e9429\")>,\n",
       " <selenium.webdriver.remote.webelement.WebElement (session=\"bada17af6006a2f27806cbd1df388009\", element=\"274e79c1-4c47-40fe-accc-eee7dcce41f8\")>,\n",
       " <selenium.webdriver.remote.webelement.WebElement (session=\"bada17af6006a2f27806cbd1df388009\", element=\"c2d4a62a-353a-49a7-88b8-17495c14b8d3\")>,\n",
       " '-',\n",
       " '13.94%',\n",
       " '399.921',\n",
       " '-',\n",
       " '2,039,074',\n",
       " '1,845,853',\n",
       " '8.63%',\n",
       " '247.629',\n",
       " '1,312,929',\n",
       " '1,215,307',\n",
       " '1,687,818',\n",
       " '8.39%',\n",
       " '240.726',\n",
       " '1,166,817',\n",
       " '1,123,982',\n",
       " '-',\n",
       " '7.96%',\n",
       " '228.290',\n",
       " '-',\n",
       " '1,186,379',\n",
       " '1,631,977',\n",
       " '7.91%',\n",
       " '226.806',\n",
       " '1,156,039',\n",
       " '1,091,077',\n",
       " '1,253,832',\n",
       " '5.77%',\n",
       " '165.556',\n",
       " '793,223',\n",
       " '739,525',\n",
       " '1,020,989',\n",
       " '4.99%',\n",
       " '143.179',\n",
       " '711,627',\n",
       " '677,428',\n",
       " '972,782',\n",
       " '4.57%',\n",
       " '131.083',\n",
       " '672,018',\n",
       " '621,301',\n",
       " '969,604',\n",
       " '4.56%',\n",
       " '130.791',\n",
       " '663,258',\n",
       " '612,828',\n",
       " '906,672',\n",
       " '4.29%',\n",
       " '122.977',\n",
       " '561,801',\n",
       " '522,009',\n",
       " '-',\n",
       " '4.14%',\n",
       " '118.733',\n",
       " '-',\n",
       " '559,412',\n",
       " '856,112',\n",
       " '4.10%',\n",
       " '117.703',\n",
       " '634,408',\n",
       " '590,569',\n",
       " '831,610',\n",
       " '3.89%',\n",
       " '111.519',\n",
       " '572,240',\n",
       " '531,085',\n",
       " '611,804',\n",
       " '2.81%',\n",
       " '80.562',\n",
       " '414,977',\n",
       " '375,651',\n",
       " '574,760',\n",
       " '2.79%',\n",
       " '79.957',\n",
       " '418,868',\n",
       " '397,669',\n",
       " '521,275',\n",
       " '2.58%',\n",
       " '74.098',\n",
       " '396,499',\n",
       " '376,877',\n",
       " '-',\n",
       " '1.67%',\n",
       " '47.982',\n",
       " '-',\n",
       " '234,048',\n",
       " '329,180',\n",
       " '1.61%',\n",
       " '46.187',\n",
       " '243,477',\n",
       " '231,182',\n",
       " '328,598',\n",
       " '1.57%',\n",
       " '45.145',\n",
       " '240,036',\n",
       " '224,986',\n",
       " '-',\n",
       " '1.30%',\n",
       " '37.351',\n",
       " '-',\n",
       " '193,273',\n",
       " '-',\n",
       " '0.83%',\n",
       " '23.690',\n",
       " '-',\n",
       " '112,755',\n",
       " '165,472',\n",
       " '0.81%',\n",
       " '23.369',\n",
       " '124,403',\n",
       " '117,851',\n",
       " '80,449',\n",
       " '0.39%',\n",
       " '11.115',\n",
       " '63,408',\n",
       " '57,787',\n",
       " '55,984',\n",
       " '0.26%',\n",
       " '7.571',\n",
       " '40,583',\n",
       " '36,963',\n",
       " '-',\n",
       " '0.22%',\n",
       " '6.397',\n",
       " '-',\n",
       " '31,192',\n",
       " '38,253',\n",
       " '0.18%',\n",
       " '5.230',\n",
       " '25,093',\n",
       " '23,013',\n",
       " '36,572',\n",
       " '0.18%',\n",
       " '5.086',\n",
       " '26,695',\n",
       " '24,682',\n",
       " '32,496',\n",
       " '0.15%',\n",
       " '4.363',\n",
       " '20,017',\n",
       " '18,722',\n",
       " '31,790',\n",
       " '0.15%',\n",
       " '4.233',\n",
       " '20,673',\n",
       " '19,300',\n",
       " '-',\n",
       " '0.14%',\n",
       " '4.144',\n",
       " '-',\n",
       " '17,647',\n",
       " '-',\n",
       " '0.13%',\n",
       " '3.737',\n",
       " '-',\n",
       " '16,676',\n",
       " '26,503',\n",
       " '0.12%',\n",
       " '3.385',\n",
       " '18,797',\n",
       " '16,478',\n",
       " '-',\n",
       " '-',\n",
       " '-',\n",
       " '-',\n",
       " '-',\n",
       " '20,351,013',\n",
       " '18,886,957',\n",
       " '',\n",
       " '2,869',\n",
       " '14,569,268',\n",
       " '14,003,316',\n",
       " '-',\n",
       " '13.97%',\n",
       " '-',\n",
       " '1,794,123',\n",
       " '1,659,210',\n",
       " '8.77%',\n",
       " '1,167,776',\n",
       " '1,079,894',\n",
       " '1,495,758',\n",
       " '8.41%',\n",
       " '1,015,735',\n",
       " '979,159',\n",
       " '1,476,983',\n",
       " '8.09%',\n",
       " '1,035,131',\n",
       " '976,948',\n",
       " '-',\n",
       " '7.92%',\n",
       " '-',\n",
       " '1,036,859',\n",
       " '1,150,711',\n",
       " '5.96%',\n",
       " '713,376',\n",
       " '662,432',\n",
       " '916,014',\n",
       " '5.06%',\n",
       " '630,693',\n",
       " '600,433',\n",
       " '881,873',\n",
       " '4.68%',\n",
       " '594,806',\n",
       " '549,481',\n",
       " '875,429',\n",
       " '4.65%',\n",
       " '595,605',\n",
       " '550,584',\n",
       " '827,019',\n",
       " '4.41%',\n",
       " '496,798',\n",
       " '461,903',\n",
       " '-',\n",
       " '4.24%',\n",
       " '-',\n",
       " '513,322',\n",
       " '779,647',\n",
       " '4.22%',\n",
       " '568,265',\n",
       " '529,739',\n",
       " '755,790',\n",
       " '3.99%',\n",
       " '514,983',\n",
       " '477,834',\n",
       " '562,710',\n",
       " '2.91%',\n",
       " '377,276',\n",
       " '340,512',\n",
       " '517,521',\n",
       " '2.83%',\n",
       " '374,015',\n",
       " '354,830',\n",
       " '457,757',\n",
       " '2.56%',\n",
       " '344,437',\n",
       " '327,805',\n",
       " '-',\n",
       " '1.69%',\n",
       " '-',\n",
       " '207,193',\n",
       " '301,242',\n",
       " '1.63%',\n",
       " '218,232',\n",
       " '204,423',\n",
       " '288,041',\n",
       " '1.60%',\n",
       " '210,837',\n",
       " '200,453',\n",
       " '-',\n",
       " '1.33%',\n",
       " '-',\n",
       " '173,211',\n",
       " '143,063',\n",
       " '0.80%',\n",
       " '107,171',\n",
       " '101,534',\n",
       " '-',\n",
       " '0.78%',\n",
       " '-',\n",
       " '91,666',\n",
       " '72,181',\n",
       " '0.40%',\n",
       " '56,810',\n",
       " '51,878',\n",
       " '50,227',\n",
       " '0.27%',\n",
       " '35,980',\n",
       " '32,830',\n",
       " '-',\n",
       " '0.22%',\n",
       " '-',\n",
       " '27,565',\n",
       " '34,823',\n",
       " '0.19%',\n",
       " '22,291',\n",
       " '20,534',\n",
       " '32,833',\n",
       " '0.18%',\n",
       " '23,564',\n",
       " '21,779',\n",
       " '29,148',\n",
       " '0.15%',\n",
       " '18,549',\n",
       " '17,228',\n",
       " '28,391',\n",
       " '0.15%',\n",
       " '17,060',\n",
       " '15,972',\n",
       " '-',\n",
       " '0.15%',\n",
       " '-',\n",
       " '15,381',\n",
       " '-',\n",
       " '0.13%',\n",
       " '-',\n",
       " '15,013',\n",
       " '24,424',\n",
       " '0.13%',\n",
       " '17,797',\n",
       " '15,372',\n",
       " '-',\n",
       " '-',\n",
       " '-',\n",
       " '-',\n",
       " '17,994,301',\n",
       " '16,704,645',\n",
       " '',\n",
       " '12,681,246',\n",
       " '12,240,380']"
      ]
     },
     "execution_count": 60,
     "metadata": {},
     "output_type": "execute_result"
    }
   ],
   "source": [
    "for i in GSDPatcurrentprice_19_200:\n",
    "    GSDPatcurrentprice_19_20.append(i.text)\n",
    "GSDPatcurrentprice_19_20    "
   ]
  },
  {
   "cell_type": "markdown",
   "metadata": {},
   "source": [
    "# 5. Scrape the details of trending repositories on Github.com.\n",
    "Url = https://github.com/\n",
    "You have to find the following details:\n",
    "A) Repository title\n",
    "B) Repository description\n",
    "C) Contributors count\n",
    "D) Language used"
   ]
  },
  {
   "cell_type": "code",
   "execution_count": 3,
   "metadata": {},
   "outputs": [],
   "source": [
    "driver =webdriver.Chrome(r'C:\\Users\\Om Prakash\\Downloads\\chromedriver_win32/chromedriver.exe')"
   ]
  },
  {
   "cell_type": "code",
   "execution_count": 4,
   "metadata": {},
   "outputs": [],
   "source": [
    "driver=webdriver.Chrome('chromedriver.exe')"
   ]
  },
  {
   "cell_type": "code",
   "execution_count": 5,
   "metadata": {},
   "outputs": [],
   "source": [
    "driver.get('https://github.com/')"
   ]
  },
  {
   "cell_type": "code",
   "execution_count": 7,
   "metadata": {},
   "outputs": [],
   "source": [
    "url=('https://github.com/trending')"
   ]
  },
  {
   "cell_type": "code",
   "execution_count": 11,
   "metadata": {},
   "outputs": [],
   "source": [
    "Repository_title=[]\n",
    "Repository_description=[]\n",
    "Contributors_count=[]\n",
    "Language_used=[]"
   ]
  },
  {
   "cell_type": "code",
   "execution_count": 9,
   "metadata": {},
   "outputs": [
    {
     "data": {
      "text/plain": [
       "[<selenium.webdriver.remote.webelement.WebElement (session=\"25e597b175c091792fdd2d94dd6c8176\", element=\"bc4c8a87-930e-4cc5-b4c0-e001e8a76a9f\")>,\n",
       " <selenium.webdriver.remote.webelement.WebElement (session=\"25e597b175c091792fdd2d94dd6c8176\", element=\"10cbe4e8-1673-4e52-9bba-c9cd404aca0e\")>,\n",
       " <selenium.webdriver.remote.webelement.WebElement (session=\"25e597b175c091792fdd2d94dd6c8176\", element=\"6af13a59-e508-4481-bd49-c49dbe2c180e\")>,\n",
       " <selenium.webdriver.remote.webelement.WebElement (session=\"25e597b175c091792fdd2d94dd6c8176\", element=\"cb66eb8c-37f7-4920-be7e-f47ec4d2d9e1\")>,\n",
       " <selenium.webdriver.remote.webelement.WebElement (session=\"25e597b175c091792fdd2d94dd6c8176\", element=\"a010670c-6758-4697-946c-8a0d75466053\")>,\n",
       " <selenium.webdriver.remote.webelement.WebElement (session=\"25e597b175c091792fdd2d94dd6c8176\", element=\"6765e9ef-d939-4c95-9dc5-ff458e18faf7\")>,\n",
       " <selenium.webdriver.remote.webelement.WebElement (session=\"25e597b175c091792fdd2d94dd6c8176\", element=\"1578e694-5c9b-4ea8-b473-24162f2314d2\")>,\n",
       " <selenium.webdriver.remote.webelement.WebElement (session=\"25e597b175c091792fdd2d94dd6c8176\", element=\"13a575f8-bfb2-4db0-be88-bde6885bb29b\")>,\n",
       " <selenium.webdriver.remote.webelement.WebElement (session=\"25e597b175c091792fdd2d94dd6c8176\", element=\"25883a71-9dbc-46b6-8e04-a11b57c6d556\")>,\n",
       " <selenium.webdriver.remote.webelement.WebElement (session=\"25e597b175c091792fdd2d94dd6c8176\", element=\"195aa272-0ab1-4b44-8f48-89b1bcb92d8f\")>]"
      ]
     },
     "execution_count": 9,
     "metadata": {},
     "output_type": "execute_result"
    }
   ],
   "source": [
    "title_tags=driver.find_elements_by_xpath(\"//h1[@class='h3 lh-condensed']\")\n",
    "title_tags[0:10]"
   ]
  },
  {
   "cell_type": "code",
   "execution_count": 13,
   "metadata": {},
   "outputs": [
    {
     "data": {
      "text/plain": [
       "['microsoft / ML-For-Beginners',\n",
       " 'ruanyf / weekly',\n",
       " 'DrKLO / Telegram',\n",
       " 'vandadnp / flutter-tips-and-tricks',\n",
       " 'd2l-ai / d2l-zh']"
      ]
     },
     "execution_count": 13,
     "metadata": {},
     "output_type": "execute_result"
    }
   ],
   "source": [
    "for i in title_tags:\n",
    "    Repository_title.append(i.text)\n",
    "Repository_title[0:5]    "
   ]
  },
  {
   "cell_type": "code",
   "execution_count": 14,
   "metadata": {},
   "outputs": [
    {
     "data": {
      "text/plain": [
       "[<selenium.webdriver.remote.webelement.WebElement (session=\"25e597b175c091792fdd2d94dd6c8176\", element=\"48970e02-4c17-465a-a694-416d6f45b6db\")>,\n",
       " <selenium.webdriver.remote.webelement.WebElement (session=\"25e597b175c091792fdd2d94dd6c8176\", element=\"d7ad8559-540d-4b7e-9558-11ff32a5f0f3\")>,\n",
       " <selenium.webdriver.remote.webelement.WebElement (session=\"25e597b175c091792fdd2d94dd6c8176\", element=\"fc8f7cb6-2556-4f0b-b64f-af1a8ec80c01\")>,\n",
       " <selenium.webdriver.remote.webelement.WebElement (session=\"25e597b175c091792fdd2d94dd6c8176\", element=\"793f15df-28f4-4ec5-b272-87ee307d829d\")>,\n",
       " <selenium.webdriver.remote.webelement.WebElement (session=\"25e597b175c091792fdd2d94dd6c8176\", element=\"bb46292a-ebea-45e2-a695-919c34d71986\")>]"
      ]
     },
     "execution_count": 14,
     "metadata": {},
     "output_type": "execute_result"
    }
   ],
   "source": [
    "title_tag=driver.find_elements_by_xpath(\"//p[@class='col-9 color-fg-muted my-1 pr-4']\")\n",
    "title_tag[0:5]"
   ]
  },
  {
   "cell_type": "code",
   "execution_count": 16,
   "metadata": {},
   "outputs": [
    {
     "data": {
      "text/plain": [
       "['12 weeks, 26 lessons, 52 quizzes, classic Machine Learning for all',\n",
       " '科技爱好者周刊，每周五发布',\n",
       " 'Telegram for Android source',\n",
       " 'A Collection of Flutter and Dart Tips and Tricks',\n",
       " '《动手学深度学习》：面向中文读者、能运行、可讨论。中英文版被全球200所大学采用教学。']"
      ]
     },
     "execution_count": 16,
     "metadata": {},
     "output_type": "execute_result"
    }
   ],
   "source": [
    "for i in title_tag:\n",
    "    Repository_description.append(i.text)\n",
    "Repository_description[0:5]  "
   ]
  },
  {
   "cell_type": "code",
   "execution_count": 17,
   "metadata": {},
   "outputs": [
    {
     "data": {
      "text/plain": [
       "[<selenium.webdriver.remote.webelement.WebElement (session=\"25e597b175c091792fdd2d94dd6c8176\", element=\"bb2b8dc0-5b86-4a84-92f3-98b9c94a7134\")>,\n",
       " <selenium.webdriver.remote.webelement.WebElement (session=\"25e597b175c091792fdd2d94dd6c8176\", element=\"17c1ccdd-5492-47d0-a43b-9b742422f6e5\")>,\n",
       " <selenium.webdriver.remote.webelement.WebElement (session=\"25e597b175c091792fdd2d94dd6c8176\", element=\"58b77380-e9e0-4a50-a5bc-970d9a1b7e85\")>,\n",
       " <selenium.webdriver.remote.webelement.WebElement (session=\"25e597b175c091792fdd2d94dd6c8176\", element=\"b3a16a14-506a-4f80-919c-992169f988da\")>,\n",
       " <selenium.webdriver.remote.webelement.WebElement (session=\"25e597b175c091792fdd2d94dd6c8176\", element=\"35a0ffb0-e800-4008-bad1-fe004f788c2f\")>]"
      ]
     },
     "execution_count": 17,
     "metadata": {},
     "output_type": "execute_result"
    }
   ],
   "source": [
    "title_ta=driver.find_elements_by_xpath(\"//a[@class='Link--muted d-inline-block mr-3']\")\n",
    "title_ta[0:5]"
   ]
  },
  {
   "cell_type": "code",
   "execution_count": 18,
   "metadata": {},
   "outputs": [
    {
     "data": {
      "text/plain": [
       "['24,824', '5,114', '19,400', '1,494', '18,146']"
      ]
     },
     "execution_count": 18,
     "metadata": {},
     "output_type": "execute_result"
    }
   ],
   "source": [
    "for i in title_ta:\n",
    "    Contributors_count.append(i.text)\n",
    "Contributors_count[0:5]    "
   ]
  },
  {
   "cell_type": "code",
   "execution_count": 19,
   "metadata": {},
   "outputs": [
    {
     "data": {
      "text/plain": [
       "[<selenium.webdriver.remote.webelement.WebElement (session=\"25e597b175c091792fdd2d94dd6c8176\", element=\"06893d13-7d92-45c9-b9c7-10ccd1c4cf22\")>,\n",
       " <selenium.webdriver.remote.webelement.WebElement (session=\"25e597b175c091792fdd2d94dd6c8176\", element=\"179ec433-eff7-4016-9d28-df992fdaec0a\")>,\n",
       " <selenium.webdriver.remote.webelement.WebElement (session=\"25e597b175c091792fdd2d94dd6c8176\", element=\"7d29bf92-da16-442e-beaf-d5e84756bba9\")>,\n",
       " <selenium.webdriver.remote.webelement.WebElement (session=\"25e597b175c091792fdd2d94dd6c8176\", element=\"485b7019-bc12-4c0d-a7c2-c67a1df3102e\")>,\n",
       " <selenium.webdriver.remote.webelement.WebElement (session=\"25e597b175c091792fdd2d94dd6c8176\", element=\"318ff246-90ac-456c-9cea-01259f2be756\")>]"
      ]
     },
     "execution_count": 19,
     "metadata": {},
     "output_type": "execute_result"
    }
   ],
   "source": [
    "title_t=driver.find_elements_by_xpath(\"//span[@class='d-inline-block ml-0 mr-3']\")\n",
    "title_t[0:5]"
   ]
  },
  {
   "cell_type": "code",
   "execution_count": 21,
   "metadata": {},
   "outputs": [
    {
     "data": {
      "text/plain": [
       "['Jupyter Notebook', 'Java', 'Dart', 'Python', 'TeX']"
      ]
     },
     "execution_count": 21,
     "metadata": {},
     "output_type": "execute_result"
    }
   ],
   "source": [
    "for i in title_t:\n",
    "    Language_used.append(i.text)\n",
    "Language_used[0:5]   "
   ]
  },
  {
   "cell_type": "code",
   "execution_count": 23,
   "metadata": {},
   "outputs": [
    {
     "data": {
      "text/html": [
       "<div>\n",
       "<style scoped>\n",
       "    .dataframe tbody tr th:only-of-type {\n",
       "        vertical-align: middle;\n",
       "    }\n",
       "\n",
       "    .dataframe tbody tr th {\n",
       "        vertical-align: top;\n",
       "    }\n",
       "\n",
       "    .dataframe thead th {\n",
       "        text-align: right;\n",
       "    }\n",
       "</style>\n",
       "<table border=\"1\" class=\"dataframe\">\n",
       "  <thead>\n",
       "    <tr style=\"text-align: right;\">\n",
       "      <th></th>\n",
       "      <th>Repository_title</th>\n",
       "      <th>Repository_description</th>\n",
       "      <th>Contributors_count</th>\n",
       "      <th>Language_used</th>\n",
       "    </tr>\n",
       "  </thead>\n",
       "  <tbody>\n",
       "    <tr>\n",
       "      <th>0</th>\n",
       "      <td>microsoft / ML-For-Beginners</td>\n",
       "      <td>12 weeks, 26 lessons, 52 quizzes, classic Mach...</td>\n",
       "      <td>24,824</td>\n",
       "      <td>Jupyter Notebook</td>\n",
       "    </tr>\n",
       "    <tr>\n",
       "      <th>1</th>\n",
       "      <td>ruanyf / weekly</td>\n",
       "      <td>科技爱好者周刊，每周五发布</td>\n",
       "      <td>5,114</td>\n",
       "      <td>Java</td>\n",
       "    </tr>\n",
       "    <tr>\n",
       "      <th>2</th>\n",
       "      <td>DrKLO / Telegram</td>\n",
       "      <td>Telegram for Android source</td>\n",
       "      <td>19,400</td>\n",
       "      <td>Dart</td>\n",
       "    </tr>\n",
       "    <tr>\n",
       "      <th>3</th>\n",
       "      <td>vandadnp / flutter-tips-and-tricks</td>\n",
       "      <td>A Collection of Flutter and Dart Tips and Tricks</td>\n",
       "      <td>1,494</td>\n",
       "      <td>Python</td>\n",
       "    </tr>\n",
       "    <tr>\n",
       "      <th>4</th>\n",
       "      <td>d2l-ai / d2l-zh</td>\n",
       "      <td>《动手学深度学习》：面向中文读者、能运行、可讨论。中英文版被全球200所大学采用教学。</td>\n",
       "      <td>18,146</td>\n",
       "      <td>TeX</td>\n",
       "    </tr>\n",
       "  </tbody>\n",
       "</table>\n",
       "</div>"
      ],
      "text/plain": [
       "                     Repository_title  \\\n",
       "0        microsoft / ML-For-Beginners   \n",
       "1                     ruanyf / weekly   \n",
       "2                    DrKLO / Telegram   \n",
       "3  vandadnp / flutter-tips-and-tricks   \n",
       "4                     d2l-ai / d2l-zh   \n",
       "\n",
       "                              Repository_description Contributors_count  \\\n",
       "0  12 weeks, 26 lessons, 52 quizzes, classic Mach...             24,824   \n",
       "1                                      科技爱好者周刊，每周五发布              5,114   \n",
       "2                        Telegram for Android source             19,400   \n",
       "3   A Collection of Flutter and Dart Tips and Tricks              1,494   \n",
       "4        《动手学深度学习》：面向中文读者、能运行、可讨论。中英文版被全球200所大学采用教学。             18,146   \n",
       "\n",
       "      Language_used  \n",
       "0  Jupyter Notebook  \n",
       "1              Java  \n",
       "2              Dart  \n",
       "3            Python  \n",
       "4               TeX  "
      ]
     },
     "execution_count": 23,
     "metadata": {},
     "output_type": "execute_result"
    }
   ],
   "source": [
    "hub=pd.DataFrame({})\n",
    "hub['Repository_title']=Repository_title[0:5]\n",
    "hub['Repository_description']=Repository_description[0:5]\n",
    "hub['Contributors_count']=Contributors_count[0:5]\n",
    "hub['Language_used']=Language_used[0:5]\n",
    "hub"
   ]
  },
  {
   "cell_type": "markdown",
   "metadata": {},
   "source": [
    "# 6. Scrape the details of top 100 songs on billboard.com.\n",
    "Url = https://www.billboard.com/\n",
    "You have to find the following details:\n",
    "A) Song name\n",
    "B) Artist name\n",
    "C) Last week rank\n",
    "D) Peak rank\n",
    "E) Weeks on board\n",
    "Note: - From the home page you have to click on the charts option then hot 100-page link through code"
   ]
  },
  {
   "cell_type": "code",
   "execution_count": 32,
   "metadata": {},
   "outputs": [],
   "source": [
    "from selenium import webdriver\n",
    "from selenium.webdriver.support.ui import Select"
   ]
  },
  {
   "cell_type": "code",
   "execution_count": 24,
   "metadata": {},
   "outputs": [],
   "source": [
    "driver =webdriver.Chrome(r'C:\\Users\\Om Prakash\\Downloads\\chromedriver_win32/chromedriver.exe')"
   ]
  },
  {
   "cell_type": "code",
   "execution_count": 25,
   "metadata": {},
   "outputs": [],
   "source": [
    "driver=webdriver.Chrome('chromedriver.exe')"
   ]
  },
  {
   "cell_type": "code",
   "execution_count": 26,
   "metadata": {},
   "outputs": [],
   "source": [
    "driver.get(\"https://www.billboard.com/\")"
   ]
  },
  {
   "cell_type": "code",
   "execution_count": 35,
   "metadata": {},
   "outputs": [],
   "source": [
    "Songname=[]\n",
    "Artistname=[]\n",
    "Lastweekrank=[]\n",
    "Peakrank=[]\n",
    "WeeksonboardNote=[]"
   ]
  },
  {
   "cell_type": "code",
   "execution_count": 36,
   "metadata": {},
   "outputs": [
    {
     "data": {
      "text/plain": [
       "[<selenium.webdriver.remote.webelement.WebElement (session=\"33ffab644285866ffdf96d06f39312de\", element=\"d710245e-e7a8-41e3-87d8-c6fdaf11a951\")>,\n",
       " <selenium.webdriver.remote.webelement.WebElement (session=\"33ffab644285866ffdf96d06f39312de\", element=\"8b6b1261-a12b-4262-9c41-1e0355f74ba2\")>,\n",
       " <selenium.webdriver.remote.webelement.WebElement (session=\"33ffab644285866ffdf96d06f39312de\", element=\"ac2c7b2a-db87-43b2-b793-4923b342fb88\")>,\n",
       " <selenium.webdriver.remote.webelement.WebElement (session=\"33ffab644285866ffdf96d06f39312de\", element=\"d763fc18-f548-419a-8842-b81a571bc95e\")>,\n",
       " <selenium.webdriver.remote.webelement.WebElement (session=\"33ffab644285866ffdf96d06f39312de\", element=\"b08c0f31-484b-4512-ba06-7d1bc34c860c\")>]"
      ]
     },
     "execution_count": 36,
     "metadata": {},
     "output_type": "execute_result"
    }
   ],
   "source": [
    "title=driver.find_elements_by_xpath(\"//span[@class='chart-element__information__song text--truncate color--primary']\")\n",
    "title[0:5]"
   ]
  },
  {
   "cell_type": "code",
   "execution_count": 37,
   "metadata": {},
   "outputs": [
    {
     "data": {
      "text/plain": [
       "['Easy On Me', 'Stay', 'Industry Baby', 'Fancy Like', 'Bad Habits']"
      ]
     },
     "execution_count": 37,
     "metadata": {},
     "output_type": "execute_result"
    }
   ],
   "source": [
    "for i in title:\n",
    "    Songname.append(i.text)\n",
    "Songname[0:5]    "
   ]
  },
  {
   "cell_type": "code",
   "execution_count": 39,
   "metadata": {},
   "outputs": [
    {
     "data": {
      "text/plain": [
       "[<selenium.webdriver.remote.webelement.WebElement (session=\"33ffab644285866ffdf96d06f39312de\", element=\"a7631f9e-347e-4217-a38c-f45733e25316\")>,\n",
       " <selenium.webdriver.remote.webelement.WebElement (session=\"33ffab644285866ffdf96d06f39312de\", element=\"f7ef7fa0-9fae-4923-86fb-c46c9f200cd1\")>,\n",
       " <selenium.webdriver.remote.webelement.WebElement (session=\"33ffab644285866ffdf96d06f39312de\", element=\"c618ec74-d74b-496a-8a47-f1859a8ce17a\")>,\n",
       " <selenium.webdriver.remote.webelement.WebElement (session=\"33ffab644285866ffdf96d06f39312de\", element=\"7bc29b60-c6ed-45ae-bac9-93183d605fa5\")>,\n",
       " <selenium.webdriver.remote.webelement.WebElement (session=\"33ffab644285866ffdf96d06f39312de\", element=\"8072274f-fefb-4c2a-8718-214d5c4e00d8\")>]"
      ]
     },
     "execution_count": 39,
     "metadata": {},
     "output_type": "execute_result"
    }
   ],
   "source": [
    "titl=driver.find_elements_by_xpath(\"//span[@class='chart-element__information__artist text--truncate color--secondary']\")\n",
    "title[0:5]"
   ]
  },
  {
   "cell_type": "code",
   "execution_count": 42,
   "metadata": {},
   "outputs": [
    {
     "data": {
      "text/plain": [
       "['Adele',\n",
       " 'The Kid LAROI & Justin Bieber',\n",
       " 'Lil Nas X & Jack Harlow',\n",
       " 'Walker Hayes',\n",
       " 'Ed Sheeran']"
      ]
     },
     "execution_count": 42,
     "metadata": {},
     "output_type": "execute_result"
    }
   ],
   "source": [
    "for i in titl:\n",
    "    Artistname.append(i.text)\n",
    "Artistname[0:5]    "
   ]
  },
  {
   "cell_type": "code",
   "execution_count": 43,
   "metadata": {},
   "outputs": [
    {
     "data": {
      "text/plain": [
       "[<selenium.webdriver.remote.webelement.WebElement (session=\"33ffab644285866ffdf96d06f39312de\", element=\"19185b85-22df-4e2f-ada2-855e41ee4ae5\")>,\n",
       " <selenium.webdriver.remote.webelement.WebElement (session=\"33ffab644285866ffdf96d06f39312de\", element=\"4705363e-b059-45af-ba26-20531f740e87\")>,\n",
       " <selenium.webdriver.remote.webelement.WebElement (session=\"33ffab644285866ffdf96d06f39312de\", element=\"6930359d-3bf7-46cc-bac7-930cd4d1aa80\")>,\n",
       " <selenium.webdriver.remote.webelement.WebElement (session=\"33ffab644285866ffdf96d06f39312de\", element=\"ceb09d64-3793-470e-8e1d-096957ea28e4\")>,\n",
       " <selenium.webdriver.remote.webelement.WebElement (session=\"33ffab644285866ffdf96d06f39312de\", element=\"a03c0b8f-91ab-4f16-8fa4-eda0244fe281\")>]"
      ]
     },
     "execution_count": 43,
     "metadata": {},
     "output_type": "execute_result"
    }
   ],
   "source": [
    "ti=driver.find_elements_by_xpath(\"//div[@class='chart-element__meta text--center color--secondary text--last']\")\n",
    "ti[0:5]"
   ]
  },
  {
   "cell_type": "code",
   "execution_count": 45,
   "metadata": {},
   "outputs": [
    {
     "data": {
      "text/plain": [
       "['1', '2', '3', '4', '5']"
      ]
     },
     "execution_count": 45,
     "metadata": {},
     "output_type": "execute_result"
    }
   ],
   "source": [
    "for i in ti:\n",
    "    Lastweekrank.append(i.text)\n",
    "Lastweekrank[0:5]  "
   ]
  },
  {
   "cell_type": "code",
   "execution_count": 46,
   "metadata": {},
   "outputs": [
    {
     "data": {
      "text/plain": [
       "[<selenium.webdriver.remote.webelement.WebElement (session=\"33ffab644285866ffdf96d06f39312de\", element=\"ecb0d222-a632-4df5-bfc1-944a32e4dba6\")>,\n",
       " <selenium.webdriver.remote.webelement.WebElement (session=\"33ffab644285866ffdf96d06f39312de\", element=\"d623047a-fe6f-4c00-9766-fcc9571c093e\")>,\n",
       " <selenium.webdriver.remote.webelement.WebElement (session=\"33ffab644285866ffdf96d06f39312de\", element=\"05369177-5e1f-42c4-86ec-cf4411c8e0b8\")>,\n",
       " <selenium.webdriver.remote.webelement.WebElement (session=\"33ffab644285866ffdf96d06f39312de\", element=\"79f6facc-d1aa-4f80-9c36-fde5779a5af0\")>,\n",
       " <selenium.webdriver.remote.webelement.WebElement (session=\"33ffab644285866ffdf96d06f39312de\", element=\"4100b419-a3d0-4655-b85d-ae54ffa95141\")>]"
      ]
     },
     "execution_count": 46,
     "metadata": {},
     "output_type": "execute_result"
    }
   ],
   "source": [
    "t=driver.find_elements_by_xpath(\"//div[@class='chart-element__meta text--center color--secondary text--peak']\")\n",
    "t[0:5]"
   ]
  },
  {
   "cell_type": "code",
   "execution_count": 47,
   "metadata": {},
   "outputs": [
    {
     "data": {
      "text/plain": [
       "['1', '1', '1', '3', '2']"
      ]
     },
     "execution_count": 47,
     "metadata": {},
     "output_type": "execute_result"
    }
   ],
   "source": [
    "for i in t:\n",
    "    Peakrank.append(i.text)\n",
    "Peakrank[0:5]    "
   ]
  },
  {
   "cell_type": "code",
   "execution_count": 48,
   "metadata": {},
   "outputs": [
    {
     "data": {
      "text/plain": [
       "[<selenium.webdriver.remote.webelement.WebElement (session=\"33ffab644285866ffdf96d06f39312de\", element=\"1676f479-4c65-44bb-b039-dd8e6a695c75\")>,\n",
       " <selenium.webdriver.remote.webelement.WebElement (session=\"33ffab644285866ffdf96d06f39312de\", element=\"7af96b32-e781-4faf-89b2-e011567e6adf\")>,\n",
       " <selenium.webdriver.remote.webelement.WebElement (session=\"33ffab644285866ffdf96d06f39312de\", element=\"ce06bf0b-f8a8-49bb-a73a-899c8782b9c3\")>,\n",
       " <selenium.webdriver.remote.webelement.WebElement (session=\"33ffab644285866ffdf96d06f39312de\", element=\"f7da770e-d28a-4f92-9212-e11260a45853\")>,\n",
       " <selenium.webdriver.remote.webelement.WebElement (session=\"33ffab644285866ffdf96d06f39312de\", element=\"dd440a08-dee2-421f-8c2d-88c50705531d\")>]"
      ]
     },
     "execution_count": 48,
     "metadata": {},
     "output_type": "execute_result"
    }
   ],
   "source": [
    "th=driver.find_elements_by_xpath(\"//div[@class='chart-element__meta text--center color--secondary text--week']\")\n",
    "th[0:5]"
   ]
  },
  {
   "cell_type": "code",
   "execution_count": 49,
   "metadata": {},
   "outputs": [
    {
     "data": {
      "text/plain": [
       "['3', '16', '14', '19', '18']"
      ]
     },
     "execution_count": 49,
     "metadata": {},
     "output_type": "execute_result"
    }
   ],
   "source": [
    "for i in th:\n",
    "    WeeksonboardNote.append(i.text)\n",
    "WeeksonboardNote[0:5]    "
   ]
  },
  {
   "cell_type": "code",
   "execution_count": 51,
   "metadata": {},
   "outputs": [
    {
     "data": {
      "text/html": [
       "<div>\n",
       "<style scoped>\n",
       "    .dataframe tbody tr th:only-of-type {\n",
       "        vertical-align: middle;\n",
       "    }\n",
       "\n",
       "    .dataframe tbody tr th {\n",
       "        vertical-align: top;\n",
       "    }\n",
       "\n",
       "    .dataframe thead th {\n",
       "        text-align: right;\n",
       "    }\n",
       "</style>\n",
       "<table border=\"1\" class=\"dataframe\">\n",
       "  <thead>\n",
       "    <tr style=\"text-align: right;\">\n",
       "      <th></th>\n",
       "      <th>Song name</th>\n",
       "      <th>Artist name</th>\n",
       "      <th>Last week rank</th>\n",
       "      <th>Peak rank</th>\n",
       "      <th>Weeks on board Note</th>\n",
       "    </tr>\n",
       "  </thead>\n",
       "  <tbody>\n",
       "    <tr>\n",
       "      <th>0</th>\n",
       "      <td>Easy On Me</td>\n",
       "      <td>Adele</td>\n",
       "      <td>1</td>\n",
       "      <td>1</td>\n",
       "      <td>3</td>\n",
       "    </tr>\n",
       "    <tr>\n",
       "      <th>1</th>\n",
       "      <td>Stay</td>\n",
       "      <td>The Kid LAROI &amp; Justin Bieber</td>\n",
       "      <td>2</td>\n",
       "      <td>1</td>\n",
       "      <td>16</td>\n",
       "    </tr>\n",
       "    <tr>\n",
       "      <th>2</th>\n",
       "      <td>Industry Baby</td>\n",
       "      <td>Lil Nas X &amp; Jack Harlow</td>\n",
       "      <td>3</td>\n",
       "      <td>1</td>\n",
       "      <td>14</td>\n",
       "    </tr>\n",
       "    <tr>\n",
       "      <th>3</th>\n",
       "      <td>Fancy Like</td>\n",
       "      <td>Walker Hayes</td>\n",
       "      <td>4</td>\n",
       "      <td>3</td>\n",
       "      <td>19</td>\n",
       "    </tr>\n",
       "    <tr>\n",
       "      <th>4</th>\n",
       "      <td>Bad Habits</td>\n",
       "      <td>Ed Sheeran</td>\n",
       "      <td>5</td>\n",
       "      <td>2</td>\n",
       "      <td>18</td>\n",
       "    </tr>\n",
       "  </tbody>\n",
       "</table>\n",
       "</div>"
      ],
      "text/plain": [
       "       Song name                    Artist name Last week rank Peak rank  \\\n",
       "0     Easy On Me                          Adele              1         1   \n",
       "1           Stay  The Kid LAROI & Justin Bieber              2         1   \n",
       "2  Industry Baby        Lil Nas X & Jack Harlow              3         1   \n",
       "3     Fancy Like                   Walker Hayes              4         3   \n",
       "4     Bad Habits                     Ed Sheeran              5         2   \n",
       "\n",
       "  Weeks on board Note  \n",
       "0                   3  \n",
       "1                  16  \n",
       "2                  14  \n",
       "3                  19  \n",
       "4                  18  "
      ]
     },
     "execution_count": 51,
     "metadata": {},
     "output_type": "execute_result"
    }
   ],
   "source": [
    "songs=pd.DataFrame({})\n",
    "songs['Song name']=Songname[0:5]\n",
    "songs['Artist name']=Artistname[0:5]\n",
    "songs['Last week rank']=Lastweekrank[0:5]\n",
    "songs['Peak rank']=Peakrank[0:5]\n",
    "songs['Weeks on board Note']=WeeksonboardNote[0:5]\n",
    "songs"
   ]
  },
  {
   "cell_type": "markdown",
   "metadata": {},
   "source": [
    "# 7. Scrape the details of Data science recruiters from naukri.com.\n",
    "Url = https://www.naukri.com/\n",
    "You have to find the following details:\n",
    "A) Name\n",
    "B) Designation\n",
    "C) Company\n",
    "D) Skills they hire for\n",
    "E) Location\n",
    "Note: - From naukri.com homepage click on the recruiters option and the on the search pane type Data science and \n",
    "click on search. All this should be done through code"
   ]
  },
  {
   "cell_type": "code",
   "execution_count": 33,
   "metadata": {},
   "outputs": [],
   "source": [
    "import time\n",
    "from selenium.common.exceptions import NoSuchElementException\n",
    "import warnings\n",
    "warnings.filterwarnings('ignore')\n",
    "from selenium.webdriver.support.ui import Select"
   ]
  },
  {
   "cell_type": "code",
   "execution_count": 21,
   "metadata": {},
   "outputs": [],
   "source": [
    "driver =webdriver.Chrome(r'C:\\Users\\Om Prakash\\Downloads\\chromedriver_win32/chromedriver.exe')"
   ]
  },
  {
   "cell_type": "code",
   "execution_count": 22,
   "metadata": {},
   "outputs": [],
   "source": [
    "driver=webdriver.Chrome('chromedriver.exe')"
   ]
  },
  {
   "cell_type": "code",
   "execution_count": 23,
   "metadata": {},
   "outputs": [],
   "source": [
    "driver.get('https://www.naukri.com/')"
   ]
  },
  {
   "cell_type": "code",
   "execution_count": 25,
   "metadata": {},
   "outputs": [],
   "source": [
    "urkl=('https://www.naukri.com/browse-jobs')"
   ]
  },
  {
   "cell_type": "code",
   "execution_count": 26,
   "metadata": {},
   "outputs": [],
   "source": [
    "driver.get(urkl)"
   ]
  },
  {
   "cell_type": "code",
   "execution_count": 43,
   "metadata": {},
   "outputs": [],
   "source": [
    "\n",
    "Designation=[]\n",
    "Company=[]\n",
    "Skillstheyhirefor=[]\n",
    "LocationNote=[]"
   ]
  },
  {
   "cell_type": "code",
   "execution_count": 34,
   "metadata": {},
   "outputs": [],
   "source": [
    "search=driver.find_element_by_xpath(\"//div[@class='mTxt']\").click()"
   ]
  },
  {
   "cell_type": "code",
   "execution_count": 41,
   "metadata": {},
   "outputs": [],
   "source": [
    "search_job=driver.find_element_by_xpath(\"//input[@class='sugInp']\")\n",
    "search_job.send_keys('data scientist')"
   ]
  },
  {
   "cell_type": "code",
   "execution_count": 39,
   "metadata": {},
   "outputs": [],
   "source": [
    "search_jo=driver.find_element_by_xpath(\"//input[@class='sugInp w135']\")\n",
    "search_jo.send_keys('hyderabad')"
   ]
  },
  {
   "cell_type": "code",
   "execution_count": 42,
   "metadata": {},
   "outputs": [],
   "source": [
    "search=driver.find_element_by_xpath(\"//button[@class='qsbSrch blueBtn']\")\n",
    "search.click()"
   ]
  },
  {
   "cell_type": "code",
   "execution_count": 44,
   "metadata": {},
   "outputs": [
    {
     "data": {
      "text/plain": [
       "[<selenium.webdriver.remote.webelement.WebElement (session=\"4c7bc136ac0cfb8928186acefe71681a\", element=\"04c3e0a0-5278-4423-a34c-598145fd707c\")>,\n",
       " <selenium.webdriver.remote.webelement.WebElement (session=\"4c7bc136ac0cfb8928186acefe71681a\", element=\"14954e95-dcfb-4ac3-8492-4a943fbd13d0\")>,\n",
       " <selenium.webdriver.remote.webelement.WebElement (session=\"4c7bc136ac0cfb8928186acefe71681a\", element=\"997633e9-ad64-48b3-b0d7-932f18478ff7\")>,\n",
       " <selenium.webdriver.remote.webelement.WebElement (session=\"4c7bc136ac0cfb8928186acefe71681a\", element=\"23edd256-d440-4496-87ac-7a6428f018ac\")>,\n",
       " <selenium.webdriver.remote.webelement.WebElement (session=\"4c7bc136ac0cfb8928186acefe71681a\", element=\"c5fffcf8-2914-4f55-ad39-b6c7c7de687e\")>]"
      ]
     },
     "execution_count": 44,
     "metadata": {},
     "output_type": "execute_result"
    }
   ],
   "source": [
    "joobs=driver.find_elements_by_xpath(\"//a[@class='title fw500 ellipsis']\")\n",
    "joobs[0:5]"
   ]
  },
  {
   "cell_type": "code",
   "execution_count": 46,
   "metadata": {},
   "outputs": [
    {
     "data": {
      "text/plain": [
       "['Data Scientist',\n",
       " 'Lead Data Scientist',\n",
       " 'Data Scientist',\n",
       " 'Geospatial AI Engineer / Geospatial Data Scientists',\n",
       " 'Senior Data Scientist']"
      ]
     },
     "execution_count": 46,
     "metadata": {},
     "output_type": "execute_result"
    }
   ],
   "source": [
    "for i in joobs:\n",
    "    Designation.append(i.text)\n",
    "Designation[0:5]   "
   ]
  },
  {
   "cell_type": "code",
   "execution_count": 47,
   "metadata": {},
   "outputs": [
    {
     "data": {
      "text/plain": [
       "[<selenium.webdriver.remote.webelement.WebElement (session=\"4c7bc136ac0cfb8928186acefe71681a\", element=\"0206c01e-07c5-4b8f-abfa-d4e84e1bbe90\")>,\n",
       " <selenium.webdriver.remote.webelement.WebElement (session=\"4c7bc136ac0cfb8928186acefe71681a\", element=\"799f9597-aeee-4f6f-aeff-ba5bab0ee3a8\")>,\n",
       " <selenium.webdriver.remote.webelement.WebElement (session=\"4c7bc136ac0cfb8928186acefe71681a\", element=\"5ad69b81-2b81-418e-b897-ba3717bd9bf1\")>,\n",
       " <selenium.webdriver.remote.webelement.WebElement (session=\"4c7bc136ac0cfb8928186acefe71681a\", element=\"2ccfa36c-2287-448a-a533-57dbbcbb4178\")>,\n",
       " <selenium.webdriver.remote.webelement.WebElement (session=\"4c7bc136ac0cfb8928186acefe71681a\", element=\"4c8652ff-d45e-4a32-a137-78882faefa2f\")>]"
      ]
     },
     "execution_count": 47,
     "metadata": {},
     "output_type": "execute_result"
    }
   ],
   "source": [
    "joob=driver.find_elements_by_xpath(\"//a[@class='subTitle ellipsis fleft']\")\n",
    "joob[0:5]"
   ]
  },
  {
   "cell_type": "code",
   "execution_count": 48,
   "metadata": {},
   "outputs": [
    {
     "data": {
      "text/plain": [
       "['Amazon', 'ZF Friedrichshafen AG', 'Cyient', 'Cyient', 'TROR PRIVATE LIMITED']"
      ]
     },
     "execution_count": 48,
     "metadata": {},
     "output_type": "execute_result"
    }
   ],
   "source": [
    " for i in joob:\n",
    "        Company.append(i.text)\n",
    "Company[0:5]       "
   ]
  },
  {
   "cell_type": "code",
   "execution_count": 49,
   "metadata": {},
   "outputs": [
    {
     "data": {
      "text/plain": [
       "[<selenium.webdriver.remote.webelement.WebElement (session=\"4c7bc136ac0cfb8928186acefe71681a\", element=\"eb346511-9733-40bf-98b5-1df1e0d77dfe\")>,\n",
       " <selenium.webdriver.remote.webelement.WebElement (session=\"4c7bc136ac0cfb8928186acefe71681a\", element=\"8d6a6ec3-8cc1-4329-9966-88a5f5ae9700\")>,\n",
       " <selenium.webdriver.remote.webelement.WebElement (session=\"4c7bc136ac0cfb8928186acefe71681a\", element=\"43e53bb4-98be-4607-80d4-63f4ad6c54d4\")>,\n",
       " <selenium.webdriver.remote.webelement.WebElement (session=\"4c7bc136ac0cfb8928186acefe71681a\", element=\"0da769ba-71e2-40fe-a162-59a7057c9a1e\")>,\n",
       " <selenium.webdriver.remote.webelement.WebElement (session=\"4c7bc136ac0cfb8928186acefe71681a\", element=\"9b55bf70-51c4-48f9-896c-49a02164787a\")>]"
      ]
     },
     "execution_count": 49,
     "metadata": {},
     "output_type": "execute_result"
    }
   ],
   "source": [
    "joo=driver.find_elements_by_xpath(\"//ul[@class='tags has-description']\")\n",
    "joo[0:5]"
   ]
  },
  {
   "cell_type": "code",
   "execution_count": 50,
   "metadata": {},
   "outputs": [
    {
     "data": {
      "text/plain": [
       "['Data Science\\nMachine Learning\\nPython\\nTensorflow\\nArtificial Intelligence\\nCaffe\\nKeras\\nDeep Learning',\n",
       " 'IT Skills\\nPython\\nData Science\\nMachine Learning\\nCloud\\nProject Management\\nAzure\\ndeep learning',\n",
       " 'IT Skills\\nPython\\nData Science\\nMachine Learning\\nCloud\\nOracle\\nAngularjs\\nCloud computing',\n",
       " 'ESRI\\nPostgis\\nQgis',\n",
       " 'Natural - language processing\\nNLP\\nML\\nAWS Sage Maker\\nComputer Vision\\nAI\\nR\\nAWS']"
      ]
     },
     "execution_count": 50,
     "metadata": {},
     "output_type": "execute_result"
    }
   ],
   "source": [
    "for i in joo:\n",
    "        Skillstheyhirefor.append(i.text)\n",
    "Skillstheyhirefor[0:5]        "
   ]
  },
  {
   "cell_type": "code",
   "execution_count": 51,
   "metadata": {},
   "outputs": [
    {
     "data": {
      "text/plain": [
       "[<selenium.webdriver.remote.webelement.WebElement (session=\"4c7bc136ac0cfb8928186acefe71681a\", element=\"1202bb57-4837-4f97-980b-f89f43c2331e\")>,\n",
       " <selenium.webdriver.remote.webelement.WebElement (session=\"4c7bc136ac0cfb8928186acefe71681a\", element=\"33d01561-bcbc-4f28-b829-6f702b59da06\")>,\n",
       " <selenium.webdriver.remote.webelement.WebElement (session=\"4c7bc136ac0cfb8928186acefe71681a\", element=\"dbcb457f-9cf8-423b-b13a-3f664efe5744\")>,\n",
       " <selenium.webdriver.remote.webelement.WebElement (session=\"4c7bc136ac0cfb8928186acefe71681a\", element=\"6a21c618-cb28-44e9-801a-56aa9892355c\")>,\n",
       " <selenium.webdriver.remote.webelement.WebElement (session=\"4c7bc136ac0cfb8928186acefe71681a\", element=\"c4c60fc5-3fd6-419e-b1a2-1d5461ba3495\")>]"
      ]
     },
     "execution_count": 51,
     "metadata": {},
     "output_type": "execute_result"
    }
   ],
   "source": [
    "jo=driver.find_elements_by_xpath(\"//span[@class='ellipsis fleft fs12 lh16 ']\")\n",
    "jo[0:5]"
   ]
  },
  {
   "cell_type": "code",
   "execution_count": 52,
   "metadata": {},
   "outputs": [
    {
     "data": {
      "text/plain": [
       "['7-11 Yrs',\n",
       " 'Not disclosed',\n",
       " 'Hyderabad/Secunderabad, Pune, Bangalore/Bengaluru',\n",
       " '5-5 Yrs',\n",
       " 'Not disclosed']"
      ]
     },
     "execution_count": 52,
     "metadata": {},
     "output_type": "execute_result"
    }
   ],
   "source": [
    "for i in jo:\n",
    "    LocationNote.append(i.text)\n",
    "LocationNote[0:5]    "
   ]
  },
  {
   "cell_type": "code",
   "execution_count": 53,
   "metadata": {},
   "outputs": [
    {
     "data": {
      "text/html": [
       "<div>\n",
       "<style scoped>\n",
       "    .dataframe tbody tr th:only-of-type {\n",
       "        vertical-align: middle;\n",
       "    }\n",
       "\n",
       "    .dataframe tbody tr th {\n",
       "        vertical-align: top;\n",
       "    }\n",
       "\n",
       "    .dataframe thead th {\n",
       "        text-align: right;\n",
       "    }\n",
       "</style>\n",
       "<table border=\"1\" class=\"dataframe\">\n",
       "  <thead>\n",
       "    <tr style=\"text-align: right;\">\n",
       "      <th></th>\n",
       "      <th>Designation</th>\n",
       "      <th>Company</th>\n",
       "      <th>Skillstheyhirefor</th>\n",
       "      <th>LocationNote</th>\n",
       "    </tr>\n",
       "  </thead>\n",
       "  <tbody>\n",
       "    <tr>\n",
       "      <th>0</th>\n",
       "      <td>Data Scientist</td>\n",
       "      <td>Amazon</td>\n",
       "      <td>Data Science\\nMachine Learning\\nPython\\nTensor...</td>\n",
       "      <td>7-11 Yrs</td>\n",
       "    </tr>\n",
       "    <tr>\n",
       "      <th>1</th>\n",
       "      <td>Lead Data Scientist</td>\n",
       "      <td>ZF Friedrichshafen AG</td>\n",
       "      <td>IT Skills\\nPython\\nData Science\\nMachine Learn...</td>\n",
       "      <td>Not disclosed</td>\n",
       "    </tr>\n",
       "    <tr>\n",
       "      <th>2</th>\n",
       "      <td>Data Scientist</td>\n",
       "      <td>Cyient</td>\n",
       "      <td>IT Skills\\nPython\\nData Science\\nMachine Learn...</td>\n",
       "      <td>Hyderabad/Secunderabad, Pune, Bangalore/Bengaluru</td>\n",
       "    </tr>\n",
       "    <tr>\n",
       "      <th>3</th>\n",
       "      <td>Geospatial AI Engineer / Geospatial Data Scien...</td>\n",
       "      <td>Cyient</td>\n",
       "      <td>ESRI\\nPostgis\\nQgis</td>\n",
       "      <td>5-5 Yrs</td>\n",
       "    </tr>\n",
       "    <tr>\n",
       "      <th>4</th>\n",
       "      <td>Senior Data Scientist</td>\n",
       "      <td>TROR PRIVATE LIMITED</td>\n",
       "      <td>Natural - language processing\\nNLP\\nML\\nAWS Sa...</td>\n",
       "      <td>Not disclosed</td>\n",
       "    </tr>\n",
       "  </tbody>\n",
       "</table>\n",
       "</div>"
      ],
      "text/plain": [
       "                                         Designation                Company  \\\n",
       "0                                     Data Scientist                 Amazon   \n",
       "1                                Lead Data Scientist  ZF Friedrichshafen AG   \n",
       "2                                     Data Scientist                 Cyient   \n",
       "3  Geospatial AI Engineer / Geospatial Data Scien...                 Cyient   \n",
       "4                              Senior Data Scientist   TROR PRIVATE LIMITED   \n",
       "\n",
       "                                   Skillstheyhirefor  \\\n",
       "0  Data Science\\nMachine Learning\\nPython\\nTensor...   \n",
       "1  IT Skills\\nPython\\nData Science\\nMachine Learn...   \n",
       "2  IT Skills\\nPython\\nData Science\\nMachine Learn...   \n",
       "3                                ESRI\\nPostgis\\nQgis   \n",
       "4  Natural - language processing\\nNLP\\nML\\nAWS Sa...   \n",
       "\n",
       "                                        LocationNote  \n",
       "0                                           7-11 Yrs  \n",
       "1                                      Not disclosed  \n",
       "2  Hyderabad/Secunderabad, Pune, Bangalore/Bengaluru  \n",
       "3                                            5-5 Yrs  \n",
       "4                                      Not disclosed  "
      ]
     },
     "execution_count": 53,
     "metadata": {},
     "output_type": "execute_result"
    }
   ],
   "source": [
    "naukri=pd.DataFrame({})\n",
    "naukri['Designation']=Designation[0:5]\n",
    "naukri['Company']=Company[0:5]\n",
    "naukri['Skillstheyhirefor']=Skillstheyhirefor[0:5]\n",
    "naukri['LocationNote']=LocationNote[0:5]\n",
    "naukri"
   ]
  },
  {
   "cell_type": "markdown",
   "metadata": {},
   "source": [
    "# 8. Scrape the details of Highest selling novels.\n",
    "Url = https://www.theguardian.com/news/datablog/2012/aug/09/best-selling-books-all-time-fifty-shades-grey\u0002compare/\n",
    "You have to find the following details:\n",
    "A) Book name\n",
    "B) Author name\n",
    "C) Volumes sold\n",
    "D) Publisher\n",
    "E) Genre"
   ]
  },
  {
   "cell_type": "code",
   "execution_count": 64,
   "metadata": {},
   "outputs": [],
   "source": [
    "driver =webdriver.Chrome(r'C:\\Users\\Om Prakash\\Downloads\\chromedriver_win32/chromedriver.exe')"
   ]
  },
  {
   "cell_type": "code",
   "execution_count": 65,
   "metadata": {},
   "outputs": [],
   "source": [
    "driver=webdriver.Chrome('chromedriver.exe')"
   ]
  },
  {
   "cell_type": "code",
   "execution_count": 66,
   "metadata": {},
   "outputs": [],
   "source": [
    "driver.get('https://www.theguardian.com/news/datablog/2012/aug/09/best-selling-books-all-time-fifty-shades-grey-compare')"
   ]
  },
  {
   "cell_type": "code",
   "execution_count": 67,
   "metadata": {},
   "outputs": [],
   "source": [
    "wikiur=('https://en.wikipedia.org/wiki/List_of_most-viewed_YouTube_videos')"
   ]
  },
  {
   "cell_type": "code",
   "execution_count": 69,
   "metadata": {},
   "outputs": [],
   "source": [
    "tab=pd.read_html(wikiur)"
   ]
  },
  {
   "cell_type": "code",
   "execution_count": 74,
   "metadata": {},
   "outputs": [],
   "source": [
    "i=requests.get(wikiur)"
   ]
  },
  {
   "cell_type": "code",
   "execution_count": 77,
   "metadata": {},
   "outputs": [],
   "source": [
    "soup=BeautifulSoup(i.text,'html.parser')"
   ]
  },
  {
   "cell_type": "code",
   "execution_count": 90,
   "metadata": {},
   "outputs": [],
   "source": [
    "vide=soup.find('table',{'class':'in-article sortable'})"
   ]
  },
  {
   "cell_type": "code",
   "execution_count": 92,
   "metadata": {},
   "outputs": [],
   "source": [
    "table = BeautifulSoup(i.text).table"
   ]
  },
  {
   "cell_type": "code",
   "execution_count": 107,
   "metadata": {},
   "outputs": [],
   "source": [
    "warm= table.find_all(\"tr\")[1:10]"
   ]
  },
  {
   "cell_type": "code",
   "execution_count": 2,
   "metadata": {},
   "outputs": [
    {
     "ename": "NameError",
     "evalue": "name 'warm' is not defined",
     "output_type": "error",
     "traceback": [
      "\u001b[1;31m---------------------------------------------------------------------------\u001b[0m",
      "\u001b[1;31mNameError\u001b[0m                                 Traceback (most recent call last)",
      "\u001b[1;32m<ipython-input-2-5abfa147e2b8>\u001b[0m in \u001b[0;36m<module>\u001b[1;34m\u001b[0m\n\u001b[0;32m      1\u001b[0m \u001b[0mresult_list\u001b[0m \u001b[1;33m=\u001b[0m \u001b[1;33m[\u001b[0m\u001b[1;33m]\u001b[0m\u001b[1;33m\u001b[0m\u001b[1;33m\u001b[0m\u001b[0m\n\u001b[1;32m----> 2\u001b[1;33m \u001b[1;32mfor\u001b[0m \u001b[0mtr\u001b[0m \u001b[1;32min\u001b[0m \u001b[0mwarm\u001b[0m\u001b[1;33m:\u001b[0m\u001b[1;33m\u001b[0m\u001b[1;33m\u001b[0m\u001b[0m\n\u001b[0m\u001b[0;32m      3\u001b[0m     \u001b[0mtd\u001b[0m \u001b[1;33m=\u001b[0m \u001b[0mtr\u001b[0m\u001b[1;33m.\u001b[0m\u001b[0mfind_all\u001b[0m\u001b[1;33m(\u001b[0m\u001b[1;34m'td'\u001b[0m\u001b[1;33m)\u001b[0m\u001b[1;33m[\u001b[0m\u001b[1;36m1\u001b[0m\u001b[1;33m:\u001b[0m\u001b[1;36m10\u001b[0m\u001b[1;33m]\u001b[0m\u001b[1;33m\u001b[0m\u001b[1;33m\u001b[0m\u001b[0m\n\u001b[0;32m      4\u001b[0m     \u001b[1;32mfor\u001b[0m \u001b[0mdata\u001b[0m \u001b[1;32min\u001b[0m \u001b[0mtd\u001b[0m\u001b[1;33m:\u001b[0m\u001b[1;33m\u001b[0m\u001b[1;33m\u001b[0m\u001b[0m\n\u001b[0;32m      5\u001b[0m         \u001b[0mprint\u001b[0m \u001b[1;33m(\u001b[0m\u001b[0mtd\u001b[0m\u001b[1;33m)\u001b[0m\u001b[1;33m\u001b[0m\u001b[1;33m\u001b[0m\u001b[0m\n",
      "\u001b[1;31mNameError\u001b[0m: name 'warm' is not defined"
     ]
    }
   ],
   "source": [
    "result_list = []\n",
    "for tr in warm:\n",
    "    td = tr.find_all('td')[1:10]\n",
    "    for data in td:\n",
    "        print (td)"
   ]
  },
  {
   "cell_type": "code",
   "execution_count": 109,
   "metadata": {},
   "outputs": [],
   "source": [
    "result_list = []\n",
    "for tr in warm:\n",
    "    td = tr.find_all('td')\n",
    "    row = [i.text for i in td]\n",
    "    result_list.append(row)\n"
   ]
  },
  {
   "cell_type": "code",
   "execution_count": 110,
   "metadata": {},
   "outputs": [
    {
     "name": "stdout",
     "output_type": "stream",
     "text": [
      "[['', 'This article needs additional citations for verification. Please help improve this article by adding citations to reliable sources. Unsourced material may be challenged and removed.Find sources:\\xa0\"List of most-viewed YouTube videos\"\\xa0–\\xa0news\\xa0· newspapers\\xa0· books\\xa0· scholar\\xa0· JSTOR (March 2021) (Learn how and when to remove this template message)'], ['', 'This article needs to be updated. Please help update this article to reflect recent events or newly available information. (July 2021)']]\n"
     ]
    }
   ],
   "source": [
    "print(result_list)"
   ]
  },
  {
   "cell_type": "markdown",
   "metadata": {},
   "source": [
    "# 9. Scrape the details most watched tv series of all time from imdb.com.\n",
    " Url = https://www.imdb.com/list/ls095964455/\n",
    "You have to find the following details:\n",
    "A) Name\n",
    "B) Year span\n",
    "C) Genre\n",
    "D) Run time\n",
    "E) Ratings\n",
    "F) Votes"
   ]
  },
  {
   "cell_type": "code",
   "execution_count": 7,
   "metadata": {},
   "outputs": [],
   "source": [
    "driver =webdriver.Chrome(r'C:\\Users\\Om Prakash\\Downloads\\chromedriver_win32/chromedriver.exe')"
   ]
  },
  {
   "cell_type": "code",
   "execution_count": 8,
   "metadata": {},
   "outputs": [],
   "source": [
    "driver=webdriver.Chrome('chromedriver.exe')"
   ]
  },
  {
   "cell_type": "code",
   "execution_count": 9,
   "metadata": {},
   "outputs": [],
   "source": [
    "driver.get('https://www.imdb.com/list/ls095964455/')"
   ]
  },
  {
   "cell_type": "code",
   "execution_count": 13,
   "metadata": {},
   "outputs": [],
   "source": [
    "Name=[]\n",
    "Yearspan=[]\n",
    "Genre=[]\n",
    "Runtime=[]\n",
    "Ratings=[]\n",
    "Votes=[]"
   ]
  },
  {
   "cell_type": "code",
   "execution_count": 10,
   "metadata": {},
   "outputs": [
    {
     "data": {
      "text/plain": [
       "[<selenium.webdriver.remote.webelement.WebElement (session=\"2c192230c2e46b702bcdd09ac0e548b2\", element=\"1e0f7b8f-718f-443f-9322-ce976d7016dd\")>,\n",
       " <selenium.webdriver.remote.webelement.WebElement (session=\"2c192230c2e46b702bcdd09ac0e548b2\", element=\"8041dc72-399c-4760-a4e3-6c5702b348cf\")>,\n",
       " <selenium.webdriver.remote.webelement.WebElement (session=\"2c192230c2e46b702bcdd09ac0e548b2\", element=\"5806a379-2fc4-42fe-bd55-b13ce94c2cff\")>,\n",
       " <selenium.webdriver.remote.webelement.WebElement (session=\"2c192230c2e46b702bcdd09ac0e548b2\", element=\"3004135d-4466-42a2-b05d-ebd08fb233f8\")>,\n",
       " <selenium.webdriver.remote.webelement.WebElement (session=\"2c192230c2e46b702bcdd09ac0e548b2\", element=\"ae11fd88-d9fc-477e-9096-938eb1f37029\")>]"
      ]
     },
     "execution_count": 10,
     "metadata": {},
     "output_type": "execute_result"
    }
   ],
   "source": [
    "location_tags=driver.find_elements_by_xpath(\"//h3[@class='lister-item-header']\")\n",
    "location_tags[0:5]"
   ]
  },
  {
   "cell_type": "code",
   "execution_count": 15,
   "metadata": {},
   "outputs": [
    {
     "data": {
      "text/plain": [
       "['1. Game of Thrones (2011–2019)',\n",
       " '2. Stranger Things (2016– )',\n",
       " '3. The Walking Dead (2010–2022)',\n",
       " '4. 13 Reasons Why (2017–2020)',\n",
       " '5. The 100 (2014–2020)']"
      ]
     },
     "execution_count": 15,
     "metadata": {},
     "output_type": "execute_result"
    }
   ],
   "source": [
    "for i in location_tags:\n",
    "    Name.append(i.text)\n",
    "Name[0:5]   "
   ]
  },
  {
   "cell_type": "code",
   "execution_count": 17,
   "metadata": {},
   "outputs": [
    {
     "data": {
      "text/plain": [
       "[<selenium.webdriver.remote.webelement.WebElement (session=\"2c192230c2e46b702bcdd09ac0e548b2\", element=\"b1aea7e2-c95f-4b22-9949-dd065f80ec2d\")>,\n",
       " <selenium.webdriver.remote.webelement.WebElement (session=\"2c192230c2e46b702bcdd09ac0e548b2\", element=\"61274218-b7b0-4e2c-86d8-1bcc52474417\")>,\n",
       " <selenium.webdriver.remote.webelement.WebElement (session=\"2c192230c2e46b702bcdd09ac0e548b2\", element=\"6c6d66ba-d71a-4e0f-abcd-725771052233\")>,\n",
       " <selenium.webdriver.remote.webelement.WebElement (session=\"2c192230c2e46b702bcdd09ac0e548b2\", element=\"1edb55bd-027a-4bdc-9cd3-854f171c0fe1\")>,\n",
       " <selenium.webdriver.remote.webelement.WebElement (session=\"2c192230c2e46b702bcdd09ac0e548b2\", element=\"f524dd77-2eb4-4e56-bee0-4e6d10648a67\")>]"
      ]
     },
     "execution_count": 17,
     "metadata": {},
     "output_type": "execute_result"
    }
   ],
   "source": [
    "location_tag=driver.find_elements_by_xpath(\"//span[@class='lister-item-year text-muted unbold']\")\n",
    "location_tag[0:5]"
   ]
  },
  {
   "cell_type": "code",
   "execution_count": 18,
   "metadata": {},
   "outputs": [
    {
     "data": {
      "text/plain": [
       "['(2011–2019)', '(2016– )', '(2010–2022)', '(2017–2020)', '(2014–2020)']"
      ]
     },
     "execution_count": 18,
     "metadata": {},
     "output_type": "execute_result"
    }
   ],
   "source": [
    "for i in location_tag:\n",
    "    Yearspan.append(i.text)\n",
    "Yearspan[0:5]    "
   ]
  },
  {
   "cell_type": "code",
   "execution_count": 19,
   "metadata": {},
   "outputs": [
    {
     "data": {
      "text/plain": [
       "[<selenium.webdriver.remote.webelement.WebElement (session=\"2c192230c2e46b702bcdd09ac0e548b2\", element=\"92eafa64-af00-4bf4-beca-c4801e24cf86\")>,\n",
       " <selenium.webdriver.remote.webelement.WebElement (session=\"2c192230c2e46b702bcdd09ac0e548b2\", element=\"81b6ffe3-a56f-4ce0-b2b2-a986cff09df5\")>,\n",
       " <selenium.webdriver.remote.webelement.WebElement (session=\"2c192230c2e46b702bcdd09ac0e548b2\", element=\"632bd484-34ef-409c-b62e-45f9b9218d05\")>,\n",
       " <selenium.webdriver.remote.webelement.WebElement (session=\"2c192230c2e46b702bcdd09ac0e548b2\", element=\"b05baa70-dac3-48b1-bce8-6e466ae8c3cd\")>,\n",
       " <selenium.webdriver.remote.webelement.WebElement (session=\"2c192230c2e46b702bcdd09ac0e548b2\", element=\"4d0aa8f9-2d05-488a-a87e-1050c54523a9\")>]"
      ]
     },
     "execution_count": 19,
     "metadata": {},
     "output_type": "execute_result"
    }
   ],
   "source": [
    "location_ta=driver.find_elements_by_xpath(\"//span[@class='genre']\")\n",
    "location_ta[0:5]"
   ]
  },
  {
   "cell_type": "code",
   "execution_count": 20,
   "metadata": {},
   "outputs": [
    {
     "data": {
      "text/plain": [
       "['Action, Adventure, Drama',\n",
       " 'Drama, Fantasy, Horror',\n",
       " 'Drama, Horror, Thriller',\n",
       " 'Drama, Mystery, Thriller',\n",
       " 'Drama, Mystery, Sci-Fi']"
      ]
     },
     "execution_count": 20,
     "metadata": {},
     "output_type": "execute_result"
    }
   ],
   "source": [
    "for i in location_ta:\n",
    "    Genre.append(i.text)\n",
    "Genre[0:5]    "
   ]
  },
  {
   "cell_type": "code",
   "execution_count": 22,
   "metadata": {},
   "outputs": [
    {
     "data": {
      "text/plain": [
       "[<selenium.webdriver.remote.webelement.WebElement (session=\"2c192230c2e46b702bcdd09ac0e548b2\", element=\"02b8409e-c0b4-424b-9f54-94a8f4b09417\")>,\n",
       " <selenium.webdriver.remote.webelement.WebElement (session=\"2c192230c2e46b702bcdd09ac0e548b2\", element=\"d40a7cc6-7e35-4255-b50e-5a0d6200c31d\")>,\n",
       " <selenium.webdriver.remote.webelement.WebElement (session=\"2c192230c2e46b702bcdd09ac0e548b2\", element=\"a7a35d3f-8fec-472e-8c4d-a376e7efcca8\")>,\n",
       " <selenium.webdriver.remote.webelement.WebElement (session=\"2c192230c2e46b702bcdd09ac0e548b2\", element=\"93506b6e-7f00-4808-8bca-c358ee183d79\")>,\n",
       " <selenium.webdriver.remote.webelement.WebElement (session=\"2c192230c2e46b702bcdd09ac0e548b2\", element=\"11a860d0-d8eb-4935-8016-6b5252121604\")>]"
      ]
     },
     "execution_count": 22,
     "metadata": {},
     "output_type": "execute_result"
    }
   ],
   "source": [
    "location_t=driver.find_elements_by_xpath(\"//span[@class='runtime']\")\n",
    "location_t[0:5]"
   ]
  },
  {
   "cell_type": "code",
   "execution_count": 23,
   "metadata": {},
   "outputs": [
    {
     "data": {
      "text/plain": [
       "['57 min', '51 min', '44 min', '60 min', '43 min']"
      ]
     },
     "execution_count": 23,
     "metadata": {},
     "output_type": "execute_result"
    }
   ],
   "source": [
    "for i in location_t:\n",
    "    Runtime.append(i.text)\n",
    "Runtime[0:5]    "
   ]
  },
  {
   "cell_type": "code",
   "execution_count": 38,
   "metadata": {},
   "outputs": [
    {
     "data": {
      "text/plain": [
       "[<selenium.webdriver.remote.webelement.WebElement (session=\"2c192230c2e46b702bcdd09ac0e548b2\", element=\"fa581d72-1caf-436a-bbfb-bc237042d160\")>,\n",
       " <selenium.webdriver.remote.webelement.WebElement (session=\"2c192230c2e46b702bcdd09ac0e548b2\", element=\"f105666c-0234-44f3-8bd9-78992a320b5e\")>,\n",
       " <selenium.webdriver.remote.webelement.WebElement (session=\"2c192230c2e46b702bcdd09ac0e548b2\", element=\"99b22e6e-cc09-4c02-9f4b-0404a0314e38\")>,\n",
       " <selenium.webdriver.remote.webelement.WebElement (session=\"2c192230c2e46b702bcdd09ac0e548b2\", element=\"5dd4938b-1b2f-4890-bb6d-68bb4a464a00\")>,\n",
       " <selenium.webdriver.remote.webelement.WebElement (session=\"2c192230c2e46b702bcdd09ac0e548b2\", element=\"bbf321b6-8280-43a8-aa7a-14b8aea2a58e\")>]"
      ]
     },
     "execution_count": 38,
     "metadata": {},
     "output_type": "execute_result"
    }
   ],
   "source": [
    "location=driver.find_elements_by_xpath(\"//div[@class='ipl-rating-star small']\")\n",
    "location[0:5]"
   ]
  },
  {
   "cell_type": "code",
   "execution_count": 39,
   "metadata": {},
   "outputs": [
    {
     "data": {
      "text/plain": [
       "['9.2', '', 'Rate', '', '']"
      ]
     },
     "execution_count": 39,
     "metadata": {},
     "output_type": "execute_result"
    }
   ],
   "source": [
    "for i in location:\n",
    "    Ratings.append(i.text)\n",
    "Ratings[0:5]    "
   ]
  },
  {
   "cell_type": "code",
   "execution_count": 34,
   "metadata": {},
   "outputs": [
    {
     "data": {
      "text/plain": [
       "[<selenium.webdriver.remote.webelement.WebElement (session=\"2c192230c2e46b702bcdd09ac0e548b2\", element=\"997288e3-26d4-42b4-b4ae-e535168f4fed\")>,\n",
       " <selenium.webdriver.remote.webelement.WebElement (session=\"2c192230c2e46b702bcdd09ac0e548b2\", element=\"684b39f4-f0ba-450e-bd4b-10f9b671ac79\")>,\n",
       " <selenium.webdriver.remote.webelement.WebElement (session=\"2c192230c2e46b702bcdd09ac0e548b2\", element=\"12c6fe40-d2a8-4af2-9e48-61d2722650c7\")>,\n",
       " <selenium.webdriver.remote.webelement.WebElement (session=\"2c192230c2e46b702bcdd09ac0e548b2\", element=\"0eb00e9b-3b48-46f7-a61f-d532aff61b0c\")>,\n",
       " <selenium.webdriver.remote.webelement.WebElement (session=\"2c192230c2e46b702bcdd09ac0e548b2\", element=\"734eec55-b0a8-4f90-bb6a-5272361df1a4\")>]"
      ]
     },
     "execution_count": 34,
     "metadata": {},
     "output_type": "execute_result"
    }
   ],
   "source": [
    "locatio=driver.find_elements_by_xpath(\"//p[@class='text-muted text-small']\")\n",
    "locatio[0:5]"
   ]
  },
  {
   "cell_type": "code",
   "execution_count": 35,
   "metadata": {},
   "outputs": [
    {
     "data": {
      "text/plain": [
       "['TV-MA | 57 min | Action, Adventure, Drama',\n",
       " 'Stars: Emilia Clarke, Peter Dinklage, Kit Harington, Lena Headey',\n",
       " 'Votes: 1,895,350',\n",
       " 'TV-14 | 51 min | Drama, Fantasy, Horror',\n",
       " 'Stars: Millie Bobby Brown, Finn Wolfhard, Winona Ryder, David Harbour']"
      ]
     },
     "execution_count": 35,
     "metadata": {},
     "output_type": "execute_result"
    }
   ],
   "source": [
    "for i in locatio:\n",
    "    Votes.append(i.text)\n",
    "Votes[0:5]    "
   ]
  },
  {
   "cell_type": "code",
   "execution_count": 37,
   "metadata": {},
   "outputs": [
    {
     "data": {
      "text/html": [
       "<div>\n",
       "<style scoped>\n",
       "    .dataframe tbody tr th:only-of-type {\n",
       "        vertical-align: middle;\n",
       "    }\n",
       "\n",
       "    .dataframe tbody tr th {\n",
       "        vertical-align: top;\n",
       "    }\n",
       "\n",
       "    .dataframe thead th {\n",
       "        text-align: right;\n",
       "    }\n",
       "</style>\n",
       "<table border=\"1\" class=\"dataframe\">\n",
       "  <thead>\n",
       "    <tr style=\"text-align: right;\">\n",
       "      <th></th>\n",
       "      <th>Name</th>\n",
       "      <th>Yearspan</th>\n",
       "      <th>Genre</th>\n",
       "      <th>Runtime</th>\n",
       "      <th>Ratings</th>\n",
       "      <th>Votes</th>\n",
       "    </tr>\n",
       "  </thead>\n",
       "  <tbody>\n",
       "    <tr>\n",
       "      <th>0</th>\n",
       "      <td>1. Game of Thrones (2011–2019)</td>\n",
       "      <td>(2011–2019)</td>\n",
       "      <td>Action, Adventure, Drama</td>\n",
       "      <td>57 min</td>\n",
       "      <td>9.2</td>\n",
       "      <td>TV-MA | 57 min | Action, Adventure, Drama</td>\n",
       "    </tr>\n",
       "    <tr>\n",
       "      <th>1</th>\n",
       "      <td>2. Stranger Things (2016– )</td>\n",
       "      <td>(2016– )</td>\n",
       "      <td>Drama, Fantasy, Horror</td>\n",
       "      <td>51 min</td>\n",
       "      <td></td>\n",
       "      <td>Stars: Emilia Clarke, Peter Dinklage, Kit Hari...</td>\n",
       "    </tr>\n",
       "    <tr>\n",
       "      <th>2</th>\n",
       "      <td>3. The Walking Dead (2010–2022)</td>\n",
       "      <td>(2010–2022)</td>\n",
       "      <td>Drama, Horror, Thriller</td>\n",
       "      <td>44 min</td>\n",
       "      <td>Rate</td>\n",
       "      <td>Votes: 1,895,350</td>\n",
       "    </tr>\n",
       "    <tr>\n",
       "      <th>3</th>\n",
       "      <td>4. 13 Reasons Why (2017–2020)</td>\n",
       "      <td>(2017–2020)</td>\n",
       "      <td>Drama, Mystery, Thriller</td>\n",
       "      <td>60 min</td>\n",
       "      <td></td>\n",
       "      <td>TV-14 | 51 min | Drama, Fantasy, Horror</td>\n",
       "    </tr>\n",
       "    <tr>\n",
       "      <th>4</th>\n",
       "      <td>5. The 100 (2014–2020)</td>\n",
       "      <td>(2014–2020)</td>\n",
       "      <td>Drama, Mystery, Sci-Fi</td>\n",
       "      <td>43 min</td>\n",
       "      <td></td>\n",
       "      <td>Stars: Millie Bobby Brown, Finn Wolfhard, Wino...</td>\n",
       "    </tr>\n",
       "  </tbody>\n",
       "</table>\n",
       "</div>"
      ],
      "text/plain": [
       "                              Name     Yearspan                     Genre  \\\n",
       "0   1. Game of Thrones (2011–2019)  (2011–2019)  Action, Adventure, Drama   \n",
       "1      2. Stranger Things (2016– )     (2016– )    Drama, Fantasy, Horror   \n",
       "2  3. The Walking Dead (2010–2022)  (2010–2022)   Drama, Horror, Thriller   \n",
       "3    4. 13 Reasons Why (2017–2020)  (2017–2020)  Drama, Mystery, Thriller   \n",
       "4           5. The 100 (2014–2020)  (2014–2020)    Drama, Mystery, Sci-Fi   \n",
       "\n",
       "  Runtime Ratings                                              Votes  \n",
       "0  57 min     9.2          TV-MA | 57 min | Action, Adventure, Drama  \n",
       "1  51 min          Stars: Emilia Clarke, Peter Dinklage, Kit Hari...  \n",
       "2  44 min    Rate                                   Votes: 1,895,350  \n",
       "3  60 min                    TV-14 | 51 min | Drama, Fantasy, Horror  \n",
       "4  43 min          Stars: Millie Bobby Brown, Finn Wolfhard, Wino...  "
      ]
     },
     "execution_count": 37,
     "metadata": {},
     "output_type": "execute_result"
    }
   ],
   "source": [
    "movies=pd.DataFrame({})\n",
    "movies['Name']=Name[0:5]\n",
    "movies['Yearspan']=Yearspan[0:5]\n",
    "movies['Genre']=Genre[0:5]\n",
    "movies['Runtime']=Runtime[0:5]\n",
    "movies['Ratings']=Ratings[0:5]\n",
    "movies['Votes']=Votes[0:5]\n",
    "movies"
   ]
  },
  {
   "cell_type": "markdown",
   "metadata": {},
   "source": [
    "# 10. Details of Datasets from UCI machine learning repositories.\n",
    " Url = https://archive.ics.uci.edu/\n",
    " You have to find the following details:\n",
    "A) Dataset name\n",
    "B) Data type\n",
    "C) Task\n",
    "D) Attribute type\n",
    "E) No of instances\n",
    "F) No of attribute\n",
    "G) Year\n",
    "Note: - from the home page you have to go to the Show All Dataset page through code"
   ]
  },
  {
   "cell_type": "code",
   "execution_count": 54,
   "metadata": {},
   "outputs": [],
   "source": [
    "import urllib3 \n",
    "import urllib.request\n",
    "from bs4 import BeautifulSoup\n",
    "import pandas as pd\n",
    "import requests\n",
    "import csv\n",
    "import re\n",
    "from pprint import pprint\n"
   ]
  },
  {
   "cell_type": "code",
   "execution_count": 60,
   "metadata": {},
   "outputs": [],
   "source": [
    "driver =webdriver.Chrome(r'C:\\Users\\Om Prakash\\Downloads\\chromedriver_win32/chromedriver.exe')"
   ]
  },
  {
   "cell_type": "code",
   "execution_count": 61,
   "metadata": {},
   "outputs": [],
   "source": [
    "driver=webdriver.Chrome('chromedriver.exe')"
   ]
  },
  {
   "cell_type": "code",
   "execution_count": 62,
   "metadata": {},
   "outputs": [],
   "source": [
    "driver.get('https://archive.ics.uci.edu')"
   ]
  },
  {
   "cell_type": "code",
   "execution_count": 63,
   "metadata": {},
   "outputs": [],
   "source": [
    "Datasetname=[]\n",
    "Datatype=[]\n",
    "Task=[]\n",
    "Attributtype=[]\n",
    "Noofinstances=[]\n",
    "Noofattribute=[]\n",
    "YearNote=[]"
   ]
  },
  {
   "cell_type": "code",
   "execution_count": 65,
   "metadata": {},
   "outputs": [],
   "source": [
    "search=driver.find_element_by_xpath(\"//input[@type='text']\")\n",
    "search.send_keys('Show All Dataset')"
   ]
  },
  {
   "cell_type": "code",
   "execution_count": 66,
   "metadata": {},
   "outputs": [],
   "source": [
    "searche=driver.find_element_by_xpath(\"//input[@type='submit']\")\n",
    "searche.click()"
   ]
  },
  {
   "cell_type": "code",
   "execution_count": 67,
   "metadata": {},
   "outputs": [],
   "source": [
    "searche=driver.find_element_by_xpath(\"//h3[@class='LC20lb DKV0Md']\").click()"
   ]
  },
  {
   "cell_type": "code",
   "execution_count": 68,
   "metadata": {},
   "outputs": [],
   "source": [
    "uyl=('https://archive.ics.uci.edu/ml/datasets.php')"
   ]
  },
  {
   "cell_type": "code",
   "execution_count": 69,
   "metadata": {},
   "outputs": [],
   "source": [
    "driver.get(uyl)"
   ]
  },
  {
   "cell_type": "code",
   "execution_count": 74,
   "metadata": {},
   "outputs": [],
   "source": [
    "r = requests.get(uyl)"
   ]
  },
  {
   "cell_type": "code",
   "execution_count": 75,
   "metadata": {},
   "outputs": [
    {
     "name": "stdout",
     "output_type": "stream",
     "text": [
      "b'!DOCTYPE HTML PUBLIC \\\\\"-//W3C//DTD HTML 4.01 Transitional//EN\\\\\">\\n<html>\\n<head>\\n<title>UCI Machine L'\n"
     ]
    }
   ],
   "source": [
    "print(r.content[1: 100])"
   ]
  },
  {
   "cell_type": "code",
   "execution_count": 78,
   "metadata": {},
   "outputs": [
    {
     "ename": "IndexError",
     "evalue": "list index out of range",
     "output_type": "error",
     "traceback": [
      "\u001b[1;31m---------------------------------------------------------------------------\u001b[0m",
      "\u001b[1;31mIndexError\u001b[0m                                Traceback (most recent call last)",
      "\u001b[1;32m<ipython-input-78-dc3e6d43dcc9>\u001b[0m in \u001b[0;36m<module>\u001b[1;34m\u001b[0m\n\u001b[1;32m----> 1\u001b[1;33m \u001b[0mframe_ref\u001b[0m \u001b[1;33m=\u001b[0m \u001b[0mdriver\u001b[0m\u001b[1;33m.\u001b[0m\u001b[0mfind_elements_by_tag_name\u001b[0m\u001b[1;33m(\u001b[0m\u001b[1;34m\"Abalone\"\u001b[0m\u001b[1;33m)\u001b[0m\u001b[1;33m[\u001b[0m\u001b[1;36m1\u001b[0m\u001b[1;33m]\u001b[0m\u001b[1;33m\u001b[0m\u001b[1;33m\u001b[0m\u001b[0m\n\u001b[0m\u001b[0;32m      2\u001b[0m \u001b[0miframe\u001b[0m \u001b[1;33m=\u001b[0m \u001b[0mdriver\u001b[0m\u001b[1;33m.\u001b[0m\u001b[0mswitch_to\u001b[0m\u001b[1;33m.\u001b[0m\u001b[0mframe\u001b[0m\u001b[1;33m(\u001b[0m\u001b[0mframe_ref\u001b[0m\u001b[1;33m)\u001b[0m\u001b[1;33m\u001b[0m\u001b[1;33m\u001b[0m\u001b[0m\n",
      "\u001b[1;31mIndexError\u001b[0m: list index out of range"
     ]
    }
   ],
   "source": [
    "element = driver.find_element_by_name(\"Abalone\")\n",
    "element.send_keys(custId)"
   ]
  },
  {
   "cell_type": "code",
   "execution_count": null,
   "metadata": {},
   "outputs": [],
   "source": []
  }
 ],
 "metadata": {
  "kernelspec": {
   "display_name": "Python 3",
   "language": "python",
   "name": "python3"
  },
  "language_info": {
   "codemirror_mode": {
    "name": "ipython",
    "version": 3
   },
   "file_extension": ".py",
   "mimetype": "text/x-python",
   "name": "python",
   "nbconvert_exporter": "python",
   "pygments_lexer": "ipython3",
   "version": "3.8.5"
  }
 },
 "nbformat": 4,
 "nbformat_minor": 4
}
